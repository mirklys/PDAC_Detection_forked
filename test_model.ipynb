{
 "cells": [
  {
   "cell_type": "code",
   "execution_count": 2,
   "id": "c9b75fbc",
   "metadata": {},
   "outputs": [],
   "source": [
    "import os\n",
    "import json\n",
    "import pickle\n",
    "\n",
    "import numpy as np\n",
    "import polars as pl\n",
    "import nibabel as nib\n",
    "import seaborn as sns\n",
    "from matplotlib import pyplot as plt\n",
    "from matplotlib.colors import ListedColormap, Normalize\n",
    "\n",
    "from sklearn.metrics import auc\n"
   ]
  },
  {
   "cell_type": "markdown",
   "id": "b1d32225",
   "metadata": {},
   "source": [
    "## Testing labels"
   ]
  },
  {
   "cell_type": "markdown",
   "id": "56eaf030",
   "metadata": {},
   "source": [
    "## Run the tester"
   ]
  },
  {
   "cell_type": "code",
   "execution_count": null,
   "id": "86b75d98",
   "metadata": {},
   "outputs": [],
   "source": []
  },
  {
   "cell_type": "code",
   "execution_count": null,
   "id": "7509c44f",
   "metadata": {},
   "outputs": [],
   "source": [
    "  # Make the script executable"
   ]
  },
  {
   "cell_type": "code",
   "execution_count": null,
   "id": "7bd90ec7",
   "metadata": {},
   "outputs": [],
   "source": []
  },
  {
   "cell_type": "code",
   "execution_count": null,
   "id": "9da65216",
   "metadata": {},
   "outputs": [],
   "source": [
    "! bash baseline_test.sh"
   ]
  },
  {
   "cell_type": "code",
   "execution_count": 2,
   "id": "23cac1e7",
   "metadata": {},
   "outputs": [],
   "source": [
    "plt.style.use(\"seaborn-v0_8-white\")"
   ]
  },
  {
   "cell_type": "code",
   "execution_count": null,
   "id": "3421188e",
   "metadata": {},
   "outputs": [],
   "source": [
    "ROOT_DIR = os.getcwd() #\n",
    "WORKSPACE_DIR = os.path.join(ROOT_DIR, \"workspace\", \"test\")"
   ]
  },
  {
   "cell_type": "code",
   "execution_count": null,
   "id": "e3b96fef",
   "metadata": {},
   "outputs": [],
   "source": [
    "IMAGE_DIR = os.path.join(WORKSPACE_DIR, \"imagesTs\")\n",
    "TRUE_LABEL_DIR = os.path.join(WORKSPACE_DIR, \"labelsTs\", \"true\")\n",
    "PREDICTED_RESULTS_DIR = os.path.join(WORKSPACE_DIR, \"labelsTs\", \"predicted\")\n",
    "PREDICTED_MAP_DIR = os.path.join(PREDICTED_RESULTS_DIR, \"pdac-detection-map\")"
   ]
  },
  {
   "cell_type": "code",
   "execution_count": null,
   "id": "e0c3c190",
   "metadata": {},
   "outputs": [],
   "source": [
    "PDAC_LABEL_ID = 1\n",
    "LABEL_ANNOTATIONS = {\n",
    "    0: \"Background\",\n",
    "    1: \"PDAC lesion\",\n",
    "    2: \"Veins\",\n",
    "    3: \"Arteries\",\n",
    "    4: \"Pancreas parenchyma\",\n",
    "    5: \"Pancreatic duct\",\n",
    "    6: \"Common bile duct\",\n",
    "}\n"
   ]
  },
  {
   "cell_type": "code",
   "execution_count": null,
   "id": "47ffb4d0",
   "metadata": {},
   "outputs": [],
   "source": [
    "RESULTS_DIR = os.path.join(ROOT_DIR, \"results\")\n",
    "os.makedirs(RESULTS_DIR, exist_ok=True) \n",
    "LABEL_DISTRIBUTIONS_PATH = os.path.join(RESULTS_DIR, \"label_distributions.pkl\")"
   ]
  },
  {
   "cell_type": "code",
   "execution_count": null,
   "id": "902da0da",
   "metadata": {},
   "outputs": [],
   "source": [
    "pdac_likelihood_json_path = os.path.join(PREDICTED_RESULTS_DIR, \"pdac-likelihood.json\")\n",
    "try:\n",
    "    with open(pdac_likelihood_json_path, \"r\") as f:\n",
    "        data = json.load(f)\n",
    "except FileNotFoundError:\n",
    "    print(f\"Error: PDAC likelihood JSON file not found at {pdac_likelihood_json_path}\")\n",
    "    # Handle error appropriately, e.g., exit or use dummy data\n",
    "    data = {}\n",
    "\n",
    "# Convert the dict to a list of dicts and create a DataFrame\n",
    "rows = [{\"id\": key, \"pdac_likelihood\": value} for key, value in data.items()]\n",
    "predicted_pdac_scores_df = pl.DataFrame(\n",
    "    rows,\n",
    "    schema={\n",
    "        \"id\": pl.Utf8,\n",
    "        \"pdac_likelihood\": pl.Float64,\n",
    "    },\n",
    ")"
   ]
  },
  {
   "cell_type": "code",
   "execution_count": null,
   "id": "3d7eaf14",
   "metadata": {},
   "outputs": [],
   "source": [
    "def get_label_distribution_for_image(label_filename: str, true_label_dir: str) -> dict:\n",
    "    \"\"\"\n",
    "    Calculates the distribution of labels for a given NIfTI label image file.\n",
    "\n",
    "    Args:\n",
    "        label_filename: The filename of the label image (e.g., \"100006_00001.nii.gz\").\n",
    "        true_label_dir: The directory containing the true label files.\n",
    "\n",
    "    Returns:\n",
    "        A dictionary mapping label IDs to their counts.\n",
    "    \"\"\"\n",
    "    try:\n",
    "        label_image_path = os.path.join(true_label_dir, label_filename)\n",
    "        label_image = nib.load(label_image_path)\n",
    "        data_arr = np.asanyarray(label_image.dataobj)\n",
    "        unique_labels, counts = np.unique(data_arr, return_counts=True)\n",
    "        return {int(label): int(count) for label, count in zip(unique_labels, counts)}\n",
    "    except FileNotFoundError:\n",
    "        print(f\"Warning: Label file not found at {label_image_path}. Returning empty distribution.\")\n",
    "        return {}\n",
    "    except Exception as e:\n",
    "        print(f\"Warning: Error processing {label_filename}: {e}. Returning empty distribution.\")\n",
    "        return {}\n",
    "\n",
    "def get_image_data(image_filename: str, image_dir: str) -> np.ndarray | None:\n",
    "    \"\"\"\n",
    "    Loads the data array from a NIfTI image file.\n",
    "\n",
    "    Args:\n",
    "        image_filename: The filename of the image (e.g., \"100006_00001_0000.nii.gz\").\n",
    "        image_dir: The directory containing the image files.\n",
    "\n",
    "    Returns:\n",
    "        A NumPy array containing the image data, or None if an error occurs.\n",
    "    \"\"\"\n",
    "    try:\n",
    "        image_path = os.path.join(image_dir, image_filename)\n",
    "        image = nib.load(image_path)\n",
    "        return np.asanyarray(image.dataobj)\n",
    "    except FileNotFoundError:\n",
    "        print(f\"Warning: Image file not found at {image_path}. Returning None.\")\n",
    "        return None\n",
    "    except Exception as e:\n",
    "        print(f\"Warning: Error loading image {image_filename}: {e}. Returning None.\")\n",
    "        return None\n",
    "\n",
    "def check_pdac_lesion_presence(label_filename: str, true_label_dir: str, pdac_label_id: int) -> bool:\n",
    "    \"\"\"Checks if a PDAC lesion is present in the label image file.\"\"\"\n",
    "    label_dist = get_label_distribution_for_image(label_filename, true_label_dir)\n",
    "    return label_dist.get(pdac_label_id, 0) > 0\n",
    "\n",
    "def convert_label_id_to_image_id(label_filename: str, suffix: str = \"_0000\") -> str:\n",
    "    \"\"\"\n",
    "    Converts a label filename to a corresponding image filename convention.\n",
    "    Example: \"100006_00001.nii.gz\" -> \"100006_00001_0000.nii.gz\"\n",
    "\n",
    "    Args:\n",
    "        label_filename: The label filename.\n",
    "        suffix: The suffix to insert before the extension(s).\n",
    "\n",
    "    Returns:\n",
    "        The corresponding image filename.\n",
    "    \"\"\"\n",
    "    parts = label_filename.split('.', 1) # Split only on the first dot\n",
    "    base_name = parts[0]\n",
    "    extensions = parts[1] if len(parts) > 1 else \"\"\n",
    "    return f\"{base_name}{suffix}.{extensions}\" if extensions else f\"{base_name}{suffix}\"\n"
   ]
  },
  {
   "cell_type": "code",
   "execution_count": null,
   "id": "81d30d60",
   "metadata": {},
   "outputs": [],
   "source": [
    "true_label_files = os.listdir(TRUE_LABEL_DIR)\n",
    "if true_label_files:\n",
    "    example_label_filename = true_label_files[0] # Using the first file as an example\n",
    "    example_label_path = os.path.join(TRUE_LABEL_DIR, example_label_filename)\n",
    "    try:\n",
    "        example_label_image = nib.load(example_label_path)\n",
    "        example_image_arr = np.asanyarray(example_label_image.dataobj)\n",
    "        print(f\"Shape of an example true label image ('{example_label_filename}'): {example_image_arr.shape}\")\n",
    "    except Exception as e:\n",
    "        print(f\"Could not load example image '{example_label_filename}': {e}\")\n",
    "else:\n",
    "    print(\"No true label files found in directory.\")"
   ]
  },
  {
   "cell_type": "code",
   "execution_count": null,
   "id": "7c6434bf",
   "metadata": {},
   "outputs": [],
   "source": [
    "if not predicted_pdac_scores_df.is_empty():\n",
    "    predicted_pdac_scores_df = predicted_pdac_scores_df.with_columns(\n",
    "        (pl.col(\"pdac_likelihood\") < 0.5).cast(pl.Int8).alias(\"predicted_below_threshold\")\n",
    "    )\n",
    "    score_distribution = predicted_pdac_scores_df.group_by([\"predicted_below_threshold\"]).agg(\n",
    "        [\n",
    "            pl.count().alias(\"count\"),\n",
    "        ]\n",
    "    ).sort(\"predicted_below_threshold\")\n",
    "    print(\"Distribution of predicted PDAC likelihoods (0: >= 0.5, 1: < 0.5):\")\n",
    "    print(score_distribution)\n",
    "else:\n",
    "    print(\"Predicted PDAC scores DataFrame is empty. Skipping distribution analysis.\")\n"
   ]
  },
  {
   "cell_type": "code",
   "execution_count": null,
   "id": "5ff43e2c",
   "metadata": {},
   "outputs": [],
   "source": [
    "if os.path.exists(LABEL_DISTRIBUTIONS_PATH):\n",
    "    print(f\"Loading cached label distributions from: {LABEL_DISTRIBUTIONS_PATH}\")\n",
    "    with open(LABEL_DISTRIBUTIONS_PATH, \"rb\") as f:\n",
    "        label_distributions_map = pickle.load(f)\n",
    "else:\n",
    "    print(\"Computing label distributions (this may take a while)...\")\n",
    "    label_distributions_map = {\n",
    "        filename: get_label_distribution_for_image(filename, TRUE_LABEL_DIR)\n",
    "        for filename in tqdm(true_label_files, desc=\"Processing label files\") # tqdm added back here\n",
    "    }\n",
    "    # Filter out empty distributions if any files failed to load\n",
    "    label_distributions_map = {k: v for k, v in label_distributions_map.items() if v}\n",
    "    print(f\"Saving computed label distributions to: {LABEL_DISTRIBUTIONS_PATH}\")\n",
    "    with open(LABEL_DISTRIBUTIONS_PATH, \"wb\") as f:\n",
    "        pickle.dump(label_distributions_map, f)\n",
    "\n",
    "if not label_distributions_map:\n",
    "    print(\"Error: Label distributions map is empty. Cannot proceed with ROC analysis.\")\n",
    "    # Consider exiting or handling this case\n",
    "else:\n",
    "    # Example: Count images with and without PDAC\n",
    "    pdac_presence = [dist.get(PDAC_LABEL_ID, 0) > 0 for dist in label_distributions_map.values()]\n",
    "    unique_pdac_counts, counts_pdac = np.unique(pdac_presence, return_counts=True)\n",
    "    print(\"PDAC presence in true labels:\")\n",
    "    for val, count in zip(unique_pdac_counts, counts_pdac):\n",
    "        print(f\"- {'Contains PDAC' if val else 'No PDAC'}: {count} images\")"
   ]
  },
  {
   "cell_type": "markdown",
   "id": "9def9d5e",
   "metadata": {},
   "source": [
    "## ROC\n",
    "\n",
    "* get the class probability thresholds [0, 1]\n",
    "* determine if there is PDAC in the label\n",
    "* get a confusion matrix for the test data, given the threshold\n",
    "* get the true positive rate (TPR) and false positive rate (FPR)\n",
    "* plot the ROC curve for all the thresholds\n",
    "* get the area under the curve (AUC) for the ROC curve\n"
   ]
  },
  {
   "cell_type": "code",
   "execution_count": 11,
   "id": "15a91401",
   "metadata": {},
   "outputs": [],
   "source": [
    "class_thresholds = np.linspace(0, 1, 100)"
   ]
  },
  {
   "cell_type": "code",
   "execution_count": 33,
   "id": "cd65b311",
   "metadata": {},
   "outputs": [],
   "source": [
    "label_distributions = {\n",
    "    label: get_label_distribution_for_image_labels(label) for label in true_labels\n",
    "}"
   ]
  },
  {
   "cell_type": "code",
   "execution_count": 46,
   "id": "1f50cddd",
   "metadata": {},
   "outputs": [],
   "source": [
    "np.save('./results/label_distributions.npy', label_distributions)"
   ]
  },
  {
   "cell_type": "code",
   "execution_count": 15,
   "id": "e8156dd3",
   "metadata": {},
   "outputs": [],
   "source": [
    "label_distributions = np.load('./results/label_distributions.npy', allow_pickle=True).item()"
   ]
  },
  {
   "cell_type": "code",
   "execution_count": 16,
   "id": "efe1d33b",
   "metadata": {},
   "outputs": [],
   "source": [
    "def get_cm_for_threshold(threshold: float) -> np.ndarray:\n",
    "    cm = np.zeros((2, 2), dtype=int)\n",
    "    for label, distribution in label_distributions.items():\n",
    "        pdac_score = (\n",
    "            predicted_pdac_scores.filter(pl.col(\"id\") == label[:-7]+\"_0000\")\n",
    "            .get_column(\"pdac_likelihood\")\n",
    "            .to_numpy()[0]\n",
    "        )\n",
    "        true_label = distribution.get(PDAC_LABEL, 0) > 0\n",
    "        predicted_label = pdac_score > threshold\n",
    "        cm[int(true_label), int(predicted_label)] += 1\n",
    "\n",
    "    return cm"
   ]
  },
  {
   "cell_type": "code",
   "execution_count": 17,
   "id": "f73bc464",
   "metadata": {},
   "outputs": [],
   "source": [
    "def plot_cm(threshold: float):\n",
    "    cm = get_cm_for_threshold(threshold)\n",
    "    fig, ax = plt.subplots()\n",
    "    sns.heatmap(\n",
    "        cm,\n",
    "        annot=True,\n",
    "        fmt=\"d\",\n",
    "        cmap=\"Blues\",\n",
    "        cbar=False,\n",
    "        xticklabels=[\"No PDAC\", \"PDAC\"],\n",
    "        yticklabels=[\"No PDAC\", \"PDAC\"],\n",
    "        ax=ax,\n",
    "    )\n",
    "    ax.set_xlabel(\"Predicted Label\")\n",
    "    ax.set_ylabel(\"True Label\")\n",
    "    ax.set_title(f\"Confusion Matrix at Threshold {threshold:.2f}\")\n",
    "    plt.show()"
   ]
  },
  {
   "cell_type": "code",
   "execution_count": 18,
   "id": "61327a84",
   "metadata": {},
   "outputs": [
    {
     "data": {
      "image/png": "[encoded data removed]",
      "text/plain": [
       "<Figure size 640x480 with 1 Axes>"
      ]
     },
     "metadata": {},
     "output_type": "display_data"
    }
   ],
   "source": [
    "plot_cm(0.5)"
   ]
  },
  {
   "cell_type": "code",
   "execution_count": 19,
   "id": "b1364c55",
   "metadata": {},
   "outputs": [
    {
     "data": {
      "image/png": "[encoded data removed]",
      "text/plain": [
       "<Figure size 640x480 with 1 Axes>"
      ]
     },
     "metadata": {},
     "output_type": "display_data"
    }
   ],
   "source": [
    "plot_cm(0.01)"
   ]
  },
  {
   "cell_type": "code",
   "execution_count": 20,
   "id": "5fa0d7d9",
   "metadata": {},
   "outputs": [],
   "source": [
    "def get_tpr_and_fpr(threshold: float) -> tuple:\n",
    "    cm = get_cm_for_threshold(threshold)\n",
    "    tn, fp, fn, tp = cm.ravel()\n",
    "    tpr = tp / (tp + fn) if (tp + fn) > 0 else 0\n",
    "    fpr = fp / (fp + tn) if (fp + tn) > 0 else 0\n",
    "    return tpr, fpr"
   ]
  },
  {
   "cell_type": "code",
   "execution_count": 21,
   "id": "07b7fd72",
   "metadata": {},
   "outputs": [],
   "source": [
    "def plot_roc_with_auc_score():\n",
    "    tpr_list = []\n",
    "    fpr_list = []\n",
    "    for threshold in class_thresholds:\n",
    "        tpr, fpr = get_tpr_and_fpr(threshold)\n",
    "        tpr_list.append(tpr)\n",
    "        fpr_list.append(fpr)\n",
    "\n",
    "    auc_score = auc(fpr_list, tpr_list)\n",
    "\n",
    "    plt.figure(figsize=(8, 6))\n",
    "    plt.plot(fpr_list, tpr_list, marker=\"o\")\n",
    "    plt.plot([0, 1], [0, 1], linestyle=\"--\", color=\"gray\")  # Diagonal line\n",
    "    plt.fill_between(fpr_list, tpr_list, alpha=0.2)\n",
    "\n",
    "    # add AUC score to the plot\n",
    "    plt.text(\n",
    "        0.5,\n",
    "        0.2,\n",
    "        f\"AUC: {auc_score:.2f}\",\n",
    "        fontsize=12,\n",
    "        ha=\"center\",\n",
    "        va=\"center\",\n",
    "        bbox=dict(facecolor=\"white\", alpha=0.5),\n",
    "    )\n",
    "    plt.title(\"ROC Curve with AUC Score\")\n",
    "    plt.xlabel(\"False Positive Rate\")\n",
    "    plt.ylabel(\"True Positive Rate\")\n",
    "    plt.xlim([0.0, 1.0])\n",
    "    plt.ylim([0.0, 1.05])\n",
    "    plt.grid()\n",
    "    plt.show()"
   ]
  },
  {
   "cell_type": "code",
   "execution_count": 22,
   "id": "f005e735",
   "metadata": {},
   "outputs": [
    {
     "data": {
      "image/png": "[encoded data removed]",
      "text/plain": [
       "<Figure size 800x600 with 1 Axes>"
      ]
     },
     "metadata": {},
     "output_type": "display_data"
    }
   ],
   "source": [
    "plot_roc_with_auc_score()"
   ]
  },
  {
   "cell_type": "markdown",
   "id": "022cdc79",
   "metadata": {},
   "source": [
    "# Samples\n",
    "* get a sample with no PDAC and a sample with PDAC\n",
    "* get the predicted probability (incl. class) for each sample\n",
    "* get saggital, mid, and axial slices for each sample and plot the true labels on top\n",
    "* plot the predicted PDAC area, segmentation, for each samples\n"
   ]
  },
  {
   "cell_type": "code",
   "execution_count": null,
   "id": "c276917e",
   "metadata": {},
   "outputs": [],
   "source": [
    "def get_slice_with_most_pdac(label_data_arr: np.ndarray, pdac_label_id: int) -> int:\n",
    "    \"\"\"\n",
    "    Finds the index of the slice (along axis 2) with the maximum number of PDAC-labeled voxels.\n",
    "    \"\"\"\n",
    "    if label_data_arr.ndim != 3:\n",
    "        print(\"Warning: Expected 3D array for label data.\")\n",
    "        return label_data_arr.shape[2] // 2 # Default to middle slice\n",
    "\n",
    "    pdac_counts_per_slice = np.sum(label_data_arr == pdac_label_id, axis=(0, 1))\n",
    "    if np.sum(pdac_counts_per_slice) == 0: # No PDAC in any slice\n",
    "        return label_data_arr.shape[2] // 2 # Default to middle if no PDAC\n",
    "    return int(np.argmax(pdac_counts_per_slice))"
   ]
  },
  {
   "cell_type": "code",
   "execution_count": null,
   "id": "7c246c9e",
   "metadata": {},
   "outputs": [],
   "source": [
    "def plot_true_and_predicted_segmentation_overlay(\n",
    "    true_label_filename: str, # e.g., \"100134_00001.nii.gz\"\n",
    "    image_dir: str,\n",
    "    true_label_dir: str,\n",
    "    predicted_map_dir: str, # Directory for predicted segmentation maps\n",
    "    pdac_label_id: int,\n",
    "):\n",
    "    \"\"\"\n",
    "    Plots the original image slice with true PDAC segmentation and predicted PDAC segmentation overlaid.\n",
    "    The predicted map filename is inferred from the true_label_filename.\n",
    "    \"\"\"\n",
    "    # --- 1. Load True Label Data ---\n",
    "    true_label_data = get_image_data(true_label_filename, true_label_dir)\n",
    "    if true_label_data is None:\n",
    "        print(f\"Could not load true label data for {true_label_filename}.\")\n",
    "        return\n",
    "\n",
    "    # --- 2. Determine Best Slice ---\n",
    "    # Choose the slice with the highest PDAC pixel count from true labels\n",
    "    slice_idx = get_slice_with_most_pdac(true_label_data, pdac_label_id)\n",
    "\n",
    "    # --- 3. Load Original Image Slice ---\n",
    "    # Infer original image filename (e.g., \"100134_00001.nii.gz\" -> \"100134_00001_0000.nii.gz\")\n",
    "    image_filename = convert_label_id_to_image_id(true_label_filename)\n",
    "    original_image_data = get_image_data(image_filename, image_dir)\n",
    "    if original_image_data is None:\n",
    "        print(f\"Could not load original image data for {image_filename}.\")\n",
    "        return\n",
    "    \n",
    "    if slice_idx >= original_image_data.shape[2]:\n",
    "        print(f\"Warning: Slice index {slice_idx} is out of bounds for image {image_filename}. Using middle slice.\")\n",
    "        slice_idx = original_image_data.shape[2] // 2\n",
    "        \n",
    "    axial_image_slice = original_image_data[:, :, slice_idx].T # Transpose for typical medical image view\n",
    "\n",
    "    # --- 4. Load Predicted PDAC Map Slice ---\n",
    "    # Infer predicted map filename (e.g., \"100134_00001.nii.gz\" -> \"100134_00001_0000.nii.gz\")\n",
    "    predicted_map_filename = convert_label_id_to_image_id(true_label_filename) # Assumes same naming convention\n",
    "    predicted_pdac_map_data = get_image_data(predicted_map_filename, predicted_map_dir)\n",
    "\n",
    "    predicted_pdac_map_slice = None\n",
    "    if predicted_pdac_map_data is not None:\n",
    "        if slice_idx >= predicted_pdac_map_data.shape[2]:\n",
    "            print(f\"Warning: Slice index {slice_idx} is out of bounds for predicted map {predicted_map_filename}. Not showing prediction.\")\n",
    "        else:\n",
    "            predicted_pdac_map_slice = predicted_pdac_map_data[:, :, slice_idx].T # Transpose\n",
    "    else:\n",
    "        print(f\"Predicted PDAC map not found or failed to load for {predicted_map_filename}. Plotting true labels only.\")\n",
    "\n",
    "    # --- 5. Prepare True Label Slice and Mask ---\n",
    "    true_label_slice = true_label_data[:, :, slice_idx].T # Transpose\n",
    "    true_pdac_mask_slice = (true_label_slice == pdac_label_id).astype(float)\n",
    "\n",
    "    # --- 6. Plotting ---\n",
    "    fig, ax = plt.subplots(figsize=(10, 8)) # Adjusted size\n",
    "    ax.imshow(axial_image_slice, cmap=\"gray\", origin=\"lower\")\n",
    "\n",
    "    # Overlay true PDAC lesion\n",
    "    if np.sum(true_pdac_mask_slice) > 0:\n",
    "        ax.imshow(true_pdac_mask_slice, cmap=ListedColormap([\"none\", \"deeppink\"]), alpha=0.4, origin=\"lower\", label=\"True PDAC\")\n",
    "    else:\n",
    "        print(f\"No true PDAC lesion found on slice {slice_idx} for {true_label_filename}.\")\n",
    "        # Still add label for legend consistency if needed, or handle differently\n",
    "        # ax.plot([], [], color='deeppink', alpha=0.4, label=\"True PDAC (not present on slice)\")\n",
    "\n",
    "\n",
    "    # Overlay predicted PDAC lesion\n",
    "    if predicted_pdac_map_slice is not None and np.sum(predicted_pdac_map_slice) > 0 : # Assuming prediction is binary or probability map > 0\n",
    "        # If it's a probability map, you might want to threshold it first\n",
    "        # Example: predicted_pdac_map_slice = (predicted_pdac_map_slice > 0.5).astype(float)\n",
    "        ax.imshow(predicted_pdac_map_slice, cmap=ListedColormap([\"none\", \"cyan\"]), alpha=0.4, origin=\"lower\", label=\"Predicted PDAC\")\n",
    "    elif predicted_pdac_map_slice is not None:\n",
    "        print(f\"No predicted PDAC lesion found on slice {slice_idx} for {predicted_map_filename}.\")\n",
    "        # ax.plot([], [], color='cyan', alpha=0.4, label=\"Predicted PDAC (not present on slice)\")\n",
    "\n",
    "\n",
    "    ax.set_title(f\"PDAC Segmentation Overlay\\nImage: {image_filename}, Slice: {slice_idx}\")\n",
    "    ax.axis(\"off\")\n",
    "    # Create legend handles manually for better control if overlays might be absent\n",
    "    handles = []\n",
    "    if np.sum(true_pdac_mask_slice) > 0: # Only add if present\n",
    "        handles.append(plt.Line2D([0], [0], color='deeppink', lw=4, alpha=0.6, label='True PDAC'))\n",
    "    if predicted_pdac_map_slice is not None and np.sum(predicted_pdac_map_slice) > 0: # Only add if present\n",
    "        handles.append(plt.Line2D([0], [0], color='cyan', lw=4, alpha=0.6, label='Predicted PDAC'))\n",
    "    \n",
    "    if handles:\n",
    "        ax.legend(handles=handles, loc=\"upper right\")\n",
    "    else: # No PDAC true or predicted on slice\n",
    "        ax.legend([plt.Line2D([0], [0], color='gray', lw=0, label='No PDAC detected on this slice')], loc=\"upper right\")\n",
    "\n",
    "\n",
    "    plt.tight_layout()\n",
    "    plt.show()"
   ]
  },
  {
   "cell_type": "code",
   "execution_count": null,
   "id": "59bbcd31",
   "metadata": {},
   "outputs": [],
   "source": [
    "sample_to_plot = None\n",
    "if label_distributions_map:\n",
    "    # Try to find a PDAC positive sample from the label distributions\n",
    "    pdac_positive_samples = [\n",
    "        fname for fname, dist in label_distributions_map.items()\n",
    "        if dist.get(PDAC_LABEL_ID, 0) > 0\n",
    "    ]\n",
    "    if pdac_positive_samples:\n",
    "        sample_to_plot = pdac_positive_samples[0] # Plot the first one found\n",
    "        print(f\"\\nVisualizing sample with PDAC: {sample_to_plot}\")\n",
    "    else:\n",
    "        print(\"\\nNo PDAC-positive samples found in true labels for visualization example.\")\n",
    "        # Optionally, pick any sample if none are PDAC positive\n",
    "        if true_label_files:\n",
    "             sample_to_plot = true_label_files[0]\n",
    "             print(f\"Visualizing a PDAC-negative sample as fallback: {sample_to_plot}\")\n",
    "\n",
    "if sample_to_plot:\n",
    "    plot_true_and_predicted_segmentation_overlay(\n",
    "        true_label_filename=sample_to_plot,\n",
    "        image_dir=IMAGE_DIR,\n",
    "        true_label_dir=TRUE_LABEL_DIR,\n",
    "        predicted_map_dir=PREDICTED_MAP_DIR, # Use the defined constant\n",
    "        pdac_label_id=PDAC_LABEL_ID,\n",
    "    )\n",
    "else:\n",
    "    print(\"No sample available to plot segmentation.\")"
   ]
  },
  {
   "cell_type": "code",
   "execution_count": null,
   "id": "b9116395",
   "metadata": {},
   "outputs": [],
   "source": [
    "CLASSIFICATION_THRESHOLD = 0.5\n",
    "\n",
    "false_negative_samples_list = []\n",
    "false_positive_samples_list = []\n",
    "\n",
    "if label_distributions_map and not predicted_pdac_scores_df.is_empty():\n",
    "    for label_filename, distribution in label_distributions_map.items():\n",
    "        true_has_pdac = distribution.get(PDAC_LABEL_ID, 0) > 0\n",
    "        \n",
    "        # Match ID for prediction lookup\n",
    "        base_name = label_filename.split(\".\")[0]\n",
    "        pred_id_for_lookup = f\"{base_name}_0000\"\n",
    "        \n",
    "        score_series = predicted_pdac_scores_df.filter(pl.col(\"id\") == pred_id_for_lookup).select(\"pdac_likelihood\")\n",
    "\n",
    "        if score_series.is_empty():\n",
    "            continue # Skip if no score found\n",
    "\n",
    "        pdac_likelihood_score = score_series.item()\n",
    "        predicted_has_pdac = pdac_likelihood_score >= CLASSIFICATION_THRESHOLD\n",
    "\n",
    "        if true_has_pdac and not predicted_has_pdac:\n",
    "            false_negative_samples_list.append({\n",
    "                \"filename\": label_filename,\n",
    "                \"true_pdac_voxels\": distribution.get(PDAC_LABEL_ID, 0),\n",
    "                \"predicted_likelihood\": pdac_likelihood_score\n",
    "            })\n",
    "        elif not true_has_pdac and predicted_has_pdac:\n",
    "            false_positive_samples_list.append({\n",
    "                \"filename\": label_filename,\n",
    "                \"predicted_likelihood\": pdac_likelihood_score\n",
    "            })\n",
    "    \n",
    "    print(f\"\\nFound {len(false_negative_samples_list)} False Negative samples (True PDAC, Predicted No PDAC at threshold {CLASSIFICATION_THRESHOLD}).\")\n",
    "    # for fn_sample in false_negative_samples_list[:3]: # Print first 3\n",
    "    #     print(f\"  - FN: {fn_sample['filename']}, True Voxels: {fn_sample['true_pdac_voxels']}, Predicted Score: {fn_sample['predicted_likelihood']:.3f}\")\n",
    "\n",
    "    print(f\"Found {len(false_positive_samples_list)} False Positive samples (No True PDAC, Predicted PDAC at threshold {CLASSIFICATION_THRESHOLD}).\")\n",
    "    # for fp_sample in false_positive_samples_list[:3]: # Print first 3\n",
    "    #     print(f\"  - FP: {fp_sample['filename']}, Predicted Score: {fp_sample['predicted_likelihood']:.3f}\")\n",
    "\n",
    "    # Further analysis: visualize some of these misclassified samples\n",
    "    if false_negative_samples_list:\n",
    "        random_fn_sample_info = np.random.choice(false_negative_samples_list) # Select one dict\n",
    "        print(f\"\\nVisualizing a random False Negative sample: {random_fn_sample_info['filename']}\")\n",
    "        plot_true_and_predicted_segmentation_overlay(\n",
    "            random_fn_sample_info['filename'], IMAGE_DIR, TRUE_LABEL_DIR, PREDICTED_MAP_DIR, PDAC_LABEL_ID\n",
    "        )\n",
    "    \n",
    "    if false_positive_samples_list:\n",
    "        random_fp_sample_info = np.random.choice(false_positive_samples_list) # Select one dict\n",
    "        print(f\"\\nVisualizing a random False Positive sample: {random_fp_sample_info['filename']}\")\n",
    "        plot_true_and_predicted_segmentation_overlay(\n",
    "            random_fp_sample_info['filename'], IMAGE_DIR, TRUE_LABEL_DIR, PREDICTED_MAP_DIR, PDAC_LABEL_ID\n",
    "        )\n",
    "\n",
    "else:\n",
    "    print(\"Skipping misclassified sample analysis due to missing data.\")\n"
   ]
  }
 ],
 "metadata": {
  "kernelspec": {
   "display_name": "pdac_tversky",
   "language": "python",
   "name": "python3"
  },
  "language_info": {
   "codemirror_mode": {
    "name": "ipython",
    "version": 3
   },
   "file_extension": ".py",
   "mimetype": "text/x-python",
   "name": "python",
   "nbconvert_exporter": "python",
   "pygments_lexer": "ipython3",
   "version": "3.10.16"
  }
 },
 "nbformat": 4,
 "nbformat_minor": 5
}
