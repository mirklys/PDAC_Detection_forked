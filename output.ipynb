{
 "cells": [
  {
   "cell_type": "markdown",
   "id": "9afad33d",
   "metadata": {
    "papermill": {
     "duration": 0.002094,
     "end_time": "2025-05-27T19:53:39.981443",
     "exception": false,
     "start_time": "2025-05-27T19:53:39.979349",
     "status": "completed"
    },
    "tags": []
   },
   "source": [
    "This notebook analyzes the balance of labales in the dataset"
   ]
  },
  {
   "cell_type": "code",
   "execution_count": 1,
   "id": "294ea93d",
   "metadata": {
    "execution": {
     "iopub.execute_input": "2025-05-27T19:53:39.991073Z",
     "iopub.status.busy": "2025-05-27T19:53:39.990674Z",
     "iopub.status.idle": "2025-05-27T19:53:40.928106Z",
     "shell.execute_reply": "2025-05-27T19:53:40.927630Z"
    },
    "papermill": {
     "duration": 0.943263,
     "end_time": "2025-05-27T19:53:40.930275",
     "exception": false,
     "start_time": "2025-05-27T19:53:39.987012",
     "status": "completed"
    },
    "tags": []
   },
   "outputs": [],
   "source": [
    "import os\n",
    "from matplotlib import pyplot as plt\n",
    "import numpy as np\n",
    "import nibabel as nib\n",
    "import polars as pl\n",
    "from tqdm import tqdm"
   ]
  },
  {
   "cell_type": "code",
   "execution_count": 2,
   "id": "36f583b4",
   "metadata": {
    "execution": {
     "iopub.execute_input": "2025-05-27T19:53:40.934351Z",
     "iopub.status.busy": "2025-05-27T19:53:40.933995Z",
     "iopub.status.idle": "2025-05-27T19:53:40.937124Z",
     "shell.execute_reply": "2025-05-27T19:53:40.936692Z"
    },
    "papermill": {
     "duration": 0.006257,
     "end_time": "2025-05-27T19:53:40.938213",
     "exception": false,
     "start_time": "2025-05-27T19:53:40.931956",
     "status": "completed"
    },
    "tags": []
   },
   "outputs": [],
   "source": [
    "plt.style.use('seaborn-v0_8-white')"
   ]
  },
  {
   "cell_type": "code",
   "execution_count": 3,
   "id": "baaf8c10",
   "metadata": {
    "execution": {
     "iopub.execute_input": "2025-05-27T19:53:40.941959Z",
     "iopub.status.busy": "2025-05-27T19:53:40.941622Z",
     "iopub.status.idle": "2025-05-27T19:53:40.945157Z",
     "shell.execute_reply": "2025-05-27T19:53:40.944687Z"
    },
    "papermill": {
     "duration": 0.007051,
     "end_time": "2025-05-27T19:53:40.946639",
     "exception": false,
     "start_time": "2025-05-27T19:53:40.939588",
     "status": "completed"
    },
    "tags": []
   },
   "outputs": [],
   "source": [
    "ROOT_PATH = os.getcwd()\n",
    "TEST_LABELS_PATH = os.path.join(ROOT_PATH, \"workspace/test/labelsTs/true\")\n",
    "TRAIN_LABELS_PATH = os.path.join(ROOT_PATH, \"workspace/train/labelsTr\")"
   ]
  },
  {
   "cell_type": "code",
   "execution_count": 4,
   "id": "af776852",
   "metadata": {
    "execution": {
     "iopub.execute_input": "2025-05-27T19:53:40.950435Z",
     "iopub.status.busy": "2025-05-27T19:53:40.950243Z",
     "iopub.status.idle": "2025-05-27T19:53:40.953842Z",
     "shell.execute_reply": "2025-05-27T19:53:40.953342Z"
    },
    "papermill": {
     "duration": 0.006803,
     "end_time": "2025-05-27T19:53:40.954932",
     "exception": false,
     "start_time": "2025-05-27T19:53:40.948129",
     "status": "completed"
    },
    "tags": []
   },
   "outputs": [],
   "source": [
    "label_annotations = {\n",
    "    0: \"Background\",\n",
    "    1: \"PDAC lesion\",\n",
    "    2: \"Veins\",\n",
    "    3: \"Arteries\",\n",
    "    4: \"Pancreas parenchyma\",\n",
    "    5: \"Pancreatic duct\",\n",
    "    6: \"Common bile duct\",\n",
    "}"
   ]
  },
  {
   "cell_type": "code",
   "execution_count": 5,
   "id": "c937130d",
   "metadata": {
    "execution": {
     "iopub.execute_input": "2025-05-27T19:53:40.959448Z",
     "iopub.status.busy": "2025-05-27T19:53:40.959012Z",
     "iopub.status.idle": "2025-05-27T19:53:40.964006Z",
     "shell.execute_reply": "2025-05-27T19:53:40.963478Z"
    },
    "papermill": {
     "duration": 0.008928,
     "end_time": "2025-05-27T19:53:40.965321",
     "exception": false,
     "start_time": "2025-05-27T19:53:40.956393",
     "status": "completed"
    },
    "tags": []
   },
   "outputs": [],
   "source": [
    "def get_label_distribution(label_path):\n",
    "    data = []\n",
    "    label_files = [os.path.abspath(os.path.join(label_path, label_name)) for label_name in os.listdir(label_path)]\n",
    "    label_files = [f for f in label_files if f.endswith(\".nii.gz\")]\n",
    "    for label_file in tqdm(label_files, desc=\"Loading labels\"):\n",
    "        label = nib.load(os.path.realpath(label_file))\n",
    "        data_arr = np.asanyarray(label.dataobj)\n",
    "        \n",
    "        unique, counts = np.unique(data_arr, return_counts=True)\n",
    "        for label, count in tqdm(zip(unique, counts), desc=\"Counting pixels\", total=len(unique)):\n",
    "            data.append({\n",
    "                \"file\": label,\n",
    "                \"label\": int(label),\n",
    "                \"pixel_count\": int(count)\n",
    "            })\n",
    "    counts_df = pl.DataFrame(data)\n",
    "    distribution_f = (\n",
    "        counts_df.group_by(\"label\")\n",
    "        .agg([\n",
    "            pl.col(\"pixel_count\").sum().alias(\"total_pixels\"),\n",
    "            pl.col(\"file\").n_unique().alias(\"file_count\")\n",
    "        ])\n",
    "        .sort(\"label\")\n",
    "    )\n",
    "    return distribution_f"
   ]
  },
  {
   "cell_type": "code",
   "execution_count": 6,
   "id": "10a0e46a",
   "metadata": {
    "execution": {
     "iopub.execute_input": "2025-05-27T19:53:40.970235Z",
     "iopub.status.busy": "2025-05-27T19:53:40.969405Z",
     "iopub.status.idle": "2025-05-27T19:53:40.972211Z",
     "shell.execute_reply": "2025-05-27T19:53:40.971755Z"
    },
    "papermill": {
     "duration": 0.006515,
     "end_time": "2025-05-27T19:53:40.973312",
     "exception": false,
     "start_time": "2025-05-27T19:53:40.966797",
     "status": "completed"
    },
    "tags": []
   },
   "outputs": [],
   "source": [
    "# training_labels = get_label_distribution(TRAIN_LABELS_PATH)\n",
    "# training_labels.write_csv(os.path.join(TRAIN_LABELS_PATH, \"training_labels.csv\"))"
   ]
  },
  {
   "cell_type": "code",
   "execution_count": 7,
   "id": "e2fbdbe0",
   "metadata": {
    "execution": {
     "iopub.execute_input": "2025-05-27T19:53:40.977620Z",
     "iopub.status.busy": "2025-05-27T19:53:40.977217Z"
    },
    "papermill": {
     "duration": 1252.473845,
     "end_time": "2025-05-27T20:14:33.448647",
     "exception": false,
     "start_time": "2025-05-27T19:53:40.974802",
     "status": "completed"
    },
    "tags": []
   },
   "outputs": [
    {
     "name": "stderr",
     "output_type": "stream",
     "text": [
      "\r",
      "Loading labels:   0%|                                                                                 | 0/180 [00:00<?, ?it/s]"
     ]
    },
    {
     "name": "stderr",
     "output_type": "stream",
     "text": [
      "\n"
     ]
    },
    {
     "name": "stderr",
     "output_type": "stream",
     "text": [
      "\r",
      "Counting pixels:   0%|                                                                                  | 0/6 [00:00<?, ?it/s]"
     ]
    },
    {
     "name": "stderr",
     "output_type": "stream",
     "text": [
      "\u001b[A"
     ]
    },
    {
     "name": "stderr",
     "output_type": "stream",
     "text": [
      "\r",
      "Counting pixels: 100%|███████████████████████████████████████████████████████████████████████| 6/6 [00:00<00:00, 79891.50it/s]"
     ]
    },
    {
     "name": "stderr",
     "output_type": "stream",
     "text": [
      "\n",
      "\r",
      "Loading labels:   1%|▍                                                                        | 1/180 [00:10<32:46, 10.99s/it]"
     ]
    },
    {
     "name": "stderr",
     "output_type": "stream",
     "text": [
      "\n"
     ]
    },
    {
     "name": "stderr",
     "output_type": "stream",
     "text": [
      "\r",
      "Counting pixels:   0%|                                                                                  | 0/7 [00:00<?, ?it/s]"
     ]
    },
    {
     "name": "stderr",
     "output_type": "stream",
     "text": [
      "\u001b[A"
     ]
    },
    {
     "name": "stderr",
     "output_type": "stream",
     "text": [
      "\r",
      "Counting pixels: 100%|██████████████████████████████████████████████████████████████████████| 7/7 [00:00<00:00, 106377.28it/s]"
     ]
    },
    {
     "name": "stderr",
     "output_type": "stream",
     "text": [
      "\n",
      "\r",
      "Loading labels:   1%|▊                                                                        | 2/180 [00:12<15:45,  5.31s/it]"
     ]
    },
    {
     "name": "stderr",
     "output_type": "stream",
     "text": [
      "\n"
     ]
    },
    {
     "name": "stderr",
     "output_type": "stream",
     "text": [
      "\r",
      "Counting pixels:   0%|                                                                                  | 0/6 [00:00<?, ?it/s]"
     ]
    },
    {
     "name": "stderr",
     "output_type": "stream",
     "text": [
      "\u001b[A"
     ]
    },
    {
     "name": "stderr",
     "output_type": "stream",
     "text": [
      "\r",
      "Counting pixels: 100%|███████████████████████████████████████████████████████████████████████| 6/6 [00:00<00:00, 86184.33it/s]"
     ]
    },
    {
     "name": "stderr",
     "output_type": "stream",
     "text": [
      "\n",
      "\r",
      "Loading labels:   2%|█▏                                                                       | 3/180 [00:13<10:31,  3.57s/it]"
     ]
    },
    {
     "name": "stderr",
     "output_type": "stream",
     "text": [
      "\n"
     ]
    },
    {
     "name": "stderr",
     "output_type": "stream",
     "text": [
      "\r",
      "Counting pixels:   0%|                                                                                  | 0/6 [00:00<?, ?it/s]"
     ]
    },
    {
     "name": "stderr",
     "output_type": "stream",
     "text": [
      "\u001b[A"
     ]
    },
    {
     "name": "stderr",
     "output_type": "stream",
     "text": [
      "\r",
      "Counting pixels: 100%|███████████████████████████████████████████████████████████████████████| 6/6 [00:00<00:00, 79387.46it/s]"
     ]
    },
    {
     "name": "stderr",
     "output_type": "stream",
     "text": [
      "\n",
      "\r",
      "Loading labels:   2%|█▌                                                                       | 4/180 [00:20<14:30,  4.94s/it]"
     ]
    },
    {
     "name": "stderr",
     "output_type": "stream",
     "text": [
      "\n"
     ]
    },
    {
     "name": "stderr",
     "output_type": "stream",
     "text": [
      "\r",
      "Counting pixels:   0%|                                                                                  | 0/5 [00:00<?, ?it/s]"
     ]
    },
    {
     "name": "stderr",
     "output_type": "stream",
     "text": [
      "\u001b[A"
     ]
    },
    {
     "name": "stderr",
     "output_type": "stream",
     "text": [
      "\r",
      "Counting pixels: 100%|███████████████████████████████████████████████████████████████████████| 5/5 [00:00<00:00, 68534.38it/s]"
     ]
    },
    {
     "name": "stderr",
     "output_type": "stream",
     "text": [
      "\n",
      "\r",
      "Loading labels:   3%|██                                                                       | 5/180 [00:45<35:31, 12.18s/it]"
     ]
    },
    {
     "name": "stderr",
     "output_type": "stream",
     "text": [
      "\n"
     ]
    },
    {
     "name": "stderr",
     "output_type": "stream",
     "text": [
      "\r",
      "Counting pixels:   0%|                                                                                  | 0/6 [00:00<?, ?it/s]"
     ]
    },
    {
     "name": "stderr",
     "output_type": "stream",
     "text": [
      "\u001b[A"
     ]
    },
    {
     "name": "stderr",
     "output_type": "stream",
     "text": [
      "\r",
      "Counting pixels: 100%|███████████████████████████████████████████████████████████████████████| 6/6 [00:00<00:00, 75800.67it/s]"
     ]
    },
    {
     "name": "stderr",
     "output_type": "stream",
     "text": [
      "\n",
      "\r",
      "Loading labels:   3%|██▍                                                                      | 6/180 [00:52<30:01, 10.35s/it]"
     ]
    },
    {
     "name": "stderr",
     "output_type": "stream",
     "text": [
      "\n"
     ]
    },
    {
     "name": "stderr",
     "output_type": "stream",
     "text": [
      "\r",
      "Counting pixels:   0%|                                                                                  | 0/6 [00:00<?, ?it/s]"
     ]
    },
    {
     "name": "stderr",
     "output_type": "stream",
     "text": [
      "\u001b[A"
     ]
    },
    {
     "name": "stderr",
     "output_type": "stream",
     "text": [
      "\r",
      "Counting pixels: 100%|███████████████████████████████████████████████████████████████████████| 6/6 [00:00<00:00, 74898.29it/s]"
     ]
    },
    {
     "name": "stderr",
     "output_type": "stream",
     "text": [
      "\n",
      "\r",
      "Loading labels:   4%|██▊                                                                      | 7/180 [01:09<35:31, 12.32s/it]"
     ]
    },
    {
     "name": "stderr",
     "output_type": "stream",
     "text": [
      "\n"
     ]
    },
    {
     "name": "stderr",
     "output_type": "stream",
     "text": [
      "\r",
      "Counting pixels:   0%|                                                                                  | 0/6 [00:00<?, ?it/s]"
     ]
    },
    {
     "name": "stderr",
     "output_type": "stream",
     "text": [
      "\u001b[A"
     ]
    },
    {
     "name": "stderr",
     "output_type": "stream",
     "text": [
      "\r",
      "Counting pixels: 100%|███████████████████████████████████████████████████████████████████████| 6/6 [00:00<00:00, 80401.99it/s]"
     ]
    },
    {
     "name": "stderr",
     "output_type": "stream",
     "text": [
      "\n",
      "\r",
      "Loading labels:   4%|███▏                                                                     | 8/180 [01:25<38:50, 13.55s/it]"
     ]
    },
    {
     "name": "stderr",
     "output_type": "stream",
     "text": [
      "\n"
     ]
    },
    {
     "name": "stderr",
     "output_type": "stream",
     "text": [
      "\r",
      "Counting pixels:   0%|                                                                                  | 0/6 [00:00<?, ?it/s]"
     ]
    },
    {
     "name": "stderr",
     "output_type": "stream",
     "text": [
      "\u001b[A"
     ]
    },
    {
     "name": "stderr",
     "output_type": "stream",
     "text": [
      "\r",
      "Counting pixels: 100%|███████████████████████████████████████████████████████████████████████| 6/6 [00:00<00:00, 78643.20it/s]"
     ]
    },
    {
     "name": "stderr",
     "output_type": "stream",
     "text": [
      "\n",
      "\r",
      "Loading labels:   5%|███▋                                                                     | 9/180 [01:54<52:14, 18.33s/it]"
     ]
    },
    {
     "name": "stderr",
     "output_type": "stream",
     "text": [
      "\n"
     ]
    },
    {
     "name": "stderr",
     "output_type": "stream",
     "text": [
      "\r",
      "Counting pixels:   0%|                                                                                  | 0/7 [00:00<?, ?it/s]"
     ]
    },
    {
     "name": "stderr",
     "output_type": "stream",
     "text": [
      "\u001b[A"
     ]
    },
    {
     "name": "stderr",
     "output_type": "stream",
     "text": [
      "\r",
      "Counting pixels: 100%|███████████████████████████████████████████████████████████████████████| 7/7 [00:00<00:00, 90061.74it/s]"
     ]
    },
    {
     "name": "stderr",
     "output_type": "stream",
     "text": [
      "\n",
      "\r",
      "Loading labels:   6%|████                                                                    | 10/180 [02:12<52:26, 18.51s/it]"
     ]
    },
    {
     "name": "stderr",
     "output_type": "stream",
     "text": [
      "\n"
     ]
    },
    {
     "name": "stderr",
     "output_type": "stream",
     "text": [
      "\r",
      "Counting pixels:   0%|                                                                                  | 0/6 [00:00<?, ?it/s]"
     ]
    },
    {
     "name": "stderr",
     "output_type": "stream",
     "text": [
      "\u001b[A"
     ]
    },
    {
     "name": "stderr",
     "output_type": "stream",
     "text": [
      "\r",
      "Counting pixels: 100%|███████████████████████████████████████████████████████████████████████| 6/6 [00:00<00:00, 76725.07it/s]"
     ]
    },
    {
     "name": "stderr",
     "output_type": "stream",
     "text": [
      "\n",
      "\r",
      "Loading labels:   6%|████▍                                                                   | 11/180 [02:25<47:19, 16.80s/it]"
     ]
    },
    {
     "name": "stderr",
     "output_type": "stream",
     "text": [
      "\n"
     ]
    },
    {
     "name": "stderr",
     "output_type": "stream",
     "text": [
      "\r",
      "Counting pixels:   0%|                                                                                  | 0/6 [00:00<?, ?it/s]"
     ]
    },
    {
     "name": "stderr",
     "output_type": "stream",
     "text": [
      "\u001b[A"
     ]
    },
    {
     "name": "stderr",
     "output_type": "stream",
     "text": [
      "\r",
      "Counting pixels: 100%|███████████████████████████████████████████████████████████████████████| 6/6 [00:00<00:00, 82241.25it/s]"
     ]
    },
    {
     "name": "stderr",
     "output_type": "stream",
     "text": [
      "\n",
      "\r",
      "Loading labels:   7%|████▊                                                                   | 12/180 [02:56<58:30, 20.90s/it]"
     ]
    },
    {
     "name": "stderr",
     "output_type": "stream",
     "text": [
      "\n"
     ]
    },
    {
     "name": "stderr",
     "output_type": "stream",
     "text": [
      "\r",
      "Counting pixels:   0%|                                                                                  | 0/7 [00:00<?, ?it/s]"
     ]
    },
    {
     "name": "stderr",
     "output_type": "stream",
     "text": [
      "\u001b[A"
     ]
    },
    {
     "name": "stderr",
     "output_type": "stream",
     "text": [
      "\r",
      "Counting pixels: 100%|███████████████████████████████████████████████████████████████████████| 7/7 [00:00<00:00, 90061.74it/s]"
     ]
    },
    {
     "name": "stderr",
     "output_type": "stream",
     "text": [
      "\n",
      "\r",
      "Loading labels:   7%|█████▏                                                                  | 13/180 [03:07<50:24, 18.11s/it]"
     ]
    },
    {
     "name": "stderr",
     "output_type": "stream",
     "text": [
      "\n"
     ]
    },
    {
     "name": "stderr",
     "output_type": "stream",
     "text": [
      "\r",
      "Counting pixels:   0%|                                                                                  | 0/7 [00:00<?, ?it/s]"
     ]
    },
    {
     "name": "stderr",
     "output_type": "stream",
     "text": [
      "\u001b[A"
     ]
    },
    {
     "name": "stderr",
     "output_type": "stream",
     "text": [
      "\r",
      "Counting pixels: 100%|███████████████████████████████████████████████████████████████████████| 7/7 [00:00<00:00, 53188.64it/s]"
     ]
    },
    {
     "name": "stderr",
     "output_type": "stream",
     "text": [
      "\n",
      "\r",
      "Loading labels:   8%|█████▍                                                                | 14/180 [03:53<1:13:13, 26.47s/it]"
     ]
    },
    {
     "name": "stderr",
     "output_type": "stream",
     "text": [
      "\n"
     ]
    },
    {
     "name": "stderr",
     "output_type": "stream",
     "text": [
      "\r",
      "Counting pixels:   0%|                                                                                  | 0/5 [00:00<?, ?it/s]"
     ]
    },
    {
     "name": "stderr",
     "output_type": "stream",
     "text": [
      "\u001b[A"
     ]
    },
    {
     "name": "stderr",
     "output_type": "stream",
     "text": [
      "\r",
      "Counting pixels: 100%|███████████████████████████████████████████████████████████████████████| 5/5 [00:00<00:00, 67001.66it/s]"
     ]
    },
    {
     "name": "stderr",
     "output_type": "stream",
     "text": [
      "\n",
      "\r",
      "Loading labels:   8%|██████                                                                  | 15/180 [04:02<58:19, 21.21s/it]"
     ]
    },
    {
     "name": "stderr",
     "output_type": "stream",
     "text": [
      "\n"
     ]
    },
    {
     "name": "stderr",
     "output_type": "stream",
     "text": [
      "\r",
      "Counting pixels:   0%|                                                                                  | 0/7 [00:00<?, ?it/s]"
     ]
    },
    {
     "name": "stderr",
     "output_type": "stream",
     "text": [
      "\u001b[A"
     ]
    },
    {
     "name": "stderr",
     "output_type": "stream",
     "text": [
      "\r",
      "Counting pixels: 100%|████████████████████████████████████████████████████████████████████████| 7/7 [00:00<00:00, 9718.68it/s]"
     ]
    },
    {
     "name": "stderr",
     "output_type": "stream",
     "text": [
      "\n",
      "\r",
      "Loading labels:   9%|██████▍                                                                 | 16/180 [04:19<54:37, 19.98s/it]"
     ]
    },
    {
     "name": "stderr",
     "output_type": "stream",
     "text": [
      "\n"
     ]
    },
    {
     "name": "stderr",
     "output_type": "stream",
     "text": [
      "\r",
      "Counting pixels:   0%|                                                                                  | 0/6 [00:00<?, ?it/s]"
     ]
    },
    {
     "name": "stderr",
     "output_type": "stream",
     "text": [
      "\u001b[A"
     ]
    },
    {
     "name": "stderr",
     "output_type": "stream",
     "text": [
      "\r",
      "Counting pixels: 100%|████████████████████████████████████████████████████████████████████████| 6/6 [00:00<00:00, 8759.42it/s]"
     ]
    },
    {
     "name": "stderr",
     "output_type": "stream",
     "text": [
      "\n",
      "\r",
      "Loading labels:   9%|██████▊                                                                 | 17/180 [04:39<54:10, 19.94s/it]"
     ]
    },
    {
     "name": "stderr",
     "output_type": "stream",
     "text": [
      "\n"
     ]
    },
    {
     "name": "stderr",
     "output_type": "stream",
     "text": [
      "\r",
      "Counting pixels:   0%|                                                                                  | 0/7 [00:00<?, ?it/s]"
     ]
    },
    {
     "name": "stderr",
     "output_type": "stream",
     "text": [
      "\u001b[A"
     ]
    },
    {
     "name": "stderr",
     "output_type": "stream",
     "text": [
      "\r",
      "Counting pixels: 100%|███████████████████████████████████████████████████████████████████████| 7/7 [00:00<00:00, 83409.45it/s]"
     ]
    },
    {
     "name": "stderr",
     "output_type": "stream",
     "text": [
      "\n",
      "\r",
      "Loading labels:  10%|███████▏                                                                | 18/180 [04:49<45:35, 16.88s/it]"
     ]
    },
    {
     "name": "stderr",
     "output_type": "stream",
     "text": [
      "\n"
     ]
    },
    {
     "name": "stderr",
     "output_type": "stream",
     "text": [
      "\r",
      "Counting pixels:   0%|                                                                                  | 0/6 [00:00<?, ?it/s]"
     ]
    },
    {
     "name": "stderr",
     "output_type": "stream",
     "text": [
      "\u001b[A"
     ]
    },
    {
     "name": "stderr",
     "output_type": "stream",
     "text": [
      "\r",
      "Counting pixels: 100%|███████████████████████████████████████████████████████████████████████| 6/6 [00:00<00:00, 91180.52it/s]"
     ]
    },
    {
     "name": "stderr",
     "output_type": "stream",
     "text": [
      "\n",
      "\r",
      "Loading labels:  11%|███████▌                                                                | 19/180 [05:23<59:10, 22.05s/it]"
     ]
    },
    {
     "name": "stderr",
     "output_type": "stream",
     "text": [
      "\n"
     ]
    },
    {
     "name": "stderr",
     "output_type": "stream",
     "text": [
      "\r",
      "Counting pixels:   0%|                                                                                  | 0/6 [00:00<?, ?it/s]"
     ]
    },
    {
     "name": "stderr",
     "output_type": "stream",
     "text": [
      "\u001b[A"
     ]
    },
    {
     "name": "stderr",
     "output_type": "stream",
     "text": [
      "\r",
      "Counting pixels: 100%|███████████████████████████████████████████████████████████████████████| 6/6 [00:00<00:00, 78889.73it/s]"
     ]
    },
    {
     "name": "stderr",
     "output_type": "stream",
     "text": [
      "\n",
      "\r",
      "Loading labels:  11%|████████                                                                | 20/180 [05:37<52:36, 19.73s/it]"
     ]
    },
    {
     "name": "stderr",
     "output_type": "stream",
     "text": [
      "\n"
     ]
    },
    {
     "name": "stderr",
     "output_type": "stream",
     "text": [
      "\r",
      "Counting pixels:   0%|                                                                                  | 0/6 [00:00<?, ?it/s]"
     ]
    },
    {
     "name": "stderr",
     "output_type": "stream",
     "text": [
      "\u001b[A"
     ]
    },
    {
     "name": "stderr",
     "output_type": "stream",
     "text": [
      "\r",
      "Counting pixels: 100%|███████████████████████████████████████████████████████████████████████| 6/6 [00:00<00:00, 88925.17it/s]"
     ]
    },
    {
     "name": "stderr",
     "output_type": "stream",
     "text": [
      "\n",
      "\r",
      "Loading labels:  12%|████████▍                                                               | 21/180 [05:51<47:40, 17.99s/it]"
     ]
    },
    {
     "name": "stderr",
     "output_type": "stream",
     "text": [
      "\n"
     ]
    },
    {
     "name": "stderr",
     "output_type": "stream",
     "text": [
      "\r",
      "Counting pixels:   0%|                                                                                  | 0/6 [00:00<?, ?it/s]"
     ]
    },
    {
     "name": "stderr",
     "output_type": "stream",
     "text": [
      "\u001b[A"
     ]
    },
    {
     "name": "stderr",
     "output_type": "stream",
     "text": [
      "\r",
      "Counting pixels: 100%|███████████████████████████████████████████████████████████████████████| 6/6 [00:00<00:00, 70889.65it/s]"
     ]
    },
    {
     "name": "stderr",
     "output_type": "stream",
     "text": [
      "\n",
      "\r",
      "Loading labels:  12%|████████▊                                                               | 22/180 [06:07<45:26, 17.25s/it]"
     ]
    },
    {
     "name": "stderr",
     "output_type": "stream",
     "text": [
      "\n"
     ]
    },
    {
     "name": "stderr",
     "output_type": "stream",
     "text": [
      "\r",
      "Counting pixels:   0%|                                                                                  | 0/6 [00:00<?, ?it/s]"
     ]
    },
    {
     "name": "stderr",
     "output_type": "stream",
     "text": [
      "\u001b[A"
     ]
    },
    {
     "name": "stderr",
     "output_type": "stream",
     "text": [
      "\r",
      "Counting pixels: 100%|████████████████████████████████████████████████████████████████████████| 6/6 [00:00<00:00, 8341.34it/s]"
     ]
    },
    {
     "name": "stderr",
     "output_type": "stream",
     "text": [
      "\n",
      "\r",
      "Loading labels:  13%|█████████▏                                                              | 23/180 [06:35<54:06, 20.68s/it]"
     ]
    },
    {
     "name": "stderr",
     "output_type": "stream",
     "text": [
      "\n"
     ]
    },
    {
     "name": "stderr",
     "output_type": "stream",
     "text": [
      "\r",
      "Counting pixels:   0%|                                                                                  | 0/6 [00:00<?, ?it/s]"
     ]
    },
    {
     "name": "stderr",
     "output_type": "stream",
     "text": [
      "\u001b[A"
     ]
    },
    {
     "name": "stderr",
     "output_type": "stream",
     "text": [
      "\r",
      "Counting pixels: 100%|████████████████████████████████████████████████████████████████████████| 6/6 [00:00<00:00, 8615.48it/s]"
     ]
    },
    {
     "name": "stderr",
     "output_type": "stream",
     "text": [
      "\n",
      "\r",
      "Loading labels:  13%|█████████▌                                                              | 24/180 [06:46<46:03, 17.71s/it]"
     ]
    },
    {
     "name": "stderr",
     "output_type": "stream",
     "text": [
      "\n"
     ]
    },
    {
     "name": "stderr",
     "output_type": "stream",
     "text": [
      "\r",
      "Counting pixels:   0%|                                                                                  | 0/6 [00:00<?, ?it/s]"
     ]
    },
    {
     "name": "stderr",
     "output_type": "stream",
     "text": [
      "\u001b[A"
     ]
    },
    {
     "name": "stderr",
     "output_type": "stream",
     "text": [
      "\r",
      "Counting pixels: 100%|███████████████████████████████████████████████████████████████████████| 6/6 [00:00<00:00, 28371.84it/s]"
     ]
    },
    {
     "name": "stderr",
     "output_type": "stream",
     "text": [
      "\n",
      "\r",
      "Loading labels:  14%|██████████                                                              | 25/180 [07:00<43:03, 16.67s/it]"
     ]
    },
    {
     "name": "stderr",
     "output_type": "stream",
     "text": [
      "\n"
     ]
    },
    {
     "name": "stderr",
     "output_type": "stream",
     "text": [
      "\r",
      "Counting pixels:   0%|                                                                                  | 0/6 [00:00<?, ?it/s]"
     ]
    },
    {
     "name": "stderr",
     "output_type": "stream",
     "text": [
      "\u001b[A"
     ]
    },
    {
     "name": "stderr",
     "output_type": "stream",
     "text": [
      "\r",
      "Counting pixels: 100%|███████████████████████████████████████████████████████████████████████| 6/6 [00:00<00:00, 77672.30it/s]"
     ]
    },
    {
     "name": "stderr",
     "output_type": "stream",
     "text": [
      "\n",
      "\r",
      "Loading labels:  14%|██████████▍                                                             | 26/180 [07:10<36:53, 14.37s/it]"
     ]
    },
    {
     "name": "stderr",
     "output_type": "stream",
     "text": [
      "\n"
     ]
    },
    {
     "name": "stderr",
     "output_type": "stream",
     "text": [
      "\r",
      "Counting pixels:   0%|                                                                                  | 0/6 [00:00<?, ?it/s]"
     ]
    },
    {
     "name": "stderr",
     "output_type": "stream",
     "text": [
      "\u001b[A"
     ]
    },
    {
     "name": "stderr",
     "output_type": "stream",
     "text": [
      "\r",
      "Counting pixels: 100%|███████████████████████████████████████████████████████████████████████| 6/6 [00:00<00:00, 91180.52it/s]"
     ]
    },
    {
     "name": "stderr",
     "output_type": "stream",
     "text": [
      "\n",
      "\r",
      "Loading labels:  15%|██████████▊                                                             | 27/180 [07:24<36:50, 14.45s/it]"
     ]
    },
    {
     "name": "stderr",
     "output_type": "stream",
     "text": [
      "\n"
     ]
    },
    {
     "name": "stderr",
     "output_type": "stream",
     "text": [
      "\r",
      "Counting pixels:   0%|                                                                                  | 0/6 [00:00<?, ?it/s]"
     ]
    },
    {
     "name": "stderr",
     "output_type": "stream",
     "text": [
      "\u001b[A"
     ]
    },
    {
     "name": "stderr",
     "output_type": "stream",
     "text": [
      "\r",
      "Counting pixels: 100%|███████████████████████████████████████████████████████████████████████| 6/6 [00:00<00:00, 90200.09it/s]"
     ]
    },
    {
     "name": "stderr",
     "output_type": "stream",
     "text": [
      "\n",
      "\r",
      "Loading labels:  16%|███████████▏                                                            | 28/180 [07:25<26:38, 10.52s/it]"
     ]
    },
    {
     "name": "stderr",
     "output_type": "stream",
     "text": [
      "\n"
     ]
    },
    {
     "name": "stderr",
     "output_type": "stream",
     "text": [
      "\r",
      "Counting pixels:   0%|                                                                                  | 0/7 [00:00<?, ?it/s]"
     ]
    },
    {
     "name": "stderr",
     "output_type": "stream",
     "text": [
      "\u001b[A"
     ]
    },
    {
     "name": "stderr",
     "output_type": "stream",
     "text": [
      "\r",
      "Counting pixels: 100%|███████████████████████████████████████████████████████████████████████| 7/7 [00:00<00:00, 91464.57it/s]"
     ]
    },
    {
     "name": "stderr",
     "output_type": "stream",
     "text": [
      "\n",
      "\r",
      "Loading labels:  16%|███████████▌                                                            | 29/180 [07:28<20:41,  8.22s/it]"
     ]
    },
    {
     "name": "stderr",
     "output_type": "stream",
     "text": [
      "\n"
     ]
    },
    {
     "name": "stderr",
     "output_type": "stream",
     "text": [
      "\r",
      "Counting pixels:   0%|                                                                                  | 0/6 [00:00<?, ?it/s]"
     ]
    },
    {
     "name": "stderr",
     "output_type": "stream",
     "text": [
      "\u001b[A"
     ]
    },
    {
     "name": "stderr",
     "output_type": "stream",
     "text": [
      "\r",
      "Counting pixels: 100%|███████████████████████████████████████████████████████████████████████| 6/6 [00:00<00:00, 65027.97it/s]"
     ]
    },
    {
     "name": "stderr",
     "output_type": "stream",
     "text": [
      "\n",
      "\r",
      "Loading labels:  17%|████████████                                                            | 30/180 [07:34<18:50,  7.53s/it]"
     ]
    },
    {
     "name": "stderr",
     "output_type": "stream",
     "text": [
      "\n"
     ]
    },
    {
     "name": "stderr",
     "output_type": "stream",
     "text": [
      "\r",
      "Counting pixels:   0%|                                                                                  | 0/7 [00:00<?, ?it/s]"
     ]
    },
    {
     "name": "stderr",
     "output_type": "stream",
     "text": [
      "\u001b[A"
     ]
    },
    {
     "name": "stderr",
     "output_type": "stream",
     "text": [
      "\r",
      "Counting pixels: 100%|███████████████████████████████████████████████████████████████████████| 7/7 [00:00<00:00, 80881.90it/s]"
     ]
    },
    {
     "name": "stderr",
     "output_type": "stream",
     "text": [
      "\n",
      "\r",
      "Loading labels:  17%|████████████▍                                                           | 31/180 [07:49<24:20,  9.80s/it]"
     ]
    },
    {
     "name": "stderr",
     "output_type": "stream",
     "text": [
      "\n"
     ]
    },
    {
     "name": "stderr",
     "output_type": "stream",
     "text": [
      "\r",
      "Counting pixels:   0%|                                                                                  | 0/7 [00:00<?, ?it/s]"
     ]
    },
    {
     "name": "stderr",
     "output_type": "stream",
     "text": [
      "\u001b[A"
     ]
    },
    {
     "name": "stderr",
     "output_type": "stream",
     "text": [
      "\r",
      "Counting pixels: 100%|███████████████████████████████████████████████████████████████████████| 7/7 [00:00<00:00, 66425.63it/s]"
     ]
    },
    {
     "name": "stderr",
     "output_type": "stream",
     "text": [
      "\n",
      "\r",
      "Loading labels:  18%|████████████▊                                                           | 32/180 [07:54<20:22,  8.26s/it]"
     ]
    },
    {
     "name": "stderr",
     "output_type": "stream",
     "text": [
      "\n"
     ]
    },
    {
     "name": "stderr",
     "output_type": "stream",
     "text": [
      "\r",
      "Counting pixels:   0%|                                                                                  | 0/4 [00:00<?, ?it/s]"
     ]
    },
    {
     "name": "stderr",
     "output_type": "stream",
     "text": [
      "\u001b[A"
     ]
    },
    {
     "name": "stderr",
     "output_type": "stream",
     "text": [
      "\r",
      "Counting pixels: 100%|███████████████████████████████████████████████████████████████████████| 4/4 [00:00<00:00, 57065.36it/s]"
     ]
    },
    {
     "name": "stderr",
     "output_type": "stream",
     "text": [
      "\n",
      "\r",
      "Loading labels:  18%|█████████████▏                                                          | 33/180 [07:59<18:05,  7.38s/it]"
     ]
    },
    {
     "name": "stderr",
     "output_type": "stream",
     "text": [
      "\n"
     ]
    },
    {
     "name": "stderr",
     "output_type": "stream",
     "text": [
      "\r",
      "Counting pixels:   0%|                                                                                  | 0/5 [00:00<?, ?it/s]"
     ]
    },
    {
     "name": "stderr",
     "output_type": "stream",
     "text": [
      "\u001b[A"
     ]
    },
    {
     "name": "stderr",
     "output_type": "stream",
     "text": [
      "\r",
      "Counting pixels: 100%|███████████████████████████████████████████████████████████████████████| 5/5 [00:00<00:00, 76818.75it/s]"
     ]
    },
    {
     "name": "stderr",
     "output_type": "stream",
     "text": [
      "\n",
      "\r",
      "Loading labels:  19%|█████████████▌                                                          | 34/180 [08:02<14:46,  6.07s/it]"
     ]
    },
    {
     "name": "stderr",
     "output_type": "stream",
     "text": [
      "\n"
     ]
    },
    {
     "name": "stderr",
     "output_type": "stream",
     "text": [
      "\r",
      "Counting pixels:   0%|                                                                                  | 0/6 [00:00<?, ?it/s]"
     ]
    },
    {
     "name": "stderr",
     "output_type": "stream",
     "text": [
      "\u001b[A"
     ]
    },
    {
     "name": "stderr",
     "output_type": "stream",
     "text": [
      "\r",
      "Counting pixels: 100%|███████████████████████████████████████████████████████████████████████| 6/6 [00:00<00:00, 82510.90it/s]"
     ]
    },
    {
     "name": "stderr",
     "output_type": "stream",
     "text": [
      "\n",
      "\r",
      "Loading labels:  19%|██████████████                                                          | 35/180 [08:05<12:26,  5.15s/it]"
     ]
    },
    {
     "name": "stderr",
     "output_type": "stream",
     "text": [
      "\n"
     ]
    },
    {
     "name": "stderr",
     "output_type": "stream",
     "text": [
      "\r",
      "Counting pixels:   0%|                                                                                  | 0/6 [00:00<?, ?it/s]"
     ]
    },
    {
     "name": "stderr",
     "output_type": "stream",
     "text": [
      "\u001b[A"
     ]
    },
    {
     "name": "stderr",
     "output_type": "stream",
     "text": [
      "\r",
      "Counting pixels: 100%|████████████████████████████████████████████████████████████████████████| 6/6 [00:00<00:00, 9091.70it/s]"
     ]
    },
    {
     "name": "stderr",
     "output_type": "stream",
     "text": [
      "\n",
      "\r",
      "Loading labels:  20%|██████████████▍                                                         | 36/180 [08:19<18:36,  7.75s/it]"
     ]
    },
    {
     "name": "stderr",
     "output_type": "stream",
     "text": [
      "\n"
     ]
    },
    {
     "name": "stderr",
     "output_type": "stream",
     "text": [
      "\r",
      "Counting pixels:   0%|                                                                                  | 0/5 [00:00<?, ?it/s]"
     ]
    },
    {
     "name": "stderr",
     "output_type": "stream",
     "text": [
      "\u001b[A"
     ]
    },
    {
     "name": "stderr",
     "output_type": "stream",
     "text": [
      "\r",
      "Counting pixels: 100%|███████████████████████████████████████████████████████████████████████| 5/5 [00:00<00:00, 45889.54it/s]"
     ]
    },
    {
     "name": "stderr",
     "output_type": "stream",
     "text": [
      "\n",
      "\r",
      "Loading labels:  21%|██████████████▊                                                         | 37/180 [08:25<17:06,  7.18s/it]"
     ]
    },
    {
     "name": "stderr",
     "output_type": "stream",
     "text": [
      "\n"
     ]
    },
    {
     "name": "stderr",
     "output_type": "stream",
     "text": [
      "\r",
      "Counting pixels:   0%|                                                                                  | 0/7 [00:00<?, ?it/s]"
     ]
    },
    {
     "name": "stderr",
     "output_type": "stream",
     "text": [
      "\u001b[A"
     ]
    },
    {
     "name": "stderr",
     "output_type": "stream",
     "text": [
      "\r",
      "Counting pixels: 100%|███████████████████████████████████████████████████████████████████████| 7/7 [00:00<00:00, 81329.99it/s]"
     ]
    },
    {
     "name": "stderr",
     "output_type": "stream",
     "text": [
      "\n",
      "\r",
      "Loading labels:  21%|███████████████▏                                                        | 38/180 [08:35<19:00,  8.03s/it]"
     ]
    },
    {
     "name": "stderr",
     "output_type": "stream",
     "text": [
      "\n"
     ]
    },
    {
     "name": "stderr",
     "output_type": "stream",
     "text": [
      "\r",
      "Counting pixels:   0%|                                                                                  | 0/6 [00:00<?, ?it/s]"
     ]
    },
    {
     "name": "stderr",
     "output_type": "stream",
     "text": [
      "\u001b[A"
     ]
    },
    {
     "name": "stderr",
     "output_type": "stream",
     "text": [
      "\r",
      "Counting pixels: 100%|████████████████████████████████████████████████████████████████████████| 6/6 [00:00<00:00, 9108.15it/s]"
     ]
    },
    {
     "name": "stderr",
     "output_type": "stream",
     "text": [
      "\n",
      "\r",
      "Loading labels:  22%|███████████████▌                                                        | 39/180 [08:55<27:06, 11.54s/it]"
     ]
    },
    {
     "name": "stderr",
     "output_type": "stream",
     "text": [
      "\n"
     ]
    },
    {
     "name": "stderr",
     "output_type": "stream",
     "text": [
      "\r",
      "Counting pixels:   0%|                                                                                  | 0/7 [00:00<?, ?it/s]"
     ]
    },
    {
     "name": "stderr",
     "output_type": "stream",
     "text": [
      "\u001b[A"
     ]
    },
    {
     "name": "stderr",
     "output_type": "stream",
     "text": [
      "\r",
      "Counting pixels: 100%|███████████████████████████████████████████████████████████████████████| 7/7 [00:00<00:00, 92038.02it/s]"
     ]
    },
    {
     "name": "stderr",
     "output_type": "stream",
     "text": [
      "\n",
      "\r",
      "Loading labels:  22%|████████████████                                                        | 40/180 [09:00<22:48,  9.77s/it]"
     ]
    },
    {
     "name": "stderr",
     "output_type": "stream",
     "text": [
      "\n"
     ]
    },
    {
     "name": "stderr",
     "output_type": "stream",
     "text": [
      "\r",
      "Counting pixels:   0%|                                                                                  | 0/6 [00:00<?, ?it/s]"
     ]
    },
    {
     "name": "stderr",
     "output_type": "stream",
     "text": [
      "\u001b[A"
     ]
    },
    {
     "name": "stderr",
     "output_type": "stream",
     "text": [
      "\r",
      "Counting pixels: 100%|███████████████████████████████████████████████████████████████████████| 6/6 [00:00<00:00, 84166.64it/s]"
     ]
    },
    {
     "name": "stderr",
     "output_type": "stream",
     "text": [
      "\n",
      "\r",
      "Loading labels:  23%|████████████████▍                                                       | 41/180 [09:04<18:28,  7.98s/it]"
     ]
    },
    {
     "name": "stderr",
     "output_type": "stream",
     "text": [
      "\n"
     ]
    },
    {
     "name": "stderr",
     "output_type": "stream",
     "text": [
      "\r",
      "Counting pixels:   0%|                                                                                  | 0/7 [00:00<?, ?it/s]"
     ]
    },
    {
     "name": "stderr",
     "output_type": "stream",
     "text": [
      "\u001b[A"
     ]
    },
    {
     "name": "stderr",
     "output_type": "stream",
     "text": [
      "\r",
      "Counting pixels: 100%|███████████████████████████████████████████████████████████████████████| 7/7 [00:00<00:00, 92327.45it/s]"
     ]
    },
    {
     "name": "stderr",
     "output_type": "stream",
     "text": [
      "\n",
      "\r",
      "Loading labels:  23%|████████████████▊                                                       | 42/180 [09:11<17:38,  7.67s/it]"
     ]
    },
    {
     "name": "stderr",
     "output_type": "stream",
     "text": [
      "\n"
     ]
    },
    {
     "name": "stderr",
     "output_type": "stream",
     "text": [
      "\r",
      "Counting pixels:   0%|                                                                                  | 0/7 [00:00<?, ?it/s]"
     ]
    },
    {
     "name": "stderr",
     "output_type": "stream",
     "text": [
      "\u001b[A"
     ]
    },
    {
     "name": "stderr",
     "output_type": "stream",
     "text": [
      "\r",
      "Counting pixels: 100%|███████████████████████████████████████████████████████████████████████| 7/7 [00:00<00:00, 10459.61it/s]"
     ]
    },
    {
     "name": "stderr",
     "output_type": "stream",
     "text": [
      "\n",
      "\r",
      "Loading labels:  24%|█████████████████▏                                                      | 43/180 [09:23<20:41,  9.06s/it]"
     ]
    },
    {
     "name": "stderr",
     "output_type": "stream",
     "text": [
      "\n"
     ]
    },
    {
     "name": "stderr",
     "output_type": "stream",
     "text": [
      "\r",
      "Counting pixels:   0%|                                                                                  | 0/6 [00:00<?, ?it/s]"
     ]
    },
    {
     "name": "stderr",
     "output_type": "stream",
     "text": [
      "\u001b[A"
     ]
    },
    {
     "name": "stderr",
     "output_type": "stream",
     "text": [
      "\r",
      "Counting pixels: 100%|███████████████████████████████████████████████████████████████████████| 6/6 [00:00<00:00, 41943.04it/s]"
     ]
    },
    {
     "name": "stderr",
     "output_type": "stream",
     "text": [
      "\n",
      "\r",
      "Loading labels:  24%|█████████████████▌                                                      | 44/180 [09:30<18:43,  8.26s/it]"
     ]
    },
    {
     "name": "stderr",
     "output_type": "stream",
     "text": [
      "\n"
     ]
    },
    {
     "name": "stderr",
     "output_type": "stream",
     "text": [
      "\r",
      "Counting pixels:   0%|                                                                                  | 0/5 [00:00<?, ?it/s]"
     ]
    },
    {
     "name": "stderr",
     "output_type": "stream",
     "text": [
      "\u001b[A"
     ]
    },
    {
     "name": "stderr",
     "output_type": "stream",
     "text": [
      "\r",
      "Counting pixels: 100%|███████████████████████████████████████████████████████████████████████| 5/5 [00:00<00:00, 72315.59it/s]"
     ]
    },
    {
     "name": "stderr",
     "output_type": "stream",
     "text": [
      "\n",
      "\r",
      "Loading labels:  25%|██████████████████                                                      | 45/180 [09:34<15:41,  6.98s/it]"
     ]
    },
    {
     "name": "stderr",
     "output_type": "stream",
     "text": [
      "\n"
     ]
    },
    {
     "name": "stderr",
     "output_type": "stream",
     "text": [
      "\r",
      "Counting pixels:   0%|                                                                                  | 0/7 [00:00<?, ?it/s]"
     ]
    },
    {
     "name": "stderr",
     "output_type": "stream",
     "text": [
      "\u001b[A"
     ]
    },
    {
     "name": "stderr",
     "output_type": "stream",
     "text": [
      "\r",
      "Counting pixels: 100%|███████████████████████████████████████████████████████████████████████| 7/7 [00:00<00:00, 83647.09it/s]"
     ]
    },
    {
     "name": "stderr",
     "output_type": "stream",
     "text": [
      "\n",
      "\r",
      "Loading labels:  26%|██████████████████▍                                                     | 46/180 [09:36<12:27,  5.58s/it]"
     ]
    },
    {
     "name": "stderr",
     "output_type": "stream",
     "text": [
      "\n"
     ]
    },
    {
     "name": "stderr",
     "output_type": "stream",
     "text": [
      "\r",
      "Counting pixels:   0%|                                                                                  | 0/5 [00:00<?, ?it/s]"
     ]
    },
    {
     "name": "stderr",
     "output_type": "stream",
     "text": [
      "\u001b[A"
     ]
    },
    {
     "name": "stderr",
     "output_type": "stream",
     "text": [
      "\r",
      "Counting pixels: 100%|███████████████████████████████████████████████████████████████████████| 5/5 [00:00<00:00, 62415.24it/s]"
     ]
    },
    {
     "name": "stderr",
     "output_type": "stream",
     "text": [
      "\n",
      "\r",
      "Loading labels:  26%|██████████████████▊                                                     | 47/180 [09:50<17:34,  7.93s/it]"
     ]
    },
    {
     "name": "stderr",
     "output_type": "stream",
     "text": [
      "\n"
     ]
    },
    {
     "name": "stderr",
     "output_type": "stream",
     "text": [
      "\r",
      "Counting pixels:   0%|                                                                                  | 0/7 [00:00<?, ?it/s]"
     ]
    },
    {
     "name": "stderr",
     "output_type": "stream",
     "text": [
      "\u001b[A"
     ]
    },
    {
     "name": "stderr",
     "output_type": "stream",
     "text": [
      "\r",
      "Counting pixels: 100%|███████████████████████████████████████████████████████████████████████| 7/7 [00:00<00:00, 89786.32it/s]"
     ]
    },
    {
     "name": "stderr",
     "output_type": "stream",
     "text": [
      "\n",
      "\r",
      "Loading labels:  27%|███████████████████▏                                                    | 48/180 [09:51<13:27,  6.12s/it]"
     ]
    },
    {
     "name": "stderr",
     "output_type": "stream",
     "text": [
      "\n"
     ]
    },
    {
     "name": "stderr",
     "output_type": "stream",
     "text": [
      "\r",
      "Counting pixels:   0%|                                                                                  | 0/6 [00:00<?, ?it/s]"
     ]
    },
    {
     "name": "stderr",
     "output_type": "stream",
     "text": [
      "\u001b[A"
     ]
    },
    {
     "name": "stderr",
     "output_type": "stream",
     "text": [
      "\r",
      "Counting pixels: 100%|███████████████████████████████████████████████████████████████████████| 6/6 [00:00<00:00, 82510.90it/s]"
     ]
    },
    {
     "name": "stderr",
     "output_type": "stream",
     "text": [
      "\n",
      "\r",
      "Loading labels:  27%|███████████████████▌                                                    | 49/180 [10:03<17:05,  7.83s/it]"
     ]
    },
    {
     "name": "stderr",
     "output_type": "stream",
     "text": [
      "\n"
     ]
    },
    {
     "name": "stderr",
     "output_type": "stream",
     "text": [
      "\r",
      "Counting pixels:   0%|                                                                                  | 0/6 [00:00<?, ?it/s]"
     ]
    },
    {
     "name": "stderr",
     "output_type": "stream",
     "text": [
      "\u001b[A"
     ]
    },
    {
     "name": "stderr",
     "output_type": "stream",
     "text": [
      "\r",
      "Counting pixels: 100%|███████████████████████████████████████████████████████████████████████| 6/6 [00:00<00:00, 88612.06it/s]"
     ]
    },
    {
     "name": "stderr",
     "output_type": "stream",
     "text": [
      "\n",
      "\r",
      "Loading labels:  28%|████████████████████                                                    | 50/180 [10:13<18:07,  8.37s/it]"
     ]
    },
    {
     "name": "stderr",
     "output_type": "stream",
     "text": [
      "\n"
     ]
    },
    {
     "name": "stderr",
     "output_type": "stream",
     "text": [
      "\r",
      "Counting pixels:   0%|                                                                                  | 0/6 [00:00<?, ?it/s]"
     ]
    },
    {
     "name": "stderr",
     "output_type": "stream",
     "text": [
      "\u001b[A"
     ]
    },
    {
     "name": "stderr",
     "output_type": "stream",
     "text": [
      "\r",
      "Counting pixels: 100%|███████████████████████████████████████████████████████████████████████| 6/6 [00:00<00:00, 74017.13it/s]"
     ]
    },
    {
     "name": "stderr",
     "output_type": "stream",
     "text": [
      "\n",
      "\r",
      "Loading labels:  28%|████████████████████▍                                                   | 51/180 [10:27<21:37, 10.06s/it]"
     ]
    },
    {
     "name": "stderr",
     "output_type": "stream",
     "text": [
      "\n"
     ]
    },
    {
     "name": "stderr",
     "output_type": "stream",
     "text": [
      "\r",
      "Counting pixels:   0%|                                                                                  | 0/6 [00:00<?, ?it/s]"
     ]
    },
    {
     "name": "stderr",
     "output_type": "stream",
     "text": [
      "\u001b[A"
     ]
    },
    {
     "name": "stderr",
     "output_type": "stream",
     "text": [
      "\r",
      "Counting pixels: 100%|███████████████████████████████████████████████████████████████████████| 6/6 [00:00<00:00, 61984.79it/s]"
     ]
    },
    {
     "name": "stderr",
     "output_type": "stream",
     "text": [
      "\n",
      "\r",
      "Loading labels:  29%|████████████████████▊                                                   | 52/180 [10:36<20:32,  9.63s/it]"
     ]
    },
    {
     "name": "stderr",
     "output_type": "stream",
     "text": [
      "\n"
     ]
    },
    {
     "name": "stderr",
     "output_type": "stream",
     "text": [
      "\r",
      "Counting pixels:   0%|                                                                                  | 0/6 [00:00<?, ?it/s]"
     ]
    },
    {
     "name": "stderr",
     "output_type": "stream",
     "text": [
      "\u001b[A"
     ]
    },
    {
     "name": "stderr",
     "output_type": "stream",
     "text": [
      "\r",
      "Counting pixels: 100%|███████████████████████████████████████████████████████████████████████| 6/6 [00:00<00:00, 79137.81it/s]"
     ]
    },
    {
     "name": "stderr",
     "output_type": "stream",
     "text": [
      "\n",
      "\r",
      "Loading labels:  29%|█████████████████████▏                                                  | 53/180 [10:41<17:24,  8.23s/it]"
     ]
    },
    {
     "name": "stderr",
     "output_type": "stream",
     "text": [
      "\n"
     ]
    },
    {
     "name": "stderr",
     "output_type": "stream",
     "text": [
      "\r",
      "Counting pixels:   0%|                                                                                  | 0/6 [00:00<?, ?it/s]"
     ]
    },
    {
     "name": "stderr",
     "output_type": "stream",
     "text": [
      "\u001b[A"
     ]
    },
    {
     "name": "stderr",
     "output_type": "stream",
     "text": [
      "\r",
      "Counting pixels: 100%|███████████████████████████████████████████████████████████████████████| 6/6 [00:00<00:00, 86480.49it/s]"
     ]
    },
    {
     "name": "stderr",
     "output_type": "stream",
     "text": [
      "\n",
      "\r",
      "Loading labels:  30%|█████████████████████▌                                                  | 54/180 [10:42<13:00,  6.19s/it]"
     ]
    },
    {
     "name": "stderr",
     "output_type": "stream",
     "text": [
      "\n"
     ]
    },
    {
     "name": "stderr",
     "output_type": "stream",
     "text": [
      "\r",
      "Counting pixels:   0%|                                                                                  | 0/6 [00:00<?, ?it/s]"
     ]
    },
    {
     "name": "stderr",
     "output_type": "stream",
     "text": [
      "\u001b[A"
     ]
    },
    {
     "name": "stderr",
     "output_type": "stream",
     "text": [
      "\r",
      "Counting pixels: 100%|███████████████████████████████████████████████████████████████████████| 6/6 [00:00<00:00, 74898.29it/s]"
     ]
    },
    {
     "name": "stderr",
     "output_type": "stream",
     "text": [
      "\n",
      "\r",
      "Loading labels:  31%|██████████████████████                                                  | 55/180 [10:45<10:55,  5.25s/it]"
     ]
    },
    {
     "name": "stderr",
     "output_type": "stream",
     "text": [
      "\n"
     ]
    },
    {
     "name": "stderr",
     "output_type": "stream",
     "text": [
      "\r",
      "Counting pixels:   0%|                                                                                  | 0/5 [00:00<?, ?it/s]"
     ]
    },
    {
     "name": "stderr",
     "output_type": "stream",
     "text": [
      "\u001b[A"
     ]
    },
    {
     "name": "stderr",
     "output_type": "stream",
     "text": [
      "\r",
      "Counting pixels: 100%|███████████████████████████████████████████████████████████████████████| 5/5 [00:00<00:00, 60611.33it/s]"
     ]
    },
    {
     "name": "stderr",
     "output_type": "stream",
     "text": [
      "\n",
      "\r",
      "Loading labels:  31%|██████████████████████▍                                                 | 56/180 [10:51<11:04,  5.36s/it]"
     ]
    },
    {
     "name": "stderr",
     "output_type": "stream",
     "text": [
      "\n"
     ]
    },
    {
     "name": "stderr",
     "output_type": "stream",
     "text": [
      "\r",
      "Counting pixels:   0%|                                                                                  | 0/6 [00:00<?, ?it/s]"
     ]
    },
    {
     "name": "stderr",
     "output_type": "stream",
     "text": [
      "\u001b[A"
     ]
    },
    {
     "name": "stderr",
     "output_type": "stream",
     "text": [
      "\r",
      "Counting pixels: 100%|███████████████████████████████████████████████████████████████████████| 6/6 [00:00<00:00, 73800.07it/s]"
     ]
    },
    {
     "name": "stderr",
     "output_type": "stream",
     "text": [
      "\n",
      "\r",
      "Loading labels:  32%|██████████████████████▊                                                 | 57/180 [11:08<18:23,  8.97s/it]"
     ]
    },
    {
     "name": "stderr",
     "output_type": "stream",
     "text": [
      "\n"
     ]
    },
    {
     "name": "stderr",
     "output_type": "stream",
     "text": [
      "\r",
      "Counting pixels:   0%|                                                                                  | 0/5 [00:00<?, ?it/s]"
     ]
    },
    {
     "name": "stderr",
     "output_type": "stream",
     "text": [
      "\u001b[A"
     ]
    },
    {
     "name": "stderr",
     "output_type": "stream",
     "text": [
      "\r",
      "Counting pixels: 100%|███████████████████████████████████████████████████████████████████████| 5/5 [00:00<00:00, 63937.56it/s]"
     ]
    },
    {
     "name": "stderr",
     "output_type": "stream",
     "text": [
      "\n",
      "\r",
      "Loading labels:  32%|███████████████████████▏                                                | 58/180 [11:35<29:19, 14.42s/it]"
     ]
    },
    {
     "name": "stderr",
     "output_type": "stream",
     "text": [
      "\n"
     ]
    },
    {
     "name": "stderr",
     "output_type": "stream",
     "text": [
      "\r",
      "Counting pixels:   0%|                                                                                  | 0/6 [00:00<?, ?it/s]"
     ]
    },
    {
     "name": "stderr",
     "output_type": "stream",
     "text": [
      "\u001b[A"
     ]
    },
    {
     "name": "stderr",
     "output_type": "stream",
     "text": [
      "\r",
      "Counting pixels: 100%|███████████████████████████████████████████████████████████████████████| 6/6 [00:00<00:00, 49539.02it/s]"
     ]
    },
    {
     "name": "stderr",
     "output_type": "stream",
     "text": [
      "\n",
      "\r",
      "Loading labels:  33%|███████████████████████▌                                                | 59/180 [11:41<24:09, 11.98s/it]"
     ]
    },
    {
     "name": "stderr",
     "output_type": "stream",
     "text": [
      "\n"
     ]
    },
    {
     "name": "stderr",
     "output_type": "stream",
     "text": [
      "\r",
      "Counting pixels:   0%|                                                                                  | 0/6 [00:00<?, ?it/s]"
     ]
    },
    {
     "name": "stderr",
     "output_type": "stream",
     "text": [
      "\u001b[A"
     ]
    },
    {
     "name": "stderr",
     "output_type": "stream",
     "text": [
      "\r",
      "Counting pixels: 100%|███████████████████████████████████████████████████████████████████████| 6/6 [00:00<00:00, 72944.42it/s]"
     ]
    },
    {
     "name": "stderr",
     "output_type": "stream",
     "text": [
      "\n",
      "\r",
      "Loading labels:  33%|████████████████████████                                                | 60/180 [11:52<22:53, 11.45s/it]"
     ]
    },
    {
     "name": "stderr",
     "output_type": "stream",
     "text": [
      "\n"
     ]
    },
    {
     "name": "stderr",
     "output_type": "stream",
     "text": [
      "\r",
      "Counting pixels:   0%|                                                                                  | 0/6 [00:00<?, ?it/s]"
     ]
    },
    {
     "name": "stderr",
     "output_type": "stream",
     "text": [
      "\u001b[A"
     ]
    },
    {
     "name": "stderr",
     "output_type": "stream",
     "text": [
      "\r",
      "Counting pixels: 100%|███████████████████████████████████████████████████████████████████████| 6/6 [00:00<00:00, 77672.30it/s]"
     ]
    },
    {
     "name": "stderr",
     "output_type": "stream",
     "text": [
      "\n",
      "\r",
      "Loading labels:  34%|████████████████████████▍                                               | 61/180 [11:59<20:30, 10.34s/it]"
     ]
    },
    {
     "name": "stderr",
     "output_type": "stream",
     "text": [
      "\n"
     ]
    },
    {
     "name": "stderr",
     "output_type": "stream",
     "text": [
      "\r",
      "Counting pixels:   0%|                                                                                  | 0/7 [00:00<?, ?it/s]"
     ]
    },
    {
     "name": "stderr",
     "output_type": "stream",
     "text": [
      "\u001b[A"
     ]
    },
    {
     "name": "stderr",
     "output_type": "stream",
     "text": [
      "\r",
      "Counting pixels: 100%|███████████████████████████████████████████████████████████████████████| 7/7 [00:00<00:00, 76458.67it/s]"
     ]
    },
    {
     "name": "stderr",
     "output_type": "stream",
     "text": [
      "\n",
      "\r",
      "Loading labels:  34%|████████████████████████▊                                               | 62/180 [12:08<19:11,  9.76s/it]"
     ]
    },
    {
     "name": "stderr",
     "output_type": "stream",
     "text": [
      "\n"
     ]
    },
    {
     "name": "stderr",
     "output_type": "stream",
     "text": [
      "\r",
      "Counting pixels:   0%|                                                                                  | 0/6 [00:00<?, ?it/s]"
     ]
    },
    {
     "name": "stderr",
     "output_type": "stream",
     "text": [
      "\u001b[A"
     ]
    },
    {
     "name": "stderr",
     "output_type": "stream",
     "text": [
      "\r",
      "Counting pixels: 100%|███████████████████████████████████████████████████████████████████████| 6/6 [00:00<00:00, 79387.46it/s]"
     ]
    },
    {
     "name": "stderr",
     "output_type": "stream",
     "text": [
      "\n",
      "\r",
      "Loading labels:  35%|█████████████████████████▏                                              | 63/180 [12:53<39:43, 20.37s/it]"
     ]
    },
    {
     "name": "stderr",
     "output_type": "stream",
     "text": [
      "\n"
     ]
    },
    {
     "name": "stderr",
     "output_type": "stream",
     "text": [
      "\r",
      "Counting pixels:   0%|                                                                                  | 0/4 [00:00<?, ?it/s]"
     ]
    },
    {
     "name": "stderr",
     "output_type": "stream",
     "text": [
      "\u001b[A"
     ]
    },
    {
     "name": "stderr",
     "output_type": "stream",
     "text": [
      "\r",
      "Counting pixels: 100%|███████████████████████████████████████████████████████████████████████| 4/4 [00:00<00:00, 38043.57it/s]"
     ]
    },
    {
     "name": "stderr",
     "output_type": "stream",
     "text": [
      "\n",
      "\r",
      "Loading labels:  36%|█████████████████████████▌                                              | 64/180 [12:58<30:40, 15.86s/it]"
     ]
    },
    {
     "name": "stderr",
     "output_type": "stream",
     "text": [
      "\n"
     ]
    },
    {
     "name": "stderr",
     "output_type": "stream",
     "text": [
      "\r",
      "Counting pixels:   0%|                                                                                  | 0/7 [00:00<?, ?it/s]"
     ]
    },
    {
     "name": "stderr",
     "output_type": "stream",
     "text": [
      "\u001b[A"
     ]
    },
    {
     "name": "stderr",
     "output_type": "stream",
     "text": [
      "\r",
      "Counting pixels: 100%|███████████████████████████████████████████████████████████████████████| 7/7 [00:00<00:00, 63140.06it/s]"
     ]
    },
    {
     "name": "stderr",
     "output_type": "stream",
     "text": [
      "\n",
      "\r",
      "Loading labels:  36%|██████████████████████████                                              | 65/180 [13:04<24:38, 12.86s/it]"
     ]
    },
    {
     "name": "stderr",
     "output_type": "stream",
     "text": [
      "\n"
     ]
    },
    {
     "name": "stderr",
     "output_type": "stream",
     "text": [
      "\r",
      "Counting pixels:   0%|                                                                                  | 0/7 [00:00<?, ?it/s]"
     ]
    },
    {
     "name": "stderr",
     "output_type": "stream",
     "text": [
      "\u001b[A"
     ]
    },
    {
     "name": "stderr",
     "output_type": "stream",
     "text": [
      "\r",
      "Counting pixels: 100%|███████████████████████████████████████████████████████████████████████| 7/7 [00:00<00:00, 45239.03it/s]"
     ]
    },
    {
     "name": "stderr",
     "output_type": "stream",
     "text": [
      "\n",
      "\r",
      "Loading labels:  37%|██████████████████████████▍                                             | 66/180 [13:24<28:24, 14.95s/it]"
     ]
    },
    {
     "name": "stderr",
     "output_type": "stream",
     "text": [
      "\n"
     ]
    },
    {
     "name": "stderr",
     "output_type": "stream",
     "text": [
      "\r",
      "Counting pixels:   0%|                                                                                  | 0/7 [00:00<?, ?it/s]"
     ]
    },
    {
     "name": "stderr",
     "output_type": "stream",
     "text": [
      "\u001b[A"
     ]
    },
    {
     "name": "stderr",
     "output_type": "stream",
     "text": [
      "\r",
      "Counting pixels: 100%|███████████████████████████████████████████████████████████████████████| 7/7 [00:00<00:00, 70918.18it/s]"
     ]
    },
    {
     "name": "stderr",
     "output_type": "stream",
     "text": [
      "\n",
      "\r",
      "Loading labels:  37%|██████████████████████████▊                                             | 67/180 [13:30<22:58, 12.20s/it]"
     ]
    },
    {
     "name": "stderr",
     "output_type": "stream",
     "text": [
      "\n"
     ]
    },
    {
     "name": "stderr",
     "output_type": "stream",
     "text": [
      "\r",
      "Counting pixels:   0%|                                                                                  | 0/6 [00:00<?, ?it/s]"
     ]
    },
    {
     "name": "stderr",
     "output_type": "stream",
     "text": [
      "\u001b[A"
     ]
    },
    {
     "name": "stderr",
     "output_type": "stream",
     "text": [
      "\r",
      "Counting pixels: 100%|███████████████████████████████████████████████████████████████████████| 6/6 [00:00<00:00, 55188.21it/s]"
     ]
    },
    {
     "name": "stderr",
     "output_type": "stream",
     "text": [
      "\n",
      "\r",
      "Loading labels:  38%|███████████████████████████▏                                            | 68/180 [13:33<17:46,  9.52s/it]"
     ]
    },
    {
     "name": "stderr",
     "output_type": "stream",
     "text": [
      "\n"
     ]
    },
    {
     "name": "stderr",
     "output_type": "stream",
     "text": [
      "\r",
      "Counting pixels:   0%|                                                                                  | 0/4 [00:00<?, ?it/s]"
     ]
    },
    {
     "name": "stderr",
     "output_type": "stream",
     "text": [
      "\u001b[A"
     ]
    },
    {
     "name": "stderr",
     "output_type": "stream",
     "text": [
      "\r",
      "Counting pixels: 100%|███████████████████████████████████████████████████████████████████████| 4/4 [00:00<00:00, 57456.22it/s]"
     ]
    },
    {
     "name": "stderr",
     "output_type": "stream",
     "text": [
      "\n",
      "\r",
      "Loading labels:  38%|███████████████████████████▌                                            | 69/180 [13:37<14:25,  7.80s/it]"
     ]
    },
    {
     "name": "stderr",
     "output_type": "stream",
     "text": [
      "\n"
     ]
    },
    {
     "name": "stderr",
     "output_type": "stream",
     "text": [
      "\r",
      "Counting pixels:   0%|                                                                                  | 0/6 [00:00<?, ?it/s]"
     ]
    },
    {
     "name": "stderr",
     "output_type": "stream",
     "text": [
      "\u001b[A"
     ]
    },
    {
     "name": "stderr",
     "output_type": "stream",
     "text": [
      "\r",
      "Counting pixels: 100%|███████████████████████████████████████████████████████████████████████| 6/6 [00:00<00:00, 67108.86it/s]"
     ]
    },
    {
     "name": "stderr",
     "output_type": "stream",
     "text": [
      "\n",
      "\r",
      "Loading labels:  39%|████████████████████████████                                            | 70/180 [14:18<32:39, 17.81s/it]"
     ]
    },
    {
     "name": "stderr",
     "output_type": "stream",
     "text": [
      "\n"
     ]
    },
    {
     "name": "stderr",
     "output_type": "stream",
     "text": [
      "\r",
      "Counting pixels:   0%|                                                                                  | 0/7 [00:00<?, ?it/s]"
     ]
    },
    {
     "name": "stderr",
     "output_type": "stream",
     "text": [
      "\u001b[A"
     ]
    },
    {
     "name": "stderr",
     "output_type": "stream",
     "text": [
      "\r",
      "Counting pixels: 100%|███████████████████████████████████████████████████████████████████████| 7/7 [00:00<00:00, 68920.49it/s]"
     ]
    },
    {
     "name": "stderr",
     "output_type": "stream",
     "text": [
      "\n",
      "\r",
      "Loading labels:  39%|████████████████████████████▍                                           | 71/180 [14:21<24:33, 13.52s/it]"
     ]
    },
    {
     "name": "stderr",
     "output_type": "stream",
     "text": [
      "\n"
     ]
    },
    {
     "name": "stderr",
     "output_type": "stream",
     "text": [
      "\r",
      "Counting pixels:   0%|                                                                                  | 0/6 [00:00<?, ?it/s]"
     ]
    },
    {
     "name": "stderr",
     "output_type": "stream",
     "text": [
      "\u001b[A"
     ]
    },
    {
     "name": "stderr",
     "output_type": "stream",
     "text": [
      "\r",
      "Counting pixels: 100%|███████████████████████████████████████████████████████████████████████| 6/6 [00:00<00:00, 63550.06it/s]"
     ]
    },
    {
     "name": "stderr",
     "output_type": "stream",
     "text": [
      "\n",
      "\r",
      "Loading labels:  40%|████████████████████████████▊                                           | 72/180 [14:26<19:30, 10.84s/it]"
     ]
    },
    {
     "name": "stderr",
     "output_type": "stream",
     "text": [
      "\n"
     ]
    },
    {
     "name": "stderr",
     "output_type": "stream",
     "text": [
      "\r",
      "Counting pixels:   0%|                                                                                  | 0/7 [00:00<?, ?it/s]"
     ]
    },
    {
     "name": "stderr",
     "output_type": "stream",
     "text": [
      "\u001b[A"
     ]
    },
    {
     "name": "stderr",
     "output_type": "stream",
     "text": [
      "\r",
      "Counting pixels: 100%|███████████████████████████████████████████████████████████████████████| 7/7 [00:00<00:00, 87122.04it/s]"
     ]
    },
    {
     "name": "stderr",
     "output_type": "stream",
     "text": [
      "\n",
      "\r",
      "Loading labels:  41%|█████████████████████████████▏                                          | 73/180 [14:36<18:46, 10.53s/it]"
     ]
    },
    {
     "name": "stderr",
     "output_type": "stream",
     "text": [
      "\n"
     ]
    },
    {
     "name": "stderr",
     "output_type": "stream",
     "text": [
      "\r",
      "Counting pixels:   0%|                                                                                  | 0/7 [00:00<?, ?it/s]"
     ]
    },
    {
     "name": "stderr",
     "output_type": "stream",
     "text": [
      "\u001b[A"
     ]
    },
    {
     "name": "stderr",
     "output_type": "stream",
     "text": [
      "\r",
      "Counting pixels: 100%|███████████████████████████████████████████████████████████████████████| 7/7 [00:00<00:00, 87642.17it/s]"
     ]
    },
    {
     "name": "stderr",
     "output_type": "stream",
     "text": [
      "\n",
      "\r",
      "Loading labels:  41%|█████████████████████████████▌                                          | 74/180 [14:37<13:39,  7.74s/it]"
     ]
    },
    {
     "name": "stderr",
     "output_type": "stream",
     "text": [
      "\n"
     ]
    },
    {
     "name": "stderr",
     "output_type": "stream",
     "text": [
      "\r",
      "Counting pixels:   0%|                                                                                  | 0/5 [00:00<?, ?it/s]"
     ]
    },
    {
     "name": "stderr",
     "output_type": "stream",
     "text": [
      "\u001b[A"
     ]
    },
    {
     "name": "stderr",
     "output_type": "stream",
     "text": [
      "\r",
      "Counting pixels: 100%|███████████████████████████████████████████████████████████████████████| 5/5 [00:00<00:00, 62977.54it/s]"
     ]
    },
    {
     "name": "stderr",
     "output_type": "stream",
     "text": [
      "\n",
      "\r",
      "Loading labels:  42%|██████████████████████████████                                          | 75/180 [14:42<12:04,  6.90s/it]"
     ]
    },
    {
     "name": "stderr",
     "output_type": "stream",
     "text": [
      "\n"
     ]
    },
    {
     "name": "stderr",
     "output_type": "stream",
     "text": [
      "\r",
      "Counting pixels:   0%|                                                                                  | 0/7 [00:00<?, ?it/s]"
     ]
    },
    {
     "name": "stderr",
     "output_type": "stream",
     "text": [
      "\u001b[A"
     ]
    },
    {
     "name": "stderr",
     "output_type": "stream",
     "text": [
      "\r",
      "Counting pixels: 100%|███████████████████████████████████████████████████████████████████████| 7/7 [00:00<00:00, 99189.62it/s]"
     ]
    },
    {
     "name": "stderr",
     "output_type": "stream",
     "text": [
      "\n",
      "\r",
      "Loading labels:  42%|██████████████████████████████▍                                         | 76/180 [14:45<09:51,  5.69s/it]"
     ]
    },
    {
     "name": "stderr",
     "output_type": "stream",
     "text": [
      "\n"
     ]
    },
    {
     "name": "stderr",
     "output_type": "stream",
     "text": [
      "\r",
      "Counting pixels:   0%|                                                                                  | 0/6 [00:00<?, ?it/s]"
     ]
    },
    {
     "name": "stderr",
     "output_type": "stream",
     "text": [
      "\u001b[A"
     ]
    },
    {
     "name": "stderr",
     "output_type": "stream",
     "text": [
      "\r",
      "Counting pixels: 100%|███████████████████████████████████████████████████████████████████████| 6/6 [00:00<00:00, 80401.99it/s]"
     ]
    },
    {
     "name": "stderr",
     "output_type": "stream",
     "text": [
      "\n",
      "\r",
      "Loading labels:  43%|██████████████████████████████▊                                         | 77/180 [14:54<11:43,  6.83s/it]"
     ]
    },
    {
     "name": "stderr",
     "output_type": "stream",
     "text": [
      "\n"
     ]
    },
    {
     "name": "stderr",
     "output_type": "stream",
     "text": [
      "\r",
      "Counting pixels:   0%|                                                                                  | 0/6 [00:00<?, ?it/s]"
     ]
    },
    {
     "name": "stderr",
     "output_type": "stream",
     "text": [
      "\u001b[A"
     ]
    },
    {
     "name": "stderr",
     "output_type": "stream",
     "text": [
      "\r",
      "Counting pixels: 100%|███████████████████████████████████████████████████████████████████████| 6/6 [00:00<00:00, 80145.94it/s]"
     ]
    },
    {
     "name": "stderr",
     "output_type": "stream",
     "text": [
      "\n",
      "\r",
      "Loading labels:  43%|███████████████████████████████▏                                        | 78/180 [14:58<09:56,  5.85s/it]"
     ]
    },
    {
     "name": "stderr",
     "output_type": "stream",
     "text": [
      "\n"
     ]
    },
    {
     "name": "stderr",
     "output_type": "stream",
     "text": [
      "\r",
      "Counting pixels:   0%|                                                                                  | 0/7 [00:00<?, ?it/s]"
     ]
    },
    {
     "name": "stderr",
     "output_type": "stream",
     "text": [
      "\u001b[A"
     ]
    },
    {
     "name": "stderr",
     "output_type": "stream",
     "text": [
      "\r",
      "Counting pixels: 100%|███████████████████████████████████████████████████████████████████████| 7/7 [00:00<00:00, 76858.97it/s]"
     ]
    },
    {
     "name": "stderr",
     "output_type": "stream",
     "text": [
      "\n",
      "\r",
      "Loading labels:  44%|███████████████████████████████▌                                        | 79/180 [15:00<08:03,  4.79s/it]"
     ]
    },
    {
     "name": "stderr",
     "output_type": "stream",
     "text": [
      "\n"
     ]
    },
    {
     "name": "stderr",
     "output_type": "stream",
     "text": [
      "\r",
      "Counting pixels:   0%|                                                                                  | 0/7 [00:00<?, ?it/s]"
     ]
    },
    {
     "name": "stderr",
     "output_type": "stream",
     "text": [
      "\u001b[A"
     ]
    },
    {
     "name": "stderr",
     "output_type": "stream",
     "text": [
      "\r",
      "Counting pixels: 100%|███████████████████████████████████████████████████████████████████████| 7/7 [00:00<00:00, 89512.59it/s]"
     ]
    },
    {
     "name": "stderr",
     "output_type": "stream",
     "text": [
      "\n",
      "\r",
      "Loading labels:  44%|████████████████████████████████                                        | 80/180 [15:24<17:35, 10.56s/it]"
     ]
    },
    {
     "name": "stderr",
     "output_type": "stream",
     "text": [
      "\n"
     ]
    },
    {
     "name": "stderr",
     "output_type": "stream",
     "text": [
      "\r",
      "Counting pixels:   0%|                                                                                  | 0/5 [00:00<?, ?it/s]"
     ]
    },
    {
     "name": "stderr",
     "output_type": "stream",
     "text": [
      "\u001b[A"
     ]
    },
    {
     "name": "stderr",
     "output_type": "stream",
     "text": [
      "\r",
      "Counting pixels: 100%|███████████████████████████████████████████████████████████████████████| 5/5 [00:00<00:00, 60787.01it/s]"
     ]
    },
    {
     "name": "stderr",
     "output_type": "stream",
     "text": [
      "\n",
      "\r",
      "Loading labels:  45%|████████████████████████████████▍                                       | 81/180 [15:27<13:24,  8.12s/it]"
     ]
    },
    {
     "name": "stderr",
     "output_type": "stream",
     "text": [
      "\n"
     ]
    },
    {
     "name": "stderr",
     "output_type": "stream",
     "text": [
      "\r",
      "Counting pixels:   0%|                                                                                  | 0/7 [00:00<?, ?it/s]"
     ]
    },
    {
     "name": "stderr",
     "output_type": "stream",
     "text": [
      "\u001b[A"
     ]
    },
    {
     "name": "stderr",
     "output_type": "stream",
     "text": [
      "\r",
      "Counting pixels: 100%|███████████████████████████████████████████████████████████████████████| 7/7 [00:00<00:00, 67185.65it/s]"
     ]
    },
    {
     "name": "stderr",
     "output_type": "stream",
     "text": [
      "\n",
      "\r",
      "Loading labels:  46%|████████████████████████████████▊                                       | 82/180 [15:30<10:43,  6.57s/it]"
     ]
    },
    {
     "name": "stderr",
     "output_type": "stream",
     "text": [
      "\n"
     ]
    },
    {
     "name": "stderr",
     "output_type": "stream",
     "text": [
      "\r",
      "Counting pixels:   0%|                                                                                  | 0/6 [00:00<?, ?it/s]"
     ]
    },
    {
     "name": "stderr",
     "output_type": "stream",
     "text": [
      "\u001b[A"
     ]
    },
    {
     "name": "stderr",
     "output_type": "stream",
     "text": [
      "\r",
      "Counting pixels: 100%|███████████████████████████████████████████████████████████████████████| 6/6 [00:00<00:00, 68759.08it/s]"
     ]
    },
    {
     "name": "stderr",
     "output_type": "stream",
     "text": [
      "\n",
      "\r",
      "Loading labels:  46%|█████████████████████████████████▏                                      | 83/180 [15:49<16:37, 10.28s/it]"
     ]
    },
    {
     "name": "stderr",
     "output_type": "stream",
     "text": [
      "\n"
     ]
    },
    {
     "name": "stderr",
     "output_type": "stream",
     "text": [
      "\r",
      "Counting pixels:   0%|                                                                                  | 0/6 [00:00<?, ?it/s]"
     ]
    },
    {
     "name": "stderr",
     "output_type": "stream",
     "text": [
      "\u001b[A"
     ]
    },
    {
     "name": "stderr",
     "output_type": "stream",
     "text": [
      "\r",
      "Counting pixels: 100%|███████████████████████████████████████████████████████████████████████| 6/6 [00:00<00:00, 44620.26it/s]"
     ]
    },
    {
     "name": "stderr",
     "output_type": "stream",
     "text": [
      "\n",
      "\r",
      "Loading labels:  47%|█████████████████████████████████▌                                      | 84/180 [15:51<12:47,  7.99s/it]"
     ]
    },
    {
     "name": "stderr",
     "output_type": "stream",
     "text": [
      "\n"
     ]
    },
    {
     "name": "stderr",
     "output_type": "stream",
     "text": [
      "\r",
      "Counting pixels:   0%|                                                                                  | 0/6 [00:00<?, ?it/s]"
     ]
    },
    {
     "name": "stderr",
     "output_type": "stream",
     "text": [
      "\u001b[A"
     ]
    },
    {
     "name": "stderr",
     "output_type": "stream",
     "text": [
      "\r",
      "Counting pixels: 100%|███████████████████████████████████████████████████████████████████████| 6/6 [00:00<00:00, 78889.73it/s]"
     ]
    },
    {
     "name": "stderr",
     "output_type": "stream",
     "text": [
      "\n",
      "\r",
      "Loading labels:  47%|██████████████████████████████████                                      | 85/180 [16:29<26:48, 16.93s/it]"
     ]
    },
    {
     "name": "stderr",
     "output_type": "stream",
     "text": [
      "\n"
     ]
    },
    {
     "name": "stderr",
     "output_type": "stream",
     "text": [
      "\r",
      "Counting pixels:   0%|                                                                                  | 0/6 [00:00<?, ?it/s]"
     ]
    },
    {
     "name": "stderr",
     "output_type": "stream",
     "text": [
      "\u001b[A"
     ]
    },
    {
     "name": "stderr",
     "output_type": "stream",
     "text": [
      "\r",
      "Counting pixels: 100%|███████████████████████████████████████████████████████████████████████| 6/6 [00:00<00:00, 81180.08it/s]"
     ]
    },
    {
     "name": "stderr",
     "output_type": "stream",
     "text": [
      "\n",
      "\r",
      "Loading labels:  48%|██████████████████████████████████▍                                     | 86/180 [16:39<23:19, 14.89s/it]"
     ]
    },
    {
     "name": "stderr",
     "output_type": "stream",
     "text": [
      "\n"
     ]
    },
    {
     "name": "stderr",
     "output_type": "stream",
     "text": [
      "\r",
      "Counting pixels:   0%|                                                                                  | 0/7 [00:00<?, ?it/s]"
     ]
    },
    {
     "name": "stderr",
     "output_type": "stream",
     "text": [
      "\u001b[A"
     ]
    },
    {
     "name": "stderr",
     "output_type": "stream",
     "text": [
      "\r",
      "Counting pixels: 100%|███████████████████████████████████████████████████████████████████████| 7/7 [00:00<00:00, 75282.38it/s]"
     ]
    },
    {
     "name": "stderr",
     "output_type": "stream",
     "text": [
      "\n",
      "\r",
      "Loading labels:  48%|██████████████████████████████████▊                                     | 87/180 [16:42<17:40, 11.40s/it]"
     ]
    },
    {
     "name": "stderr",
     "output_type": "stream",
     "text": [
      "\n"
     ]
    },
    {
     "name": "stderr",
     "output_type": "stream",
     "text": [
      "\r",
      "Counting pixels:   0%|                                                                                  | 0/6 [00:00<?, ?it/s]"
     ]
    },
    {
     "name": "stderr",
     "output_type": "stream",
     "text": [
      "\u001b[A"
     ]
    },
    {
     "name": "stderr",
     "output_type": "stream",
     "text": [
      "\r",
      "Counting pixels: 100%|███████████████████████████████████████████████████████████████████████| 6/6 [00:00<00:00, 70690.52it/s]"
     ]
    },
    {
     "name": "stderr",
     "output_type": "stream",
     "text": [
      "\n",
      "\r",
      "Loading labels:  49%|███████████████████████████████████▏                                    | 88/180 [16:46<13:45,  8.97s/it]"
     ]
    },
    {
     "name": "stderr",
     "output_type": "stream",
     "text": [
      "\n"
     ]
    },
    {
     "name": "stderr",
     "output_type": "stream",
     "text": [
      "\r",
      "Counting pixels:   0%|                                                                                  | 0/6 [00:00<?, ?it/s]"
     ]
    },
    {
     "name": "stderr",
     "output_type": "stream",
     "text": [
      "\u001b[A"
     ]
    },
    {
     "name": "stderr",
     "output_type": "stream",
     "text": [
      "\r",
      "Counting pixels: 100%|███████████████████████████████████████████████████████████████████████| 6/6 [00:00<00:00, 78889.73it/s]"
     ]
    },
    {
     "name": "stderr",
     "output_type": "stream",
     "text": [
      "\n",
      "\r",
      "Loading labels:  49%|███████████████████████████████████▌                                    | 89/180 [16:50<11:32,  7.61s/it]"
     ]
    },
    {
     "name": "stderr",
     "output_type": "stream",
     "text": [
      "\n"
     ]
    },
    {
     "name": "stderr",
     "output_type": "stream",
     "text": [
      "\r",
      "Counting pixels:   0%|                                                                                  | 0/5 [00:00<?, ?it/s]"
     ]
    },
    {
     "name": "stderr",
     "output_type": "stream",
     "text": [
      "\u001b[A"
     ]
    },
    {
     "name": "stderr",
     "output_type": "stream",
     "text": [
      "\r",
      "Counting pixels: 100%|███████████████████████████████████████████████████████████████████████| 5/5 [00:00<00:00, 60787.01it/s]"
     ]
    },
    {
     "name": "stderr",
     "output_type": "stream",
     "text": [
      "\n",
      "\r",
      "Loading labels:  50%|████████████████████████████████████                                    | 90/180 [16:59<12:11,  8.13s/it]"
     ]
    },
    {
     "name": "stderr",
     "output_type": "stream",
     "text": [
      "\n"
     ]
    },
    {
     "name": "stderr",
     "output_type": "stream",
     "text": [
      "\r",
      "Counting pixels:   0%|                                                                                  | 0/6 [00:00<?, ?it/s]"
     ]
    },
    {
     "name": "stderr",
     "output_type": "stream",
     "text": [
      "\u001b[A"
     ]
    },
    {
     "name": "stderr",
     "output_type": "stream",
     "text": [
      "\r",
      "Counting pixels: 100%|███████████████████████████████████████████████████████████████████████| 6/6 [00:00<00:00, 84733.41it/s]"
     ]
    },
    {
     "name": "stderr",
     "output_type": "stream",
     "text": [
      "\n",
      "\r",
      "Loading labels:  51%|████████████████████████████████████▍                                   | 91/180 [17:20<17:38, 11.89s/it]"
     ]
    },
    {
     "name": "stderr",
     "output_type": "stream",
     "text": [
      "\n"
     ]
    },
    {
     "name": "stderr",
     "output_type": "stream",
     "text": [
      "\r",
      "Counting pixels:   0%|                                                                                  | 0/6 [00:00<?, ?it/s]"
     ]
    },
    {
     "name": "stderr",
     "output_type": "stream",
     "text": [
      "\u001b[A"
     ]
    },
    {
     "name": "stderr",
     "output_type": "stream",
     "text": [
      "\r",
      "Counting pixels: 100%|███████████████████████████████████████████████████████████████████████| 6/6 [00:00<00:00, 66052.03it/s]"
     ]
    },
    {
     "name": "stderr",
     "output_type": "stream",
     "text": [
      "\n",
      "\r",
      "Loading labels:  51%|████████████████████████████████████▊                                   | 92/180 [17:29<16:14, 11.08s/it]"
     ]
    },
    {
     "name": "stderr",
     "output_type": "stream",
     "text": [
      "\n"
     ]
    },
    {
     "name": "stderr",
     "output_type": "stream",
     "text": [
      "\r",
      "Counting pixels:   0%|                                                                                  | 0/6 [00:00<?, ?it/s]"
     ]
    },
    {
     "name": "stderr",
     "output_type": "stream",
     "text": [
      "\u001b[A"
     ]
    },
    {
     "name": "stderr",
     "output_type": "stream",
     "text": [
      "\r",
      "Counting pixels: 100%|███████████████████████████████████████████████████████████████████████| 6/6 [00:00<00:00, 85019.68it/s]"
     ]
    },
    {
     "name": "stderr",
     "output_type": "stream",
     "text": [
      "\n",
      "\r",
      "Loading labels:  52%|█████████████████████████████████████▏                                  | 93/180 [17:51<20:46, 14.33s/it]"
     ]
    },
    {
     "name": "stderr",
     "output_type": "stream",
     "text": [
      "\n"
     ]
    },
    {
     "name": "stderr",
     "output_type": "stream",
     "text": [
      "\r",
      "Counting pixels:   0%|                                                                                  | 0/6 [00:00<?, ?it/s]"
     ]
    },
    {
     "name": "stderr",
     "output_type": "stream",
     "text": [
      "\u001b[A"
     ]
    },
    {
     "name": "stderr",
     "output_type": "stream",
     "text": [
      "\r",
      "Counting pixels: 100%|███████████████████████████████████████████████████████████████████████| 6/6 [00:00<00:00, 57325.34it/s]"
     ]
    },
    {
     "name": "stderr",
     "output_type": "stream",
     "text": [
      "\n",
      "\r",
      "Loading labels:  52%|█████████████████████████████████████▌                                  | 94/180 [18:09<21:59, 15.35s/it]"
     ]
    },
    {
     "name": "stderr",
     "output_type": "stream",
     "text": [
      "\n"
     ]
    },
    {
     "name": "stderr",
     "output_type": "stream",
     "text": [
      "\r",
      "Counting pixels:   0%|                                                                                  | 0/6 [00:00<?, ?it/s]"
     ]
    },
    {
     "name": "stderr",
     "output_type": "stream",
     "text": [
      "\u001b[A"
     ]
    },
    {
     "name": "stderr",
     "output_type": "stream",
     "text": [
      "\r",
      "Counting pixels: 100%|███████████████████████████████████████████████████████████████████████| 6/6 [00:00<00:00, 56679.78it/s]"
     ]
    },
    {
     "name": "stderr",
     "output_type": "stream",
     "text": [
      "\n",
      "\r",
      "Loading labels:  53%|██████████████████████████████████████                                  | 95/180 [18:23<21:11, 14.96s/it]"
     ]
    },
    {
     "name": "stderr",
     "output_type": "stream",
     "text": [
      "\n"
     ]
    },
    {
     "name": "stderr",
     "output_type": "stream",
     "text": [
      "\r",
      "Counting pixels:   0%|                                                                                  | 0/6 [00:00<?, ?it/s]"
     ]
    },
    {
     "name": "stderr",
     "output_type": "stream",
     "text": [
      "\u001b[A"
     ]
    },
    {
     "name": "stderr",
     "output_type": "stream",
     "text": [
      "\r",
      "Counting pixels: 100%|███████████████████████████████████████████████████████████████████████| 6/6 [00:00<00:00, 81442.80it/s]"
     ]
    },
    {
     "name": "stderr",
     "output_type": "stream",
     "text": [
      "\n",
      "\r",
      "Loading labels:  53%|██████████████████████████████████████▍                                 | 96/180 [19:11<34:46, 24.85s/it]"
     ]
    },
    {
     "name": "stderr",
     "output_type": "stream",
     "text": [
      "\n"
     ]
    },
    {
     "name": "stderr",
     "output_type": "stream",
     "text": [
      "\r",
      "Counting pixels:   0%|                                                                                  | 0/6 [00:00<?, ?it/s]"
     ]
    },
    {
     "name": "stderr",
     "output_type": "stream",
     "text": [
      "\u001b[A"
     ]
    },
    {
     "name": "stderr",
     "output_type": "stream",
     "text": [
      "\r",
      "Counting pixels: 100%|███████████████████████████████████████████████████████████████████████| 6/6 [00:00<00:00, 76491.87it/s]"
     ]
    },
    {
     "name": "stderr",
     "output_type": "stream",
     "text": [
      "\n",
      "\r",
      "Loading labels:  54%|██████████████████████████████████████▊                                 | 97/180 [19:21<28:14, 20.42s/it]"
     ]
    },
    {
     "name": "stderr",
     "output_type": "stream",
     "text": [
      "\n"
     ]
    },
    {
     "name": "stderr",
     "output_type": "stream",
     "text": [
      "\r",
      "Counting pixels:   0%|                                                                                  | 0/6 [00:00<?, ?it/s]"
     ]
    },
    {
     "name": "stderr",
     "output_type": "stream",
     "text": [
      "\u001b[A"
     ]
    },
    {
     "name": "stderr",
     "output_type": "stream",
     "text": [
      "\r",
      "Counting pixels: 100%|███████████████████████████████████████████████████████████████████████| 6/6 [00:00<00:00, 82782.32it/s]"
     ]
    },
    {
     "name": "stderr",
     "output_type": "stream",
     "text": [
      "\n",
      "\r",
      "Loading labels:  54%|███████████████████████████████████████▏                                | 98/180 [19:27<22:03, 16.13s/it]"
     ]
    },
    {
     "name": "stderr",
     "output_type": "stream",
     "text": [
      "\n"
     ]
    },
    {
     "name": "stderr",
     "output_type": "stream",
     "text": [
      "\r",
      "Counting pixels:   0%|                                                                                  | 0/5 [00:00<?, ?it/s]"
     ]
    },
    {
     "name": "stderr",
     "output_type": "stream",
     "text": [
      "\u001b[A"
     ]
    },
    {
     "name": "stderr",
     "output_type": "stream",
     "text": [
      "\r",
      "Counting pixels: 100%|███████████████████████████████████████████████████████████████████████| 5/5 [00:00<00:00, 74367.09it/s]"
     ]
    },
    {
     "name": "stderr",
     "output_type": "stream",
     "text": [
      "\n",
      "\r",
      "Loading labels:  55%|███████████████████████████████████████▌                                | 99/180 [19:30<16:18, 12.09s/it]"
     ]
    },
    {
     "name": "stderr",
     "output_type": "stream",
     "text": [
      "\n"
     ]
    },
    {
     "name": "stderr",
     "output_type": "stream",
     "text": [
      "\r",
      "Counting pixels:   0%|                                                                                  | 0/7 [00:00<?, ?it/s]"
     ]
    },
    {
     "name": "stderr",
     "output_type": "stream",
     "text": [
      "\u001b[A"
     ]
    },
    {
     "name": "stderr",
     "output_type": "stream",
     "text": [
      "\r",
      "Counting pixels: 100%|███████████████████████████████████████████████████████████████████████| 7/7 [00:00<00:00, 83173.17it/s]"
     ]
    },
    {
     "name": "stderr",
     "output_type": "stream",
     "text": [
      "\n",
      "\r",
      "Loading labels:  56%|███████████████████████████████████████▍                               | 100/180 [19:43<16:40, 12.51s/it]"
     ]
    },
    {
     "name": "stderr",
     "output_type": "stream",
     "text": [
      "\n"
     ]
    },
    {
     "name": "stderr",
     "output_type": "stream",
     "text": [
      "\r",
      "Counting pixels:   0%|                                                                                  | 0/6 [00:00<?, ?it/s]"
     ]
    },
    {
     "name": "stderr",
     "output_type": "stream",
     "text": [
      "\u001b[A"
     ]
    },
    {
     "name": "stderr",
     "output_type": "stream",
     "text": [
      "\r",
      "Counting pixels: 100%|███████████████████████████████████████████████████████████████████████| 6/6 [00:00<00:00, 70492.50it/s]"
     ]
    },
    {
     "name": "stderr",
     "output_type": "stream",
     "text": [
      "\n",
      "\r",
      "Loading labels:  56%|███████████████████████████████████████▊                               | 101/180 [20:32<30:38, 23.27s/it]"
     ]
    },
    {
     "name": "stderr",
     "output_type": "stream",
     "text": [
      "\n"
     ]
    },
    {
     "name": "stderr",
     "output_type": "stream",
     "text": [
      "\r",
      "Counting pixels:   0%|                                                                                  | 0/7 [00:00<?, ?it/s]"
     ]
    },
    {
     "name": "stderr",
     "output_type": "stream",
     "text": [
      "\u001b[A"
     ]
    },
    {
     "name": "stderr",
     "output_type": "stream",
     "text": [
      "\r",
      "Counting pixels: 100%|███████████████████████████████████████████████████████████████████████| 7/7 [00:00<00:00, 95325.09it/s]"
     ]
    },
    {
     "name": "stderr",
     "output_type": "stream",
     "text": [
      "\n",
      "\r",
      "Loading labels:  57%|████████████████████████████████████████▏                              | 102/180 [20:37<23:13, 17.86s/it]"
     ]
    },
    {
     "name": "stderr",
     "output_type": "stream",
     "text": [
      "\n"
     ]
    },
    {
     "name": "stderr",
     "output_type": "stream",
     "text": [
      "\r",
      "Counting pixels:   0%|                                                                                  | 0/6 [00:00<?, ?it/s]"
     ]
    },
    {
     "name": "stderr",
     "output_type": "stream",
     "text": [
      "\u001b[A"
     ]
    },
    {
     "name": "stderr",
     "output_type": "stream",
     "text": [
      "\r",
      "Counting pixels: 100%|███████████████████████████████████████████████████████████████████████| 6/6 [00:00<00:00, 85890.18it/s]"
     ]
    },
    {
     "name": "stderr",
     "output_type": "stream",
     "text": [
      "\n",
      "\r",
      "Loading labels:  57%|████████████████████████████████████████▋                              | 103/180 [20:42<18:10, 14.16s/it]"
     ]
    },
    {
     "name": "stderr",
     "output_type": "stream",
     "text": [
      "\n"
     ]
    },
    {
     "name": "stderr",
     "output_type": "stream",
     "text": [
      "\r",
      "Counting pixels:   0%|                                                                                  | 0/7 [00:00<?, ?it/s]"
     ]
    },
    {
     "name": "stderr",
     "output_type": "stream",
     "text": [
      "\u001b[A"
     ]
    },
    {
     "name": "stderr",
     "output_type": "stream",
     "text": [
      "\r",
      "Counting pixels: 100%|███████████████████████████████████████████████████████████████████████| 7/7 [00:00<00:00, 75865.96it/s]"
     ]
    },
    {
     "name": "stderr",
     "output_type": "stream",
     "text": [
      "\n",
      "\r",
      "Loading labels:  58%|█████████████████████████████████████████                              | 104/180 [20:48<14:34, 11.50s/it]"
     ]
    }
   ],
   "source": [
    "testing_labels = get_label_distribution(TEST_LABELS_PATH)\n",
    "testing_labels.write_csv(os.path.join(TEST_LABELS_PATH, \"testing_labels.csv\"))"
   ]
  },
  {
   "cell_type": "code",
   "execution_count": null,
   "id": "0c2d41ac",
   "metadata": {
    "papermill": {
     "duration": null,
     "end_time": null,
     "exception": null,
     "start_time": null,
     "status": "completed"
    },
    "tags": []
   },
   "outputs": [],
   "source": [
    "# load label distributions\n",
    "training_labels = pl.read_csv(os.path.join(TRAIN_LABELS_PATH, \"training_labels.csv\"))\n",
    "testing_labels = pl.read_csv(os.path.join(TEST_LABELS_PATH, \"testing_labels.csv\"))"
   ]
  },
  {
   "cell_type": "code",
   "execution_count": null,
   "id": "85ebf22d",
   "metadata": {
    "papermill": {
     "duration": null,
     "end_time": null,
     "exception": null,
     "start_time": null,
     "status": "completed"
    },
    "tags": []
   },
   "outputs": [],
   "source": [
    "# plot average pixels per label (category) for training and testing sets\n",
    "fig, ax = plt.subplots(figsize=(12, 8))\n",
    "bar_width = 0.35\n",
    "index = np.arange(len(label_annotations))\n",
    "\n",
    "# Calculate average pixels per label\n",
    "training_avg = training_labels[\"total_pixels\"] / training_labels[\"total_pixels\"].sum()\n",
    "testing_avg = testing_labels[\"total_pixels\"] / testing_labels[\"total_pixels\"].sum()\n",
    "\n",
    "# Plot training averages\n",
    "ax.bar(index, training_avg, bar_width, label=\"Training\", color='b')\n",
    "\n",
    "# Plot testing averages\n",
    "ax.bar(index + bar_width, testing_avg, bar_width, label=\"Testing\", color='r')\n",
    "\n",
    "ax.set_ylabel(\"Average Pixels per File\")\n",
    "ax.set_xlabel(\"Labels\")\n",
    "ax.set_title(\"Average Label Distribution in Training and Testing Sets\")\n",
    "ax.set_xticks(index + bar_width / 2)\n",
    "ax.set_xticklabels([label_annotations[i] for i in range(len(label_annotations))])\n",
    "ax.legend()\n",
    "\n",
    "plt.tight_layout()\n",
    "plt.show()"
   ]
  }
 ],
 "metadata": {
  "kernelspec": {
   "display_name": "pdac_tversky",
   "language": "python",
   "name": "python3"
  },
  "language_info": {
   "codemirror_mode": {
    "name": "ipython",
    "version": 3
   },
   "file_extension": ".py",
   "mimetype": "text/x-python",
   "name": "python",
   "nbconvert_exporter": "python",
   "pygments_lexer": "ipython3",
   "version": "3.10.16"
  },
  "papermill": {
   "default_parameters": {},
   "duration": 1254.466484,
   "end_time": "2025-05-27T20:14:33.476841",
   "environment_variables": {},
   "exception": null,
   "input_path": "/home/bobby/repos/PDAC_Detection_forked/data_balance.ipynb",
   "output_path": "output.ipynb",
   "parameters": {},
   "start_time": "2025-05-27T19:53:39.010357",
   "version": "2.6.0"
  }
 },
 "nbformat": 4,
 "nbformat_minor": 5
}