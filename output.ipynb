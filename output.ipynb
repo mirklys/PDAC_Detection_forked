{
 "cells": [
  {
   "cell_type": "markdown",
   "id": "9afad33d",
   "metadata": {
    "papermill": {
     "duration": 0.003083,
     "end_time": "2025-05-27T15:19:58.657609",
     "exception": false,
     "start_time": "2025-05-27T15:19:58.654526",
     "status": "completed"
    },
    "tags": []
   },
   "source": [
    "This notebook analyzes the balance of labales in the dataset"
   ]
  },
  {
   "cell_type": "code",
   "execution_count": 1,
   "id": "294ea93d",
   "metadata": {
    "execution": {
     "iopub.execute_input": "2025-05-27T15:19:58.678027Z",
     "iopub.status.busy": "2025-05-27T15:19:58.677837Z",
     "iopub.status.idle": "2025-05-27T15:20:01.870167Z",
     "shell.execute_reply": "2025-05-27T15:20:01.869463Z"
    },
    "papermill": {
     "duration": 3.204737,
     "end_time": "2025-05-27T15:20:01.872023",
     "exception": false,
     "start_time": "2025-05-27T15:19:58.667286",
     "status": "completed"
    },
    "tags": []
   },
   "outputs": [],
   "source": [
    "import os\n",
    "from matplotlib import pyplot as plt\n",
    "import numpy as np\n",
    "import nibabel as nib\n",
    "import polars as pl\n",
    "from tqdm import tqdm"
   ]
  },
  {
   "cell_type": "code",
   "execution_count": 2,
   "id": "36f583b4",
   "metadata": {
    "execution": {
     "iopub.execute_input": "2025-05-27T15:20:01.877916Z",
     "iopub.status.busy": "2025-05-27T15:20:01.877050Z",
     "iopub.status.idle": "2025-05-27T15:20:01.880669Z",
     "shell.execute_reply": "2025-05-27T15:20:01.880127Z"
    },
    "papermill": {
     "duration": 0.008304,
     "end_time": "2025-05-27T15:20:01.882154",
     "exception": false,
     "start_time": "2025-05-27T15:20:01.873850",
     "status": "completed"
    },
    "tags": []
   },
   "outputs": [],
   "source": [
    "plt.style.use('seaborn-v0_8-white')"
   ]
  },
  {
   "cell_type": "code",
   "execution_count": 3,
   "id": "baaf8c10",
   "metadata": {
    "execution": {
     "iopub.execute_input": "2025-05-27T15:20:01.886697Z",
     "iopub.status.busy": "2025-05-27T15:20:01.886483Z",
     "iopub.status.idle": "2025-05-27T15:20:01.889671Z",
     "shell.execute_reply": "2025-05-27T15:20:01.889120Z"
    },
    "papermill": {
     "duration": 0.007196,
     "end_time": "2025-05-27T15:20:01.890940",
     "exception": false,
     "start_time": "2025-05-27T15:20:01.883744",
     "status": "completed"
    },
    "tags": []
   },
   "outputs": [],
   "source": [
    "ROOT_PATH = os.getcwd()\n",
    "TEST_LABELS_PATH = os.path.join(ROOT_PATH, \"workspace/test/labelsTs/true\")\n",
    "TRAIN_LABELS_PATH = os.path.join(ROOT_PATH, \"workspace/train/labelsTr\")"
   ]
  },
  {
   "cell_type": "code",
   "execution_count": 4,
   "id": "af776852",
   "metadata": {
    "execution": {
     "iopub.execute_input": "2025-05-27T15:20:01.904642Z",
     "iopub.status.busy": "2025-05-27T15:20:01.904394Z",
     "iopub.status.idle": "2025-05-27T15:20:01.907359Z",
     "shell.execute_reply": "2025-05-27T15:20:01.906821Z"
    },
    "papermill": {
     "duration": 0.014837,
     "end_time": "2025-05-27T15:20:01.908322",
     "exception": false,
     "start_time": "2025-05-27T15:20:01.893485",
     "status": "completed"
    },
    "tags": []
   },
   "outputs": [],
   "source": [
    "label_annotations = {\n",
    "    0: \"Background\",\n",
    "    1: \"PDAC lesion\",\n",
    "    2: \"Veins\",\n",
    "    3: \"Arteries\",\n",
    "    4: \"Pancreas parenchyma\",\n",
    "    5: \"Pancreatic duct\",\n",
    "    6: \"Common bile duct\",\n",
    "}"
   ]
  },
  {
   "cell_type": "code",
   "execution_count": 5,
   "id": "c937130d",
   "metadata": {
    "execution": {
     "iopub.execute_input": "2025-05-27T15:20:01.924292Z",
     "iopub.status.busy": "2025-05-27T15:20:01.924093Z",
     "iopub.status.idle": "2025-05-27T15:20:01.929422Z",
     "shell.execute_reply": "2025-05-27T15:20:01.928941Z"
    },
    "papermill": {
     "duration": 0.017598,
     "end_time": "2025-05-27T15:20:01.930606",
     "exception": false,
     "start_time": "2025-05-27T15:20:01.913008",
     "status": "completed"
    },
    "tags": []
   },
   "outputs": [],
   "source": [
    "def get_label_distribution(label_path):\n",
    "    data = []\n",
    "    label_files = [os.path.abspath(os.path.join(label_path, label_name)) for label_name in os.listdir(label_path)]\n",
    "    label_files = [f for f in label_files if f.endswith(\".nii.gz\")]\n",
    "    for label_file in tqdm(label_files, desc=\"Loading labels\"):\n",
    "        label = nib.load(os.path.realpath(label_file))\n",
    "        data_arr = np.asanyarray(label.dataobj)\n",
    "        \n",
    "        unique, counts = np.unique(data_arr, return_counts=True)\n",
    "        for label, count in tqdm(zip(unique, counts), desc=\"Counting pixels\", total=len(unique)):\n",
    "            data.append({\n",
    "                \"file\": label,\n",
    "                \"label\": int(label),\n",
    "                \"pixel_count\": int(count)\n",
    "            })\n",
    "    counts_df = pl.DataFrame(data)\n",
    "    distribution_f = (\n",
    "        counts_df.group_by(\"label\")\n",
    "        .agg([\n",
    "            pl.col(\"pixel_count\").sum().alias(\"total_pixels\"),\n",
    "            pl.col(\"file\").n_unique().alias(\"file_count\")\n",
    "        ])\n",
    "        .sort(\"label\")\n",
    "    )\n",
    "    return distribution_f"
   ]
  },
  {
   "cell_type": "code",
   "execution_count": 6,
   "id": "10a0e46a",
   "metadata": {
    "execution": {
     "iopub.execute_input": "2025-05-27T15:20:01.943753Z",
     "iopub.status.busy": "2025-05-27T15:20:01.943500Z"
    },
    "papermill": {
     "duration": 229.091528,
     "end_time": "2025-05-27T15:23:51.023671",
     "exception": false,
     "start_time": "2025-05-27T15:20:01.932143",
     "status": "completed"
    },
    "tags": []
   },
   "outputs": [
    {
     "name": "stderr",
     "output_type": "stream",
     "text": [
      "\r",
      "Loading labels:   0%|                                                                                 | 0/719 [00:00<?, ?it/s]"
     ]
    },
    {
     "name": "stderr",
     "output_type": "stream",
     "text": [
      "\n"
     ]
    },
    {
     "name": "stderr",
     "output_type": "stream",
     "text": [
      "\r",
      "Counting pixels:   0%|                                                                                  | 0/7 [00:00<?, ?it/s]"
     ]
    },
    {
     "name": "stderr",
     "output_type": "stream",
     "text": [
      "\u001b[A"
     ]
    },
    {
     "name": "stderr",
     "output_type": "stream",
     "text": [
      "\r",
      "Counting pixels: 100%|███████████████████████████████████████████████████████████████████████| 7/7 [00:00<00:00, 81783.09it/s]"
     ]
    },
    {
     "name": "stderr",
     "output_type": "stream",
     "text": [
      "\n",
      "\r",
      "Loading labels:   0%|                                                                       | 1/719 [00:25<5:10:42, 25.97s/it]"
     ]
    },
    {
     "name": "stderr",
     "output_type": "stream",
     "text": [
      "\n"
     ]
    },
    {
     "name": "stderr",
     "output_type": "stream",
     "text": [
      "\r",
      "Counting pixels:   0%|                                                                                  | 0/6 [00:00<?, ?it/s]"
     ]
    },
    {
     "name": "stderr",
     "output_type": "stream",
     "text": [
      "\u001b[A"
     ]
    },
    {
     "name": "stderr",
     "output_type": "stream",
     "text": [
      "\r",
      "Counting pixels: 100%|███████████████████████████████████████████████████████████████████████| 6/6 [00:00<00:00, 68947.46it/s]"
     ]
    },
    {
     "name": "stderr",
     "output_type": "stream",
     "text": [
      "\n",
      "\r",
      "Loading labels:   0%|▏                                                                      | 2/719 [00:30<2:40:31, 13.43s/it]"
     ]
    },
    {
     "name": "stderr",
     "output_type": "stream",
     "text": [
      "\n"
     ]
    },
    {
     "name": "stderr",
     "output_type": "stream",
     "text": [
      "\r",
      "Counting pixels:   0%|                                                                                  | 0/7 [00:00<?, ?it/s]"
     ]
    },
    {
     "name": "stderr",
     "output_type": "stream",
     "text": [
      "\u001b[A"
     ]
    },
    {
     "name": "stderr",
     "output_type": "stream",
     "text": [
      "\r",
      "Counting pixels: 100%|███████████████████████████████████████████████████████████████████████| 7/7 [00:00<00:00, 88970.08it/s]"
     ]
    },
    {
     "name": "stderr",
     "output_type": "stream",
     "text": [
      "\n",
      "\r",
      "Loading labels:   0%|▎                                                                      | 3/719 [00:37<2:05:29, 10.52s/it]"
     ]
    },
    {
     "name": "stderr",
     "output_type": "stream",
     "text": [
      "\n"
     ]
    },
    {
     "name": "stderr",
     "output_type": "stream",
     "text": [
      "\r",
      "Counting pixels:   0%|                                                                                  | 0/5 [00:00<?, ?it/s]"
     ]
    },
    {
     "name": "stderr",
     "output_type": "stream",
     "text": [
      "\u001b[A"
     ]
    },
    {
     "name": "stderr",
     "output_type": "stream",
     "text": [
      "\r",
      "Counting pixels: 100%|███████████████████████████████████████████████████████████████████████| 5/5 [00:00<00:00, 64329.82it/s]"
     ]
    },
    {
     "name": "stderr",
     "output_type": "stream",
     "text": [
      "\n",
      "\r",
      "Loading labels:   1%|▍                                                                      | 4/719 [00:43<1:43:19,  8.67s/it]"
     ]
    },
    {
     "name": "stderr",
     "output_type": "stream",
     "text": [
      "\n"
     ]
    },
    {
     "name": "stderr",
     "output_type": "stream",
     "text": [
      "\r",
      "Counting pixels:   0%|                                                                                  | 0/7 [00:00<?, ?it/s]"
     ]
    },
    {
     "name": "stderr",
     "output_type": "stream",
     "text": [
      "\u001b[A"
     ]
    },
    {
     "name": "stderr",
     "output_type": "stream",
     "text": [
      "\r",
      "Counting pixels: 100%|███████████████████████████████████████████████████████████████████████| 7/7 [00:00<00:00, 87122.04it/s]"
     ]
    },
    {
     "name": "stderr",
     "output_type": "stream",
     "text": [
      "\n",
      "\r",
      "Loading labels:   1%|▍                                                                      | 5/719 [00:47<1:23:29,  7.02s/it]"
     ]
    },
    {
     "name": "stderr",
     "output_type": "stream",
     "text": [
      "\n"
     ]
    },
    {
     "name": "stderr",
     "output_type": "stream",
     "text": [
      "\r",
      "Counting pixels:   0%|                                                                                  | 0/4 [00:00<?, ?it/s]"
     ]
    },
    {
     "name": "stderr",
     "output_type": "stream",
     "text": [
      "\u001b[A"
     ]
    },
    {
     "name": "stderr",
     "output_type": "stream",
     "text": [
      "\r",
      "Counting pixels: 100%|███████████████████████████████████████████████████████████████████████| 4/4 [00:00<00:00, 45590.26it/s]"
     ]
    },
    {
     "name": "stderr",
     "output_type": "stream",
     "text": [
      "\n",
      "\r",
      "Loading labels:   1%|▌                                                                      | 6/719 [00:57<1:36:08,  8.09s/it]"
     ]
    },
    {
     "name": "stderr",
     "output_type": "stream",
     "text": [
      "\n"
     ]
    },
    {
     "name": "stderr",
     "output_type": "stream",
     "text": [
      "\r",
      "Counting pixels:   0%|                                                                                  | 0/7 [00:00<?, ?it/s]"
     ]
    },
    {
     "name": "stderr",
     "output_type": "stream",
     "text": [
      "\u001b[A"
     ]
    },
    {
     "name": "stderr",
     "output_type": "stream",
     "text": [
      "\r",
      "Counting pixels: 100%|███████████████████████████████████████████████████████████████████████| 7/7 [00:00<00:00, 70747.30it/s]"
     ]
    },
    {
     "name": "stderr",
     "output_type": "stream",
     "text": [
      "\n",
      "\r",
      "Loading labels:   1%|▋                                                                      | 7/719 [01:14<2:08:57, 10.87s/it]"
     ]
    },
    {
     "name": "stderr",
     "output_type": "stream",
     "text": [
      "\n"
     ]
    },
    {
     "name": "stderr",
     "output_type": "stream",
     "text": [
      "\r",
      "Counting pixels:   0%|                                                                                  | 0/6 [00:00<?, ?it/s]"
     ]
    },
    {
     "name": "stderr",
     "output_type": "stream",
     "text": [
      "\u001b[A"
     ]
    },
    {
     "name": "stderr",
     "output_type": "stream",
     "text": [
      "\r",
      "Counting pixels: 100%|███████████████████████████████████████████████████████████████████████| 6/6 [00:00<00:00, 91180.52it/s]"
     ]
    },
    {
     "name": "stderr",
     "output_type": "stream",
     "text": [
      "\n",
      "\r",
      "Loading labels:   1%|▊                                                                      | 8/719 [01:28<2:20:46, 11.88s/it]"
     ]
    },
    {
     "name": "stderr",
     "output_type": "stream",
     "text": [
      "\n"
     ]
    },
    {
     "name": "stderr",
     "output_type": "stream",
     "text": [
      "\r",
      "Counting pixels:   0%|                                                                                  | 0/6 [00:00<?, ?it/s]"
     ]
    },
    {
     "name": "stderr",
     "output_type": "stream",
     "text": [
      "\u001b[A"
     ]
    },
    {
     "name": "stderr",
     "output_type": "stream",
     "text": [
      "\r",
      "Counting pixels: 100%|███████████████████████████████████████████████████████████████████████| 6/6 [00:00<00:00, 84449.07it/s]"
     ]
    },
    {
     "name": "stderr",
     "output_type": "stream",
     "text": [
      "\n",
      "\r",
      "Loading labels:   1%|▉                                                                      | 9/719 [01:35<2:02:59, 10.39s/it]"
     ]
    },
    {
     "name": "stderr",
     "output_type": "stream",
     "text": [
      "\n"
     ]
    },
    {
     "name": "stderr",
     "output_type": "stream",
     "text": [
      "\r",
      "Counting pixels:   0%|                                                                                  | 0/6 [00:00<?, ?it/s]"
     ]
    },
    {
     "name": "stderr",
     "output_type": "stream",
     "text": [
      "\u001b[A"
     ]
    },
    {
     "name": "stderr",
     "output_type": "stream",
     "text": [
      "\r",
      "Counting pixels: 100%|███████████████████████████████████████████████████████████████████████| 6/6 [00:00<00:00, 82782.32it/s]"
     ]
    },
    {
     "name": "stderr",
     "output_type": "stream",
     "text": [
      "\n",
      "\r",
      "Loading labels:   1%|▉                                                                     | 10/719 [01:48<2:10:24, 11.04s/it]"
     ]
    },
    {
     "name": "stderr",
     "output_type": "stream",
     "text": [
      "\n"
     ]
    },
    {
     "name": "stderr",
     "output_type": "stream",
     "text": [
      "\r",
      "Counting pixels:   0%|                                                                                  | 0/6 [00:00<?, ?it/s]"
     ]
    },
    {
     "name": "stderr",
     "output_type": "stream",
     "text": [
      "\u001b[A"
     ]
    },
    {
     "name": "stderr",
     "output_type": "stream",
     "text": [
      "\r",
      "Counting pixels: 100%|███████████████████████████████████████████████████████████████████████| 6/6 [00:00<00:00, 40394.58it/s]"
     ]
    },
    {
     "name": "stderr",
     "output_type": "stream",
     "text": [
      "\n",
      "\r",
      "Loading labels:   2%|█                                                                     | 11/719 [01:51<1:41:29,  8.60s/it]"
     ]
    },
    {
     "name": "stderr",
     "output_type": "stream",
     "text": [
      "\n"
     ]
    },
    {
     "name": "stderr",
     "output_type": "stream",
     "text": [
      "\r",
      "Counting pixels:   0%|                                                                                  | 0/6 [00:00<?, ?it/s]"
     ]
    },
    {
     "name": "stderr",
     "output_type": "stream",
     "text": [
      "\u001b[A"
     ]
    },
    {
     "name": "stderr",
     "output_type": "stream",
     "text": [
      "\r",
      "Counting pixels: 100%|███████████████████████████████████████████████████████████████████████| 6/6 [00:00<00:00, 81442.80it/s]"
     ]
    },
    {
     "name": "stderr",
     "output_type": "stream",
     "text": [
      "\n",
      "\r",
      "Loading labels:   2%|█▏                                                                    | 12/719 [01:58<1:36:02,  8.15s/it]"
     ]
    },
    {
     "name": "stderr",
     "output_type": "stream",
     "text": [
      "\n"
     ]
    },
    {
     "name": "stderr",
     "output_type": "stream",
     "text": [
      "\r",
      "Counting pixels:   0%|                                                                                  | 0/4 [00:00<?, ?it/s]"
     ]
    },
    {
     "name": "stderr",
     "output_type": "stream",
     "text": [
      "\u001b[A"
     ]
    },
    {
     "name": "stderr",
     "output_type": "stream",
     "text": [
      "\r",
      "Counting pixels: 100%|███████████████████████████████████████████████████████████████████████| 4/4 [00:00<00:00, 58867.42it/s]"
     ]
    },
    {
     "name": "stderr",
     "output_type": "stream",
     "text": [
      "\n",
      "\r",
      "Loading labels:   2%|█▎                                                                    | 13/719 [02:09<1:47:24,  9.13s/it]"
     ]
    },
    {
     "name": "stderr",
     "output_type": "stream",
     "text": [
      "\n"
     ]
    },
    {
     "name": "stderr",
     "output_type": "stream",
     "text": [
      "\r",
      "Counting pixels:   0%|                                                                                  | 0/6 [00:00<?, ?it/s]"
     ]
    },
    {
     "name": "stderr",
     "output_type": "stream",
     "text": [
      "\u001b[A"
     ]
    },
    {
     "name": "stderr",
     "output_type": "stream",
     "text": [
      "\r",
      "Counting pixels: 100%|███████████████████████████████████████████████████████████████████████| 6/6 [00:00<00:00, 90524.55it/s]"
     ]
    },
    {
     "name": "stderr",
     "output_type": "stream",
     "text": [
      "\n",
      "\r",
      "Loading labels:   2%|█▎                                                                    | 14/719 [02:10<1:19:34,  6.77s/it]"
     ]
    },
    {
     "name": "stderr",
     "output_type": "stream",
     "text": [
      "\n"
     ]
    },
    {
     "name": "stderr",
     "output_type": "stream",
     "text": [
      "\r",
      "Counting pixels:   0%|                                                                                  | 0/6 [00:00<?, ?it/s]"
     ]
    },
    {
     "name": "stderr",
     "output_type": "stream",
     "text": [
      "\u001b[A"
     ]
    },
    {
     "name": "stderr",
     "output_type": "stream",
     "text": [
      "\r",
      "Counting pixels: 100%|███████████████████████████████████████████████████████████████████████| 6/6 [00:00<00:00, 55188.21it/s]"
     ]
    },
    {
     "name": "stderr",
     "output_type": "stream",
     "text": [
      "\n",
      "\r",
      "Loading labels:   2%|█▍                                                                    | 15/719 [02:23<1:41:23,  8.64s/it]"
     ]
    },
    {
     "name": "stderr",
     "output_type": "stream",
     "text": [
      "\n"
     ]
    },
    {
     "name": "stderr",
     "output_type": "stream",
     "text": [
      "\r",
      "Counting pixels:   0%|                                                                                  | 0/7 [00:00<?, ?it/s]"
     ]
    },
    {
     "name": "stderr",
     "output_type": "stream",
     "text": [
      "\u001b[A"
     ]
    },
    {
     "name": "stderr",
     "output_type": "stream",
     "text": [
      "\r",
      "Counting pixels: 100%|███████████████████████████████████████████████████████████████████████| 7/7 [00:00<00:00, 70239.54it/s]"
     ]
    },
    {
     "name": "stderr",
     "output_type": "stream",
     "text": [
      "\n",
      "\r",
      "Loading labels:   2%|█▌                                                                    | 16/719 [02:26<1:20:32,  6.87s/it]"
     ]
    },
    {
     "name": "stderr",
     "output_type": "stream",
     "text": [
      "\n"
     ]
    },
    {
     "name": "stderr",
     "output_type": "stream",
     "text": [
      "\r",
      "Counting pixels:   0%|                                                                                  | 0/5 [00:00<?, ?it/s]"
     ]
    },
    {
     "name": "stderr",
     "output_type": "stream",
     "text": [
      "\u001b[A"
     ]
    },
    {
     "name": "stderr",
     "output_type": "stream",
     "text": [
      "\r",
      "Counting pixels: 100%|███████████████████████████████████████████████████████████████████████| 5/5 [00:00<00:00, 67650.06it/s]"
     ]
    },
    {
     "name": "stderr",
     "output_type": "stream",
     "text": [
      "\n",
      "\r",
      "Loading labels:   2%|█▋                                                                    | 17/719 [02:30<1:08:08,  5.82s/it]"
     ]
    },
    {
     "name": "stderr",
     "output_type": "stream",
     "text": [
      "\n"
     ]
    },
    {
     "name": "stderr",
     "output_type": "stream",
     "text": [
      "\r",
      "Counting pixels:   0%|                                                                                  | 0/6 [00:00<?, ?it/s]"
     ]
    },
    {
     "name": "stderr",
     "output_type": "stream",
     "text": [
      "\u001b[A"
     ]
    },
    {
     "name": "stderr",
     "output_type": "stream",
     "text": [
      "\r",
      "Counting pixels: 100%|███████████████████████████████████████████████████████████████████████| 6/6 [00:00<00:00, 87381.33it/s]"
     ]
    },
    {
     "name": "stderr",
     "output_type": "stream",
     "text": [
      "\n",
      "\r",
      "Loading labels:   3%|█▊                                                                    | 18/719 [02:35<1:06:45,  5.71s/it]"
     ]
    },
    {
     "name": "stderr",
     "output_type": "stream",
     "text": [
      "\n"
     ]
    },
    {
     "name": "stderr",
     "output_type": "stream",
     "text": [
      "\r",
      "Counting pixels:   0%|                                                                                  | 0/6 [00:00<?, ?it/s]"
     ]
    },
    {
     "name": "stderr",
     "output_type": "stream",
     "text": [
      "\u001b[A"
     ]
    },
    {
     "name": "stderr",
     "output_type": "stream",
     "text": [
      "\r",
      "Counting pixels: 100%|███████████████████████████████████████████████████████████████████████| 6/6 [00:00<00:00, 82510.90it/s]"
     ]
    },
    {
     "name": "stderr",
     "output_type": "stream",
     "text": [
      "\n",
      "\r",
      "Loading labels:   3%|█▊                                                                    | 19/719 [02:40<1:03:25,  5.44s/it]"
     ]
    },
    {
     "name": "stderr",
     "output_type": "stream",
     "text": [
      "\n"
     ]
    },
    {
     "name": "stderr",
     "output_type": "stream",
     "text": [
      "\r",
      "Counting pixels:   0%|                                                                                  | 0/7 [00:00<?, ?it/s]"
     ]
    },
    {
     "name": "stderr",
     "output_type": "stream",
     "text": [
      "\u001b[A"
     ]
    },
    {
     "name": "stderr",
     "output_type": "stream",
     "text": [
      "\r",
      "Counting pixels: 100%|███████████████████████████████████████████████████████████████████████| 7/7 [00:00<00:00, 96262.71it/s]"
     ]
    },
    {
     "name": "stderr",
     "output_type": "stream",
     "text": [
      "\n",
      "\r",
      "Loading labels:   3%|██                                                                      | 20/719 [02:43<55:48,  4.79s/it]"
     ]
    },
    {
     "name": "stderr",
     "output_type": "stream",
     "text": [
      "\n"
     ]
    },
    {
     "name": "stderr",
     "output_type": "stream",
     "text": [
      "\r",
      "Counting pixels:   0%|                                                                                  | 0/7 [00:00<?, ?it/s]"
     ]
    },
    {
     "name": "stderr",
     "output_type": "stream",
     "text": [
      "\u001b[A"
     ]
    },
    {
     "name": "stderr",
     "output_type": "stream",
     "text": [
      "\r",
      "Counting pixels: 100%|███████████████████████████████████████████████████████████████████████| 7/7 [00:00<00:00, 92327.45it/s]"
     ]
    },
    {
     "name": "stderr",
     "output_type": "stream",
     "text": [
      "\n",
      "\r",
      "Loading labels:   3%|██                                                                      | 21/719 [02:44<42:29,  3.65s/it]"
     ]
    },
    {
     "name": "stderr",
     "output_type": "stream",
     "text": [
      "\n"
     ]
    },
    {
     "name": "stderr",
     "output_type": "stream",
     "text": [
      "\r",
      "Counting pixels:   0%|                                                                                  | 0/6 [00:00<?, ?it/s]"
     ]
    },
    {
     "name": "stderr",
     "output_type": "stream",
     "text": [
      "\u001b[A"
     ]
    },
    {
     "name": "stderr",
     "output_type": "stream",
     "text": [
      "\r",
      "Counting pixels: 100%|███████████████████████████████████████████████████████████████████████| 6/6 [00:00<00:00, 67832.41it/s]"
     ]
    },
    {
     "name": "stderr",
     "output_type": "stream",
     "text": [
      "\n",
      "\r",
      "Loading labels:   3%|██▏                                                                   | 22/719 [03:15<2:16:57, 11.79s/it]"
     ]
    }
   ],
   "source": [
    "training_labels = get_label_distribution(TRAIN_LABELS_PATH)\n",
    "training_labels.write_csv(os.path.join(TRAIN_LABELS_PATH, \"training_labels.csv\"))"
   ]
  },
  {
   "cell_type": "code",
   "execution_count": null,
   "id": "e2fbdbe0",
   "metadata": {
    "papermill": {
     "duration": null,
     "end_time": null,
     "exception": null,
     "start_time": null,
     "status": "completed"
    },
    "tags": []
   },
   "outputs": [],
   "source": [
    "testing_labels = get_label_distribution(TEST_LABELS_PATH)\n",
    "testing_labels.write_csv(os.path.join(TEST_LABELS_PATH, \"testing_labels.csv\"))"
   ]
  },
  {
   "cell_type": "code",
   "execution_count": null,
   "id": "0c2d41ac",
   "metadata": {
    "papermill": {
     "duration": null,
     "end_time": null,
     "exception": null,
     "start_time": null,
     "status": "completed"
    },
    "tags": []
   },
   "outputs": [],
   "source": [
    "# load label distributions\n",
    "training_labels = pl.read_csv(os.path.join(TRAIN_LABELS_PATH, \"training_labels.csv\"))\n",
    "testing_labels = pl.read_csv(os.path.join(TEST_LABELS_PATH, \"testing_labels.csv\"))"
   ]
  },
  {
   "cell_type": "code",
   "execution_count": null,
   "id": "85ebf22d",
   "metadata": {
    "papermill": {
     "duration": null,
     "end_time": null,
     "exception": null,
     "start_time": null,
     "status": "completed"
    },
    "tags": []
   },
   "outputs": [],
   "source": [
    "# plot label distributions side by side bar-wise\n",
    "fig, ax = plt.subplots(figsize=(12, 8))\n",
    "bar_width = 0.35\n",
    "# Plot training labels\n",
    "index = np.arange(len(label_annotations))\n",
    "ax.bar(index, np.log(training_labels[\"total_pixels\"]), bar_width, label=\"Training\", color='b')\n",
    "\n",
    "# Plot testing labels\n",
    "ax.bar(index + bar_width, np.log(testing_labels[\"total_pixels\"]), bar_width, label=\"Testing\", color='r')\n",
    "ax.set_yscale('log')\n",
    "ax.set_ylabel(\"Log of Total Pixels\")\n",
    "ax.set_xlabel(\"Labels\")\n",
    "ax.set_title(\"Label Distribution in Training and Testing Sets\")\n",
    "ax.set_xticks(index + bar_width / 2)\n",
    "ax.set_xticklabels([label_annotations[i] for i in range(len(label_annotations))])\n",
    "ax.legend()\n",
    "\n",
    "plt.tight_layout()\n",
    "plt.show()"
   ]
  }
 ],
 "metadata": {
  "kernelspec": {
   "display_name": "pdac_tversky",
   "language": "python",
   "name": "python3"
  },
  "language_info": {
   "codemirror_mode": {
    "name": "ipython",
    "version": 3
   },
   "file_extension": ".py",
   "mimetype": "text/x-python",
   "name": "python",
   "nbconvert_exporter": "python",
   "pygments_lexer": "ipython3",
   "version": "3.10.16"
  },
  "papermill": {
   "default_parameters": {},
   "duration": 234.733024,
   "end_time": "2025-05-27T15:23:51.039817",
   "environment_variables": {},
   "exception": null,
   "input_path": "/home/bobby/repos/PDAC_Detection_forked/data_balance.ipynb",
   "output_path": "output.ipynb",
   "parameters": {},
   "start_time": "2025-05-27T15:19:56.306793",
   "version": "2.6.0"
  }
 },
 "nbformat": 4,
 "nbformat_minor": 5
}