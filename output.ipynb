{
 "cells": [
  {
   "cell_type": "markdown",
   "id": "0339b551",
   "metadata": {
    "tags": [
     "papermill-error-cell-tag"
    ]
   },
   "source": [
    "<span style=\"color:red; font-family:Helvetica Neue, Helvetica, Arial, sans-serif; font-size:2em;\">An Exception was encountered at '<a href=\"#papermill-error-cell\">In [26]</a>'.</span>"
   ]
  },
  {
   "cell_type": "code",
   "execution_count": 1,
   "id": "c9b75fbc",
   "metadata": {
    "execution": {
     "iopub.execute_input": "2025-05-20T20:50:32.809833Z",
     "iopub.status.busy": "2025-05-20T20:50:32.809486Z",
     "iopub.status.idle": "2025-05-20T20:50:34.012386Z",
     "shell.execute_reply": "2025-05-20T20:50:34.011780Z"
    },
    "papermill": {
     "duration": 1.210677,
     "end_time": "2025-05-20T20:50:34.013830",
     "exception": false,
     "start_time": "2025-05-20T20:50:32.803153",
     "status": "completed"
    },
    "tags": []
   },
   "outputs": [],
   "source": [
    "import os\n",
    "from matplotlib import pyplot as plt\n",
    "import numpy as np\n",
    "import nibabel as nib\n",
    "import polars as pl\n",
    "from tqdm import tqdm\n",
    "import seaborn as sns\n",
    "import polars as pl\n",
    "import pickle\n",
    "from matplotlib.colors import ListedColormap\n",
    "from matplotlib.colors import Normalize\n",
    "import matplotlib.cm as cm\n",
    "import json\n",
    "from sklearn.metrics import auc\n"
   ]
  },
  {
   "cell_type": "code",
   "execution_count": 2,
   "id": "23cac1e7",
   "metadata": {
    "execution": {
     "iopub.execute_input": "2025-05-20T20:50:34.024475Z",
     "iopub.status.busy": "2025-05-20T20:50:34.024183Z",
     "iopub.status.idle": "2025-05-20T20:50:34.027499Z",
     "shell.execute_reply": "2025-05-20T20:50:34.026793Z"
    },
    "papermill": {
     "duration": 0.010829,
     "end_time": "2025-05-20T20:50:34.028859",
     "exception": false,
     "start_time": "2025-05-20T20:50:34.018030",
     "status": "completed"
    },
    "tags": []
   },
   "outputs": [],
   "source": [
    "plt.style.use(\"seaborn-v0_8-white\")"
   ]
  },
  {
   "cell_type": "code",
   "execution_count": 3,
   "id": "e3b96fef",
   "metadata": {
    "execution": {
     "iopub.execute_input": "2025-05-20T20:50:34.038711Z",
     "iopub.status.busy": "2025-05-20T20:50:34.038395Z",
     "iopub.status.idle": "2025-05-20T20:50:34.042151Z",
     "shell.execute_reply": "2025-05-20T20:50:34.041738Z"
    },
    "papermill": {
     "duration": 0.01026,
     "end_time": "2025-05-20T20:50:34.043252",
     "exception": false,
     "start_time": "2025-05-20T20:50:34.032992",
     "status": "completed"
    },
    "tags": []
   },
   "outputs": [],
   "source": [
    "ROOT = os.getcwd()\n",
    "PREDICTED_DIR = os.path.join(ROOT, \"workspace/test/labelsTs/predicted\")\n",
    "IMAGE_DIR = os.path.join(ROOT, \"workspace/test/imagesTs\")\n",
    "TRUE_DIR = os.path.join(ROOT, \"workspace/test/labelsTs/true\")"
   ]
  },
  {
   "cell_type": "code",
   "execution_count": 4,
   "id": "42b37d2c",
   "metadata": {
    "execution": {
     "iopub.execute_input": "2025-05-20T20:50:34.052998Z",
     "iopub.status.busy": "2025-05-20T20:50:34.052592Z",
     "iopub.status.idle": "2025-05-20T20:50:34.057657Z",
     "shell.execute_reply": "2025-05-20T20:50:34.057087Z"
    },
    "papermill": {
     "duration": 0.011555,
     "end_time": "2025-05-20T20:50:34.058846",
     "exception": false,
     "start_time": "2025-05-20T20:50:34.047291",
     "status": "completed"
    },
    "tags": []
   },
   "outputs": [],
   "source": [
    "with open(os.path.join(PREDICTED_DIR, \"pdac-likelihood.json\"), \"r\") as f:\n",
    "    data = json.load(f)\n",
    "\n",
    "# Convert the dict to a list of dicts and create a DataFrame\n",
    "rows = [{\"id\": key, \"pdac_likelihood\": value} for key, value in data.items()]\n",
    "predicted_pdac_scores = pl.DataFrame(\n",
    "    rows,\n",
    "    schema={\n",
    "        \"id\": pl.Utf8,\n",
    "        \"pdac_likelihood\": pl.Float64,\n",
    "    },\n",
    ")"
   ]
  },
  {
   "cell_type": "code",
   "execution_count": 5,
   "id": "a3663a5a",
   "metadata": {
    "execution": {
     "iopub.execute_input": "2025-05-20T20:50:34.068594Z",
     "iopub.status.busy": "2025-05-20T20:50:34.068262Z",
     "iopub.status.idle": "2025-05-20T20:50:34.075001Z",
     "shell.execute_reply": "2025-05-20T20:50:34.074316Z"
    },
    "papermill": {
     "duration": 0.013671,
     "end_time": "2025-05-20T20:50:34.076543",
     "exception": false,
     "start_time": "2025-05-20T20:50:34.062872",
     "status": "completed"
    },
    "tags": []
   },
   "outputs": [
    {
     "data": {
      "text/html": [
       "<div><style>\n",
       ".dataframe > thead > tr,\n",
       ".dataframe > tbody > tr {\n",
       "  text-align: right;\n",
       "  white-space: pre-wrap;\n",
       "}\n",
       "</style>\n",
       "<small>shape: (224, 2)</small><table border=\"1\" class=\"dataframe\"><thead><tr><th>id</th><th>pdac_likelihood</th></tr><tr><td>str</td><td>f64</td></tr></thead><tbody><tr><td>&quot;100006_00001_0000&quot;</td><td>0.424344</td></tr><tr><td>&quot;100010_00001_0000&quot;</td><td>0.002501</td></tr><tr><td>&quot;100020_00001_0000&quot;</td><td>0.002595</td></tr><tr><td>&quot;100022_00001_0000&quot;</td><td>0.002199</td></tr><tr><td>&quot;100023_00001_0000&quot;</td><td>0.005653</td></tr><tr><td>&hellip;</td><td>&hellip;</td></tr><tr><td>&quot;101076_00001_0000&quot;</td><td>0.001693</td></tr><tr><td>&quot;101078_00001_0000&quot;</td><td>0.999844</td></tr><tr><td>&quot;101084_00001_0000&quot;</td><td>0.002663</td></tr><tr><td>&quot;101092_00001_0000&quot;</td><td>0.999778</td></tr><tr><td>&quot;101104_00001_0000&quot;</td><td>0.373729</td></tr></tbody></table></div>"
      ],
      "text/plain": [
       "shape: (224, 2)\n",
       "┌───────────────────┬─────────────────┐\n",
       "│ id                ┆ pdac_likelihood │\n",
       "│ ---               ┆ ---             │\n",
       "│ str               ┆ f64             │\n",
       "╞═══════════════════╪═════════════════╡\n",
       "│ 100006_00001_0000 ┆ 0.424344        │\n",
       "│ 100010_00001_0000 ┆ 0.002501        │\n",
       "│ 100020_00001_0000 ┆ 0.002595        │\n",
       "│ 100022_00001_0000 ┆ 0.002199        │\n",
       "│ 100023_00001_0000 ┆ 0.005653        │\n",
       "│ …                 ┆ …               │\n",
       "│ 101076_00001_0000 ┆ 0.001693        │\n",
       "│ 101078_00001_0000 ┆ 0.999844        │\n",
       "│ 101084_00001_0000 ┆ 0.002663        │\n",
       "│ 101092_00001_0000 ┆ 0.999778        │\n",
       "│ 101104_00001_0000 ┆ 0.373729        │\n",
       "└───────────────────┴─────────────────┘"
      ]
     },
     "execution_count": 5,
     "metadata": {},
     "output_type": "execute_result"
    }
   ],
   "source": [
    "predicted_pdac_scores"
   ]
  },
  {
   "cell_type": "code",
   "execution_count": 6,
   "id": "45b465a6",
   "metadata": {
    "execution": {
     "iopub.execute_input": "2025-05-20T20:50:34.086831Z",
     "iopub.status.busy": "2025-05-20T20:50:34.086486Z",
     "iopub.status.idle": "2025-05-20T20:50:34.090104Z",
     "shell.execute_reply": "2025-05-20T20:50:34.089679Z"
    },
    "papermill": {
     "duration": 0.010468,
     "end_time": "2025-05-20T20:50:34.091284",
     "exception": false,
     "start_time": "2025-05-20T20:50:34.080816",
     "status": "completed"
    },
    "tags": []
   },
   "outputs": [],
   "source": [
    "label_annotations = {\n",
    "    0: \"Background\",\n",
    "    1: \"PDAC lesion\",\n",
    "    2: \"Veins\",\n",
    "    3: \"Arteries\",\n",
    "    4: \"Pancreas parenchyma\",\n",
    "    5: \"Pancreatic duct\",\n",
    "    6: \"Common bile duct\",\n",
    "}"
   ]
  },
  {
   "cell_type": "code",
   "execution_count": 7,
   "id": "115fe410",
   "metadata": {
    "execution": {
     "iopub.execute_input": "2025-05-20T20:50:34.102162Z",
     "iopub.status.busy": "2025-05-20T20:50:34.101742Z",
     "iopub.status.idle": "2025-05-20T20:50:34.104986Z",
     "shell.execute_reply": "2025-05-20T20:50:34.104508Z"
    },
    "papermill": {
     "duration": 0.010678,
     "end_time": "2025-05-20T20:50:34.106313",
     "exception": false,
     "start_time": "2025-05-20T20:50:34.095635",
     "status": "completed"
    },
    "tags": []
   },
   "outputs": [],
   "source": [
    "PDAC_LABEL = 1"
   ]
  },
  {
   "cell_type": "code",
   "execution_count": 8,
   "id": "07230012",
   "metadata": {
    "execution": {
     "iopub.execute_input": "2025-05-20T20:50:34.116344Z",
     "iopub.status.busy": "2025-05-20T20:50:34.116046Z",
     "iopub.status.idle": "2025-05-20T20:50:34.119105Z",
     "shell.execute_reply": "2025-05-20T20:50:34.118691Z"
    },
    "papermill": {
     "duration": 0.009846,
     "end_time": "2025-05-20T20:50:34.120373",
     "exception": false,
     "start_time": "2025-05-20T20:50:34.110527",
     "status": "completed"
    },
    "tags": []
   },
   "outputs": [],
   "source": [
    "true_labels = os.listdir(TRUE_DIR)"
   ]
  },
  {
   "cell_type": "code",
   "execution_count": 9,
   "id": "bacbb0d7",
   "metadata": {
    "execution": {
     "iopub.execute_input": "2025-05-20T20:50:34.130987Z",
     "iopub.status.busy": "2025-05-20T20:50:34.130626Z",
     "iopub.status.idle": "2025-05-20T20:50:34.134907Z",
     "shell.execute_reply": "2025-05-20T20:50:34.134393Z"
    },
    "papermill": {
     "duration": 0.011432,
     "end_time": "2025-05-20T20:50:34.136395",
     "exception": false,
     "start_time": "2025-05-20T20:50:34.124963",
     "status": "completed"
    },
    "tags": []
   },
   "outputs": [],
   "source": [
    "def get_label_distribution_for_image_labels(label_image_path: str) -> dict:\n",
    "    label_image = nib.load(os.path.join(TRUE_DIR, label_image_path))\n",
    "    data_arr = np.asanyarray(label_image.dataobj)\n",
    "    unique, counts = np.unique(data_arr, return_counts=True)\n",
    "\n",
    "    return {int(unique[i]): int(counts[i]) for i in range(len(unique))}"
   ]
  },
  {
   "cell_type": "code",
   "execution_count": 10,
   "id": "4a08cead",
   "metadata": {
    "execution": {
     "iopub.execute_input": "2025-05-20T20:50:34.147205Z",
     "iopub.status.busy": "2025-05-20T20:50:34.146749Z",
     "iopub.status.idle": "2025-05-20T20:50:34.150990Z",
     "shell.execute_reply": "2025-05-20T20:50:34.150507Z"
    },
    "papermill": {
     "duration": 0.011428,
     "end_time": "2025-05-20T20:50:34.152120",
     "exception": false,
     "start_time": "2025-05-20T20:50:34.140692",
     "status": "completed"
    },
    "tags": []
   },
   "outputs": [],
   "source": [
    "def get_image_with_true_labels(image_id: str) -> np.ndarray:\n",
    "    label_image = nib.load(os.path.join(TRUE_DIR, image_id))\n",
    "    data_arr = np.asanyarray(label_image.dataobj)\n",
    "    return data_arr"
   ]
  },
  {
   "cell_type": "code",
   "execution_count": 11,
   "id": "20ae7ad5",
   "metadata": {
    "execution": {
     "iopub.execute_input": "2025-05-20T20:50:34.162334Z",
     "iopub.status.busy": "2025-05-20T20:50:34.162140Z",
     "iopub.status.idle": "2025-05-20T20:50:34.165494Z",
     "shell.execute_reply": "2025-05-20T20:50:34.164776Z"
    },
    "papermill": {
     "duration": 0.00945,
     "end_time": "2025-05-20T20:50:34.166650",
     "exception": false,
     "start_time": "2025-05-20T20:50:34.157200",
     "status": "completed"
    },
    "tags": []
   },
   "outputs": [],
   "source": [
    "# 3d image"
   ]
  },
  {
   "cell_type": "code",
   "execution_count": 12,
   "id": "d1ef6e0a",
   "metadata": {
    "execution": {
     "iopub.execute_input": "2025-05-20T20:50:34.176948Z",
     "iopub.status.busy": "2025-05-20T20:50:34.176734Z",
     "iopub.status.idle": "2025-05-20T20:50:36.278845Z",
     "shell.execute_reply": "2025-05-20T20:50:36.278205Z"
    },
    "papermill": {
     "duration": 2.10859,
     "end_time": "2025-05-20T20:50:36.280153",
     "exception": false,
     "start_time": "2025-05-20T20:50:34.171563",
     "status": "completed"
    },
    "tags": []
   },
   "outputs": [
    {
     "data": {
      "text/plain": [
       "(512, 512, 240)"
      ]
     },
     "execution_count": 12,
     "metadata": {},
     "output_type": "execute_result"
    }
   ],
   "source": [
    "true_label_image = nib.load(\"workspace/test/labelsTs/true/100006_00001.nii.gz\")\n",
    "image_arr = np.asanyarray(true_label_image.dataobj)\n",
    "image_arr.shape"
   ]
  },
  {
   "cell_type": "code",
   "execution_count": 13,
   "id": "10512607",
   "metadata": {
    "execution": {
     "iopub.execute_input": "2025-05-20T20:50:36.291405Z",
     "iopub.status.busy": "2025-05-20T20:50:36.291078Z",
     "iopub.status.idle": "2025-05-20T20:50:36.295329Z",
     "shell.execute_reply": "2025-05-20T20:50:36.294682Z"
    },
    "papermill": {
     "duration": 0.01177,
     "end_time": "2025-05-20T20:50:36.296365",
     "exception": false,
     "start_time": "2025-05-20T20:50:36.284595",
     "status": "completed"
    },
    "tags": []
   },
   "outputs": [
    {
     "data": {
      "text/plain": [
       "(512, 512, 240)"
      ]
     },
     "execution_count": 13,
     "metadata": {},
     "output_type": "execute_result"
    }
   ],
   "source": [
    "image_arr.shape"
   ]
  },
  {
   "cell_type": "markdown",
   "id": "8bdac9a7",
   "metadata": {
    "papermill": {
     "duration": 0.004172,
     "end_time": "2025-05-20T20:50:36.304923",
     "exception": false,
     "start_time": "2025-05-20T20:50:36.300751",
     "status": "completed"
    },
    "tags": []
   },
   "source": [
    "predicted_label_image = np.load(\n",
    "    \"workspace/test/labelsTs/predicted/itm/LowPred/100006_00001_0000.npz\"\n",
    ")\n",
    "predicted_label_image.get(\"probabilities\").shape"
   ]
  },
  {
   "cell_type": "markdown",
   "id": "3f3f79ff",
   "metadata": {
    "papermill": {
     "duration": 0.004146,
     "end_time": "2025-05-20T20:50:36.313305",
     "exception": false,
     "start_time": "2025-05-20T20:50:36.309159",
     "status": "completed"
    },
    "tags": []
   },
   "source": [
    "file = open(\"workspace/test/labelsTs/predicted/itm/LowPred/100006_00001_0000.pkl\", \"rb\")\n",
    "\n",
    "# dump information to that file\n",
    "data = pickle.load(file)"
   ]
  },
  {
   "cell_type": "markdown",
   "id": "f5ce3aa3",
   "metadata": {
    "papermill": {
     "duration": 0.004146,
     "end_time": "2025-05-20T20:50:36.321686",
     "exception": false,
     "start_time": "2025-05-20T20:50:36.317540",
     "status": "completed"
    },
    "tags": []
   },
   "source": [
    "data"
   ]
  },
  {
   "cell_type": "markdown",
   "id": "7d67e33e",
   "metadata": {
    "papermill": {
     "duration": 0.004121,
     "end_time": "2025-05-20T20:50:36.330060",
     "exception": false,
     "start_time": "2025-05-20T20:50:36.325939",
     "status": "completed"
    },
    "tags": []
   },
   "source": [
    "# middle image slice\n",
    "image = nib.load(\"workspace/test/imagesTs/100006_00001_0000.nii.gz\")\n",
    "image_arr = np.asanyarray(image.dataobj)\n",
    "slice_index = image_arr.shape[2] // 2\n",
    "image_slice = image_arr[:, :, slice_index]\n",
    "plt.imshow(image_slice, cmap=\"gray\")\n",
    "plt.axis(\"off\")\n",
    "plt.title(\"Image slice\")\n",
    "plt.show()"
   ]
  },
  {
   "cell_type": "markdown",
   "id": "d2403573",
   "metadata": {
    "papermill": {
     "duration": 0.004129,
     "end_time": "2025-05-20T20:50:36.338420",
     "exception": false,
     "start_time": "2025-05-20T20:50:36.334291",
     "status": "completed"
    },
    "tags": []
   },
   "source": [
    "colors = [\n",
    "    \"lightgray\",  # 0: Background\n",
    "    \"red\",  # 1: PDAC lesion (make it very visible!)\n",
    "    \"blue\",  # 2: Veins\n",
    "    \"green\",  # 3: Arteries\n",
    "    \"orange\",  # 4: Pancreas parenchyma\n",
    "    \"purple\",  # 5: Pancreatic duct\n",
    "    \"brown\",  # 6: Common bile duct\n",
    "]\n",
    "cmap = ListedColormap(colors)"
   ]
  },
  {
   "cell_type": "markdown",
   "id": "3e5d695c",
   "metadata": {
    "papermill": {
     "duration": 0.004123,
     "end_time": "2025-05-20T20:50:36.346753",
     "exception": false,
     "start_time": "2025-05-20T20:50:36.342630",
     "status": "completed"
    },
    "tags": []
   },
   "source": [
    "bounds = np.arange(len(label_annotations) + 1) - 0.5  # Boundaries for discrete colors\n",
    "norm = Normalize(vmin=bounds.min(), vmax=bounds.max())"
   ]
  },
  {
   "cell_type": "markdown",
   "id": "8d5f2de8",
   "metadata": {
    "papermill": {
     "duration": 0.004279,
     "end_time": "2025-05-20T20:50:36.355248",
     "exception": false,
     "start_time": "2025-05-20T20:50:36.350969",
     "status": "completed"
    },
    "tags": []
   },
   "source": [
    "plt.figure(figsize=(8, 8))\n",
    "plt.imshow(image_slice, cmap=cmap, norm=norm)\n",
    "plt.title(f\"True Labels for Slice {slice_index}\")\n",
    "plt.colorbar(\n",
    "    ticks=range(len(label_annotations)),\n",
    "    format=plt.FuncFormatter(lambda val, loc: label_annotations.get(val, \"Unknown\")),\n",
    ")\n",
    "plt.xlabel(\"X-coordinate (pixels)\")\n",
    "plt.ylabel(\"Y-coordinate (pixels)\")\n",
    "plt.show()"
   ]
  },
  {
   "cell_type": "markdown",
   "id": "a74b842e",
   "metadata": {
    "papermill": {
     "duration": 0.004292,
     "end_time": "2025-05-20T20:50:36.363842",
     "exception": false,
     "start_time": "2025-05-20T20:50:36.359550",
     "status": "completed"
    },
    "tags": []
   },
   "source": [
    "pdac_mask = image_arr[:, :, slice_index] == 1"
   ]
  },
  {
   "cell_type": "markdown",
   "id": "69a15143",
   "metadata": {
    "papermill": {
     "duration": 0.004144,
     "end_time": "2025-05-20T20:50:36.372248",
     "exception": false,
     "start_time": "2025-05-20T20:50:36.368104",
     "status": "completed"
    },
    "tags": []
   },
   "source": [
    "plt.imshow(image_slice, cmap=cmap, norm=norm)\n",
    "\n",
    "# Plot contours of the PDAC lesion\n",
    "plt.contour(\n",
    "    pdac_mask, colors=\"black\", levels=[0.5]\n",
    ")  # Levels=[0.5] makes it plot the boundary between 0 and 1\n",
    "plt.title(f\"True Labels with PDAC Lesion Boundary (Slice {slice_index})\")\n",
    "plt.colorbar(\n",
    "    ticks=range(len(label_annotations)),\n",
    "    format=plt.FuncFormatter(lambda val, loc: label_annotations.get(val, \"Unknown\")),\n",
    ")\n",
    "plt.xlabel(\"X-coordinate (pixels)\")\n",
    "plt.ylabel(\"Y-coordinate (pixels)\")\n",
    "plt.show()"
   ]
  },
  {
   "cell_type": "markdown",
   "id": "a7563ef4",
   "metadata": {
    "papermill": {
     "duration": 0.004116,
     "end_time": "2025-05-20T20:50:36.380661",
     "exception": false,
     "start_time": "2025-05-20T20:50:36.376545",
     "status": "completed"
    },
    "tags": []
   },
   "source": [
    "pdac_only_slice = np.zeros_like(image_slice, dtype=float)\n",
    "pdac_only_slice[image_slice == 1] = 1.0  # Set PDAC pixels to 1, others to 0\n",
    "\n",
    "# Define a colormap for just the PDAC lesion (e.g., a red colormap)\n",
    "cmap_pdac = ListedColormap([\"none\", \"red\"])  # 'none' for background, 'red' for PDAC\n",
    "\n",
    "plt.figure(figsize=(8, 8))\n",
    "# Plot the full labeled image first\n",
    "plt.imshow(image_slice, cmap=cmap, norm=norm)\n",
    "# Overlay the PDAC lesion with some transparency\n",
    "plt.imshow(\n",
    "    pdac_only_slice, cmap=cmap_pdac, alpha=0.5\n",
    ")  # alpha makes it semi-transparent\n",
    "plt.title(f\"True Labels with Transparent PDAC Lesion (Slice {slice_index})\")\n",
    "plt.colorbar(\n",
    "    ticks=range(len(label_annotations)),\n",
    "    format=plt.FuncFormatter(lambda val, loc: label_annotations.get(val, \"Unknown\")),\n",
    ")\n",
    "plt.xlabel(\"X-coordinate (pixels)\")\n",
    "plt.ylabel(\"Y-coordinate (pixels)\")\n",
    "plt.show()"
   ]
  },
  {
   "cell_type": "code",
   "execution_count": 14,
   "id": "7281fe69",
   "metadata": {
    "execution": {
     "iopub.execute_input": "2025-05-20T20:50:36.390895Z",
     "iopub.status.busy": "2025-05-20T20:50:36.390510Z",
     "iopub.status.idle": "2025-05-20T20:50:36.393949Z",
     "shell.execute_reply": "2025-05-20T20:50:36.393412Z"
    },
    "papermill": {
     "duration": 0.010002,
     "end_time": "2025-05-20T20:50:36.394990",
     "exception": false,
     "start_time": "2025-05-20T20:50:36.384988",
     "status": "completed"
    },
    "tags": []
   },
   "outputs": [],
   "source": [
    "def contains_pdac_lession(label_image_file: str) -> np.ndarray:\n",
    "    label_dist = get_label_distribution_for_image_labels(label_image_file)\n",
    "    return label_dist.get(PDAC_LABEL, 0) > 0"
   ]
  },
  {
   "cell_type": "markdown",
   "id": "8069919e",
   "metadata": {
    "papermill": {
     "duration": 0.004185,
     "end_time": "2025-05-20T20:50:36.403590",
     "exception": false,
     "start_time": "2025-05-20T20:50:36.399405",
     "status": "completed"
    },
    "tags": []
   },
   "source": [
    "np.unique([contains_pdac_lession(tl) for tl in true_labels], return_counts=True)"
   ]
  },
  {
   "cell_type": "markdown",
   "id": "3031d879",
   "metadata": {
    "papermill": {
     "duration": 0.004366,
     "end_time": "2025-05-20T20:50:36.412282",
     "exception": false,
     "start_time": "2025-05-20T20:50:36.407916",
     "status": "completed"
    },
    "tags": []
   },
   "source": [
    " `You have to use the same samples for the analysis of the old model and the newly trained model`\n"
   ]
  },
  {
   "cell_type": "markdown",
   "id": "9def9d5e",
   "metadata": {
    "papermill": {
     "duration": 0.004259,
     "end_time": "2025-05-20T20:50:36.420877",
     "exception": false,
     "start_time": "2025-05-20T20:50:36.416618",
     "status": "completed"
    },
    "tags": []
   },
   "source": [
    "## ROC\n",
    "\n",
    "* get the class probability thresholds [0, 1]\n",
    "* determine if there is PDAC in the label\n",
    "* get a confusion matrix for the test data, given the threshold\n",
    "* get the true positive rate (TPR) and false positive rate (FPR)\n",
    "* plot the ROC curve for all the thresholds\n",
    "* get the area under the curve (AUC) for the ROC curve\n"
   ]
  },
  {
   "cell_type": "code",
   "execution_count": 15,
   "id": "15a91401",
   "metadata": {
    "execution": {
     "iopub.execute_input": "2025-05-20T20:50:36.431259Z",
     "iopub.status.busy": "2025-05-20T20:50:36.430912Z",
     "iopub.status.idle": "2025-05-20T20:50:36.434514Z",
     "shell.execute_reply": "2025-05-20T20:50:36.433976Z"
    },
    "papermill": {
     "duration": 0.010517,
     "end_time": "2025-05-20T20:50:36.435841",
     "exception": false,
     "start_time": "2025-05-20T20:50:36.425324",
     "status": "completed"
    },
    "tags": []
   },
   "outputs": [],
   "source": [
    "class_thresholds = np.linspace(0, 1, 100)"
   ]
  },
  {
   "cell_type": "code",
   "execution_count": 16,
   "id": "cd65b311",
   "metadata": {
    "execution": {
     "iopub.execute_input": "2025-05-20T20:50:36.446197Z",
     "iopub.status.busy": "2025-05-20T20:50:36.445793Z",
     "iopub.status.idle": "2025-05-20T21:18:29.482575Z",
     "shell.execute_reply": "2025-05-20T21:18:29.481958Z"
    },
    "papermill": {
     "duration": 1673.045132,
     "end_time": "2025-05-20T21:18:29.485414",
     "exception": false,
     "start_time": "2025-05-20T20:50:36.440282",
     "status": "completed"
    },
    "tags": []
   },
   "outputs": [],
   "source": [
    "label_distributions = {\n",
    "    label: get_label_distribution_for_image_labels(label) for label in true_labels\n",
    "}"
   ]
  },
  {
   "cell_type": "code",
   "execution_count": 17,
   "id": "f902ca08",
   "metadata": {
    "execution": {
     "iopub.execute_input": "2025-05-20T21:18:29.534234Z",
     "iopub.status.busy": "2025-05-20T21:18:29.534043Z",
     "iopub.status.idle": "2025-05-20T21:18:29.539749Z",
     "shell.execute_reply": "2025-05-20T21:18:29.539341Z"
    },
    "papermill": {
     "duration": 0.013143,
     "end_time": "2025-05-20T21:18:29.540680",
     "exception": false,
     "start_time": "2025-05-20T21:18:29.527537",
     "status": "completed"
    },
    "tags": []
   },
   "outputs": [],
   "source": [
    "# save distributions as json\n",
    "with open(\"label_distributions.json\", \"w\") as f:\n",
    "    json.dump(label_distributions, f)\n",
    "# load distributions from json\n",
    "with open(\"label_distributions.json\", \"r\") as f:\n",
    "    label_distributions = json.load(f)"
   ]
  },
  {
   "cell_type": "code",
   "execution_count": 18,
   "id": "efe1d33b",
   "metadata": {
    "execution": {
     "iopub.execute_input": "2025-05-20T21:18:29.574218Z",
     "iopub.status.busy": "2025-05-20T21:18:29.573794Z",
     "iopub.status.idle": "2025-05-20T21:18:29.578037Z",
     "shell.execute_reply": "2025-05-20T21:18:29.577607Z"
    },
    "papermill": {
     "duration": 0.010803,
     "end_time": "2025-05-20T21:18:29.579027",
     "exception": false,
     "start_time": "2025-05-20T21:18:29.568224",
     "status": "completed"
    },
    "tags": []
   },
   "outputs": [],
   "source": [
    "def get_cm_for_threshold(threshold: float) -> np.ndarray:\n",
    "    cm = np.zeros((2, 2), dtype=int)\n",
    "    for label, distribution in label_distributions.items():\n",
    "        pdac_score = (\n",
    "            predicted_pdac_scores.filter(pl.col(\"id\") == label[:-7]+\"_0000\")\n",
    "            .get_column(\"pdac_likelihood\")\n",
    "            .to_numpy()[0]\n",
    "        )\n",
    "        true_label = distribution.get(PDAC_LABEL, 0) > 0\n",
    "        predicted_label = pdac_score > threshold\n",
    "        cm[int(true_label), int(predicted_label)] += 1\n",
    "\n",
    "    return cm"
   ]
  },
  {
   "cell_type": "code",
   "execution_count": 19,
   "id": "f73bc464",
   "metadata": {
    "execution": {
     "iopub.execute_input": "2025-05-20T21:18:29.589520Z",
     "iopub.status.busy": "2025-05-20T21:18:29.589103Z",
     "iopub.status.idle": "2025-05-20T21:18:29.593428Z",
     "shell.execute_reply": "2025-05-20T21:18:29.592819Z"
    },
    "papermill": {
     "duration": 0.010929,
     "end_time": "2025-05-20T21:18:29.594419",
     "exception": false,
     "start_time": "2025-05-20T21:18:29.583490",
     "status": "completed"
    },
    "tags": []
   },
   "outputs": [],
   "source": [
    "def plot_cm(threshold: float):\n",
    "    cm = get_cm_for_threshold(threshold)\n",
    "    fig, ax = plt.subplots()\n",
    "    sns.heatmap(\n",
    "        cm,\n",
    "        annot=True,\n",
    "        fmt=\"d\",\n",
    "        cmap=\"Blues\",\n",
    "        cbar=False,\n",
    "        xticklabels=[\"No PDAC\", \"PDAC\"],\n",
    "        yticklabels=[\"No PDAC\", \"PDAC\"],\n",
    "        ax=ax,\n",
    "    )\n",
    "    ax.set_xlabel(\"Predicted Label\")\n",
    "    ax.set_ylabel(\"True Label\")\n",
    "    ax.set_title(f\"Confusion Matrix at Threshold {threshold:.2f}\")\n",
    "    plt.show()"
   ]
  },
  {
   "cell_type": "code",
   "execution_count": 20,
   "id": "61327a84",
   "metadata": {
    "execution": {
     "iopub.execute_input": "2025-05-20T21:18:29.604981Z",
     "iopub.status.busy": "2025-05-20T21:18:29.604531Z",
     "iopub.status.idle": "2025-05-20T21:18:29.683871Z",
     "shell.execute_reply": "2025-05-20T21:18:29.683385Z"
    },
    "papermill": {
     "duration": 0.086558,
     "end_time": "2025-05-20T21:18:29.685455",
     "exception": false,
     "start_time": "2025-05-20T21:18:29.598897",
     "status": "completed"
    },
    "tags": []
   },
   "outputs": [
    {
     "data": {
      "image/png": "[encoded data removed]",
      "text/plain": [
       "<Figure size 640x480 with 1 Axes>"
      ]
     },
     "metadata": {},
     "output_type": "display_data"
    }
   ],
   "source": [
    "plot_cm(0.5)"
   ]
  },
  {
   "cell_type": "code",
   "execution_count": 21,
   "id": "5fa0d7d9",
   "metadata": {
    "execution": {
     "iopub.execute_input": "2025-05-20T21:18:29.696360Z",
     "iopub.status.busy": "2025-05-20T21:18:29.696188Z",
     "iopub.status.idle": "2025-05-20T21:18:29.699550Z",
     "shell.execute_reply": "2025-05-20T21:18:29.699159Z"
    },
    "papermill": {
     "duration": 0.01014,
     "end_time": "2025-05-20T21:18:29.700508",
     "exception": false,
     "start_time": "2025-05-20T21:18:29.690368",
     "status": "completed"
    },
    "tags": []
   },
   "outputs": [],
   "source": [
    "def get_tpr_and_fpr(threshold: float) -> tuple:\n",
    "    cm = get_cm_for_threshold(threshold)\n",
    "    tn, fp, fn, tp = cm.ravel()\n",
    "    tpr = tp / (tp + fn) if (tp + fn) > 0 else 0\n",
    "    fpr = fp / (fp + tn) if (fp + tn) > 0 else 0\n",
    "    return tpr, fpr"
   ]
  },
  {
   "cell_type": "code",
   "execution_count": 22,
   "id": "07b7fd72",
   "metadata": {
    "execution": {
     "iopub.execute_input": "2025-05-20T21:18:29.711232Z",
     "iopub.status.busy": "2025-05-20T21:18:29.711060Z",
     "iopub.status.idle": "2025-05-20T21:18:29.715951Z",
     "shell.execute_reply": "2025-05-20T21:18:29.715516Z"
    },
    "papermill": {
     "duration": 0.011649,
     "end_time": "2025-05-20T21:18:29.716916",
     "exception": false,
     "start_time": "2025-05-20T21:18:29.705267",
     "status": "completed"
    },
    "tags": []
   },
   "outputs": [],
   "source": [
    "def plot_roc_with_auc_score():\n",
    "    tpr_list = []\n",
    "    fpr_list = []\n",
    "    for threshold in class_thresholds:\n",
    "        tpr, fpr = get_tpr_and_fpr(threshold)\n",
    "        tpr_list.append(tpr)\n",
    "        fpr_list.append(fpr)\n",
    "\n",
    "    auc_score = auc(tpr_list, fpr_list)\n",
    "\n",
    "    plt.figure(figsize=(8, 6))\n",
    "    plt.plot(fpr_list, tpr_list, marker=\"o\")\n",
    "    plt.plot([0, 1], [0, 1], linestyle=\"--\", color=\"gray\")  # Diagonal line\n",
    "    plt.fill_between(fpr_list, tpr_list, alpha=0.2)\n",
    "\n",
    "    # add AUC score to the plot\n",
    "    plt.text(\n",
    "        0.5,\n",
    "        0.2,\n",
    "        f\"AUC: {auc_score:.2f}\",\n",
    "        fontsize=12,\n",
    "        ha=\"center\",\n",
    "        va=\"center\",\n",
    "        bbox=dict(facecolor=\"white\", alpha=0.5),\n",
    "    )\n",
    "    plt.title(\"ROC Curve with AUC Score\")\n",
    "    plt.xlabel(\"False Positive Rate\")\n",
    "    plt.ylabel(\"True Positive Rate\")\n",
    "    plt.xlim([0.0, 1.0])\n",
    "    plt.ylim([0.0, 1.05])\n",
    "    plt.grid()\n",
    "    plt.show()"
   ]
  },
  {
   "cell_type": "code",
   "execution_count": 23,
   "id": "f005e735",
   "metadata": {
    "execution": {
     "iopub.execute_input": "2025-05-20T21:18:29.727999Z",
     "iopub.status.busy": "2025-05-20T21:18:29.727746Z",
     "iopub.status.idle": "2025-05-20T21:18:30.999043Z",
     "shell.execute_reply": "2025-05-20T21:18:30.998598Z"
    },
    "papermill": {
     "duration": 1.278685,
     "end_time": "2025-05-20T21:18:31.000393",
     "exception": false,
     "start_time": "2025-05-20T21:18:29.721708",
     "status": "completed"
    },
    "tags": []
   },
   "outputs": [
    {
     "data": {
      "image/png": "[encoded data removed]",
      "text/plain": [
       "<Figure size 800x600 with 1 Axes>"
      ]
     },
     "metadata": {},
     "output_type": "display_data"
    }
   ],
   "source": [
    "plot_roc_with_auc_score()"
   ]
  },
  {
   "cell_type": "markdown",
   "id": "022cdc79",
   "metadata": {
    "papermill": {
     "duration": 0.005484,
     "end_time": "2025-05-20T21:18:31.011140",
     "exception": false,
     "start_time": "2025-05-20T21:18:31.005656",
     "status": "completed"
    },
    "tags": []
   },
   "source": [
    "# Samples\n",
    "* get a sample with no PDAC and a sample with PDAC\n",
    "* get the predicted probability (incl. class) for each sample\n",
    "* get saggital, mid, and axial slices for each sample and plot the true labels on top\n",
    "* plot the predicted PDAC area, segmentation, for each samples\n"
   ]
  },
  {
   "cell_type": "code",
   "execution_count": 24,
   "id": "a9eba51d",
   "metadata": {
    "execution": {
     "iopub.execute_input": "2025-05-20T21:18:31.022634Z",
     "iopub.status.busy": "2025-05-20T21:18:31.022461Z",
     "iopub.status.idle": "2025-05-20T21:18:31.025504Z",
     "shell.execute_reply": "2025-05-20T21:18:31.025113Z"
    },
    "papermill": {
     "duration": 0.010236,
     "end_time": "2025-05-20T21:18:31.026431",
     "exception": false,
     "start_time": "2025-05-20T21:18:31.016195",
     "status": "completed"
    },
    "tags": []
   },
   "outputs": [],
   "source": [
    "# get samples with PDAC and without PDAC from label_distributions\n",
    "pdac_samples = [\n",
    "    label\n",
    "    for label, distribution in label_distributions.items()\n",
    "    if distribution.get(PDAC_LABEL, 0) > 0\n",
    "]\n",
    "non_pdac_samples = [\n",
    "    label\n",
    "    for label, distribution in label_distributions.items()\n",
    "    if distribution.get(PDAC_LABEL, 0) == 0\n",
    "]"
   ]
  },
  {
   "cell_type": "code",
   "execution_count": 25,
   "id": "4b923001",
   "metadata": {
    "execution": {
     "iopub.execute_input": "2025-05-20T21:18:31.038484Z",
     "iopub.status.busy": "2025-05-20T21:18:31.038145Z",
     "iopub.status.idle": "2025-05-20T21:18:31.055534Z",
     "shell.execute_reply": "2025-05-20T21:18:31.054856Z"
    },
    "papermill": {
     "duration": 0.025848,
     "end_time": "2025-05-20T21:18:31.057606",
     "exception": false,
     "start_time": "2025-05-20T21:18:31.031758",
     "status": "completed"
    },
    "tags": []
   },
   "outputs": [],
   "source": [
    "# get predicted pdac scores for pdac and non pdac samples\n",
    "pdac_scores = [\n",
    "    predicted_pdac_scores.filter(pl.col(\"id\") == label[:-7]+\"_0000\")\n",
    "    .get_column(\"pdac_likelihood\")\n",
    "    .to_numpy()[0]\n",
    "    for label in pdac_samples\n",
    "]\n",
    "non_pdac_scores = [\n",
    "    predicted_pdac_scores.filter(pl.col(\"id\") == label[:-7]+\"_0000\")\n",
    "    .get_column(\"pdac_likelihood\")\n",
    "    .to_numpy()[0]\n",
    "    for label in non_pdac_samples\n",
    "]"
   ]
  },
  {
   "cell_type": "markdown",
   "id": "a0f38739",
   "metadata": {
    "tags": [
     "papermill-error-cell-tag"
    ]
   },
   "source": [
    "<span id=\"papermill-error-cell\" style=\"color:red; font-family:Helvetica Neue, Helvetica, Arial, sans-serif; font-size:2em;\">Execution using papermill encountered an exception here and stopped:</span>"
   ]
  },
  {
   "cell_type": "code",
   "execution_count": 26,
   "id": "ab3b015b",
   "metadata": {
    "execution": {
     "iopub.execute_input": "2025-05-20T21:18:31.069400Z",
     "iopub.status.busy": "2025-05-20T21:18:31.069073Z",
     "iopub.status.idle": "2025-05-20T21:18:31.359937Z",
     "shell.execute_reply": "2025-05-20T21:18:31.359270Z"
    },
    "papermill": {
     "duration": 0.297956,
     "end_time": "2025-05-20T21:18:31.360762",
     "exception": true,
     "start_time": "2025-05-20T21:18:31.062806",
     "status": "failed"
    },
    "tags": []
   },
   "outputs": [
    {
     "ename": "ValueError",
     "evalue": "'a' cannot be empty unless no samples are taken",
     "output_type": "error",
     "traceback": [
      "\u001b[0;31m---------------------------------------------------------------------------\u001b[0m",
      "\u001b[0;31mValueError\u001b[0m                                Traceback (most recent call last)",
      "Cell \u001b[0;32mIn[26], line 4\u001b[0m\n\u001b[1;32m      2\u001b[0m random_state \u001b[38;5;241m=\u001b[39m \u001b[38;5;241m42\u001b[39m\n\u001b[1;32m      3\u001b[0m np\u001b[38;5;241m.\u001b[39mrandom\u001b[38;5;241m.\u001b[39mseed(random_state)\n\u001b[0;32m----> 4\u001b[0m pdac_sample \u001b[38;5;241m=\u001b[39m \u001b[43mnp\u001b[49m\u001b[38;5;241;43m.\u001b[39;49m\u001b[43mrandom\u001b[49m\u001b[38;5;241;43m.\u001b[39;49m\u001b[43mchoice\u001b[49m\u001b[43m(\u001b[49m\u001b[43mpdac_samples\u001b[49m\u001b[43m)\u001b[49m\n\u001b[1;32m      5\u001b[0m non_pdac_sample \u001b[38;5;241m=\u001b[39m np\u001b[38;5;241m.\u001b[39mrandom\u001b[38;5;241m.\u001b[39mchoice(non_pdac_samples)\n",
      "File \u001b[0;32mnumpy/random/mtrand.pyx:974\u001b[0m, in \u001b[0;36mnumpy.random.mtrand.RandomState.choice\u001b[0;34m()\u001b[0m\n",
      "\u001b[0;31mValueError\u001b[0m: 'a' cannot be empty unless no samples are taken"
     ]
    }
   ],
   "source": [
    "# random image for both pdac and non pdac\n",
    "random_state = 42\n",
    "np.random.seed(random_state)\n",
    "pdac_sample = np.random.choice(pdac_samples)\n",
    "non_pdac_sample = np.random.choice(non_pdac_samples)"
   ]
  },
  {
   "cell_type": "code",
   "execution_count": null,
   "id": "8798d735",
   "metadata": {
    "papermill": {
     "duration": null,
     "end_time": null,
     "exception": null,
     "start_time": null,
     "status": "pending"
    },
    "tags": []
   },
   "outputs": [],
   "source": [
    "def get_slices_for_image(image_id: str) -> dict:\n",
    "    \"\"\"Gets saggital, coronal and axial slices for a given image id\"\"\"\n",
    "    image = nib.load(os.path.join(IMAGE_DIR, image_id))\n",
    "    data_arr = np.asanyarray(image.dataobj)\n",
    "    saggital_slice = data_arr[data_arr.shape[0] // 2, :, :]\n",
    "    coronal_slice = data_arr[:, data_arr.shape[1] // 2, :]\n",
    "    axial_slice = data_arr[:, :, data_arr.shape[2] // 2]\n",
    "    return {\n",
    "        \"saggital\": saggital_slice,\n",
    "        \"coronal\": coronal_slice,\n",
    "        \"axial\": axial_slice,\n",
    "    }"
   ]
  },
  {
   "cell_type": "code",
   "execution_count": null,
   "id": "809cc63a",
   "metadata": {
    "papermill": {
     "duration": null,
     "end_time": null,
     "exception": null,
     "start_time": null,
     "status": "pending"
    },
    "tags": []
   },
   "outputs": [],
   "source": [
    "def from_label_to_training_id(label: str) -> str:\n",
    "    \"\"\"Converts label id to training id\"\"\"\n",
    "    _label = str(label)\n",
    "    _label = _label.split(\".\")\n",
    "    training_id = f\"{_label[0]}_0000.{_label[1]}.{_label[2]}\"\n",
    "    return training_id"
   ]
  },
  {
   "cell_type": "code",
   "execution_count": null,
   "id": "7619be48",
   "metadata": {
    "papermill": {
     "duration": null,
     "end_time": null,
     "exception": null,
     "start_time": null,
     "status": "pending"
    },
    "tags": []
   },
   "outputs": [],
   "source": [
    "from_label_to_training_id(non_pdac_sample)"
   ]
  },
  {
   "cell_type": "code",
   "execution_count": null,
   "id": "0e5fca0d",
   "metadata": {
    "papermill": {
     "duration": null,
     "end_time": null,
     "exception": null,
     "start_time": null,
     "status": "pending"
    },
    "tags": []
   },
   "outputs": [],
   "source": [
    "non_pdac_sample"
   ]
  },
  {
   "cell_type": "code",
   "execution_count": null,
   "id": "e297c683",
   "metadata": {
    "papermill": {
     "duration": null,
     "end_time": null,
     "exception": null,
     "start_time": null,
     "status": "pending"
    },
    "tags": []
   },
   "outputs": [],
   "source": [
    "def plot_true_and_predicted_segmentation(\n",
    "    true_image_id: str):\n",
    "    true_slices = get_slices_for_image(from_label_to_training_id(true_image_id))\n",
    "    # predicted_slices = get_slices_for_image(predicted_image_id)\n",
    "\n",
    "    fig, axes = plt.subplots(2, 3, figsize=(15, 10))\n",
    "    for i, (slice_type, true_slice) in enumerate(true_slices.items()):\n",
    "        axes[0, i].imshow(true_slice, cmap=\"gray\")\n",
    "        axes[0, i].set_title(f\"True {slice_type.capitalize()} Slice\")\n",
    "        axes[0, i].axis(\"off\")\n",
    "\n",
    "        # axes[1, i].imshow(predicted_slices[slice_type][:, :, slice_index], cmap=\"gray\")\n",
    "        # axes[1, i].set_title(f\"Predicted {slice_type.capitalize()} Slice\")\n",
    "        # axes[1, i].axis(\"off\")\n",
    "\n",
    "    plt.tight_layout()\n",
    "    plt.show()"
   ]
  },
  {
   "cell_type": "code",
   "execution_count": null,
   "id": "4b310de4",
   "metadata": {
    "papermill": {
     "duration": null,
     "end_time": null,
     "exception": null,
     "start_time": null,
     "status": "pending"
    },
    "tags": []
   },
   "outputs": [],
   "source": [
    "plot_true_and_predicted_segmentation(\n",
    "    pdac_sample\n",
    ")"
   ]
  },
  {
   "cell_type": "markdown",
   "id": "186e1457",
   "metadata": {
    "papermill": {
     "duration": null,
     "end_time": null,
     "exception": null,
     "start_time": null,
     "status": "pending"
    },
    "tags": []
   },
   "source": [
    "## Mislabelled samples\n",
    "\n",
    "* get samples where the model predicted PDAC but the label is not PDAC\n",
    "* get samples where the model predicted no PDAC but the label is PDAC\n",
    "* get the predicted (incl. class) for each sample\n",
    "* get saggital, mid, and axial slices for each sample and plot the true labels on top\n",
    "* plot the predicted PDAC area, segmentation, for each samples\n"
   ]
  },
  {
   "cell_type": "code",
   "execution_count": null,
   "id": "2d8c191f",
   "metadata": {
    "papermill": {
     "duration": null,
     "end_time": null,
     "exception": null,
     "start_time": null,
     "status": "pending"
    },
    "tags": []
   },
   "outputs": [],
   "source": [
    "# get a false negative sample\n",
    "false_negative_samples = [\n",
    "    label\n",
    "    for label, distribution in label_distributions.items()\n",
    "    if distribution.get(PDAC_LABEL, 0) > 0\n",
    "    and predicted_pdac_scores.filter(pl.col(\"id\") == label[:-7]+\"_0000\")\n",
    "    .get_column(\"pdac_likelihood\")\n",
    "    .to_numpy()[0]\n",
    "    < 0.5\n",
    "]\n",
    "# get a false positive sample\n",
    "false_positive_samples = [\n",
    "    label\n",
    "    for label, distribution in label_distributions.items()\n",
    "    if distribution.get(PDAC_LABEL, 0) == 0\n",
    "    and predicted_pdac_scores.filter(pl.col(\"id\") == label[:-7]+\"_0000\")\n",
    "    .get_column(\"pdac_likelihood\")\n",
    "    .to_numpy()[0]\n",
    "    > 0.5\n",
    "]"
   ]
  },
  {
   "cell_type": "code",
   "execution_count": null,
   "id": "a0454d38",
   "metadata": {
    "papermill": {
     "duration": null,
     "end_time": null,
     "exception": null,
     "start_time": null,
     "status": "pending"
    },
    "tags": []
   },
   "outputs": [],
   "source": [
    "# random sample\n",
    "random_false_negative_sample = np.random.choice(false_negative_samples)\n",
    "random_false_positive_sample = np.random.choice(false_positive_samples)"
   ]
  }
 ],
 "metadata": {
  "kernelspec": {
   "display_name": "pdac_tversky",
   "language": "python",
   "name": "python3"
  },
  "language_info": {
   "codemirror_mode": {
    "name": "ipython",
    "version": 3
   },
   "file_extension": ".py",
   "mimetype": "text/x-python",
   "name": "python",
   "nbconvert_exporter": "python",
   "pygments_lexer": "ipython3",
   "version": "3.10.16"
  },
  "papermill": {
   "default_parameters": {},
   "duration": 1679.791305,
   "end_time": "2025-05-20T21:18:31.887411",
   "environment_variables": {},
   "exception": true,
   "input_path": "/home/bobby/repos/PDAC_Detection_forked/test_model.ipynb",
   "output_path": "output.ipynb",
   "parameters": {},
   "start_time": "2025-05-20T20:50:32.096106",
   "version": "2.6.0"
  }
 },
 "nbformat": 4,
 "nbformat_minor": 5
}