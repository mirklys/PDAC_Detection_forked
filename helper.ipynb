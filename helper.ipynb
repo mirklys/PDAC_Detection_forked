{
 "cells": [
  {
   "cell_type": "code",
   "execution_count": 1,
   "id": "a40f8859",
   "metadata": {},
   "outputs": [],
   "source": [
    "import os\n",
    "import json"
   ]
  },
  {
   "cell_type": "code",
   "execution_count": 2,
   "id": "6ae775a1",
   "metadata": {},
   "outputs": [],
   "source": [
    "split_file = os.path.join(\"workspace\", \"nnUNet_preprocessed\", \"splits_final.json\")\n",
    "data_dir = \"data\"\n",
    "imagesTr_dir = \"workspace/train/imagesTr\"\n",
    "labelsTr_dir = \"workspace/train/labelsTr\"\n",
    "labelsTs_true_dir = os.path.join(\"workspace/test/labelsTs\", \"true\")\n",
    "manual_labels = \"panorama_labels/manual_labels\"\n",
    "automatic_labels = \"panorama_labels/automatic_labels\"\n",
    "os.makedirs(imagesTr_dir, exist_ok=True)\n",
    "os.makedirs(labelsTr_dir, exist_ok=True)\n",
    "os.makedirs(labelsTs_true_dir, exist_ok=True)"
   ]
  },
  {
   "cell_type": "code",
   "execution_count": 3,
   "id": "8d07662e",
   "metadata": {},
   "outputs": [],
   "source": [
    "with open(split_file, \"r\") as f:\n",
    "    splits = json.load(f)\n",
    "\n",
    "split0 = splits[0]\n",
    "train_ids = split0.get(\"train\", [])\n",
    "val_ids = split0.get(\"val\", [])"
   ]
  },
  {
   "cell_type": "code",
   "execution_count": 4,
   "id": "f3ec769a",
   "metadata": {},
   "outputs": [],
   "source": [
    "all_labels_full = [\n",
    "    os.path.join(manual_labels, f) for f in os.listdir(manual_labels)\n",
    "] + [os.path.join(automatic_labels, f) for f in os.listdir(automatic_labels)]"
   ]
  },
  {
   "cell_type": "code",
   "execution_count": 5,
   "id": "75b29524",
   "metadata": {},
   "outputs": [],
   "source": [
    "def get_images(data: str | list, ids: list) -> list:\n",
    "    \"\"\"Gets all the images/labels from the specified folder and needed ids.\"\"\"\n",
    "    if isinstance(data, str):\n",
    "        listing = [os.path.join(data, f) for f in os.listdir(data)]\n",
    "    else:\n",
    "        listing = data\n",
    "\n",
    "    if not listing:\n",
    "        raise ValueError(f\"The directory {data} is empty or does not exist.\")\n",
    "\n",
    "    prefixes = tuple(ids)\n",
    "    images = [file for file in listing if file.split(\"/\")[-1].startswith(prefixes)]\n",
    "\n",
    "    if not images:\n",
    "        raise ValueError(f\"No images found in {data} for the specified fold.\")\n",
    "    return images"
   ]
  },
  {
   "cell_type": "code",
   "execution_count": 6,
   "id": "61d94da6",
   "metadata": {},
   "outputs": [],
   "source": [
    "import shutil"
   ]
  },
  {
   "cell_type": "code",
   "execution_count": 7,
   "id": "47e9583f",
   "metadata": {},
   "outputs": [],
   "source": [
    "def move_images_to_folder(images: list, folder: str):\n",
    "    for image in images:\n",
    "        image_name = os.path.basename(image)\n",
    "        new_image_path = os.path.join(folder, image_name)\n",
    "        if not os.path.exists(new_image_path):\n",
    "            shutil.copy(image, new_image_path)"
   ]
  },
  {
   "cell_type": "code",
   "execution_count": 8,
   "id": "099e2b8e",
   "metadata": {},
   "outputs": [],
   "source": [
    "train_labels = get_images(all_labels_full, train_ids)"
   ]
  },
  {
   "cell_type": "code",
   "execution_count": 9,
   "id": "56a2c31d",
   "metadata": {},
   "outputs": [],
   "source": [
    "move_images_to_folder(train_labels, labelsTr_dir)"
   ]
  },
  {
   "cell_type": "code",
   "execution_count": 10,
   "id": "03950094",
   "metadata": {},
   "outputs": [],
   "source": [
    "test_labels = get_images(all_labels_full, val_ids)"
   ]
  },
  {
   "cell_type": "code",
   "execution_count": 11,
   "id": "1fcff3ee",
   "metadata": {},
   "outputs": [],
   "source": [
    "move_images_to_folder(test_labels, labelsTs_true_dir)"
   ]
  },
  {
   "cell_type": "code",
   "execution_count": 12,
   "id": "4ea53b36",
   "metadata": {},
   "outputs": [],
   "source": [
    "train_images = get_images(data_dir, train_ids)"
   ]
  },
  {
   "cell_type": "code",
   "execution_count": 13,
   "id": "d51f37fb",
   "metadata": {},
   "outputs": [],
   "source": [
    "move_images_to_folder(train_images, imagesTr_dir)"
   ]
  }
 ],
 "metadata": {
  "kernelspec": {
   "display_name": "pdac_tversky",
   "language": "python",
   "name": "python3"
  },
  "language_info": {
   "codemirror_mode": {
    "name": "ipython",
    "version": 3
   },
   "file_extension": ".py",
   "mimetype": "text/x-python",
   "name": "python",
   "nbconvert_exporter": "python",
   "pygments_lexer": "ipython3",
   "version": "3.10.16"
  }
 },
 "nbformat": 4,
 "nbformat_minor": 5
}
